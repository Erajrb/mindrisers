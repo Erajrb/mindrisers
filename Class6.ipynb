{
 "cells": [
  {
   "cell_type": "markdown",
   "id": "62d8edc1-3742-4332-9b6c-ed890536b956",
   "metadata": {},
   "source": [
    "### <font color = 'red'> Class 6"
   ]
  },
  {
   "cell_type": "markdown",
   "id": "fb38fd2a-a3ef-4147-8ed1-eed454e346ae",
   "metadata": {},
   "source": [
    "#### Class and Inheritance"
   ]
  },
  {
   "cell_type": "code",
   "execution_count": 24,
   "id": "90d3f1f3-27cb-4bab-b144-5c19fea4a8a1",
   "metadata": {},
   "outputs": [],
   "source": [
    "class Student:\n",
    "    school = 'School of data science'"
   ]
  },
  {
   "cell_type": "code",
   "execution_count": 26,
   "id": "d1efd91e-c163-495d-8f96-d1ba70ff1322",
   "metadata": {},
   "outputs": [
    {
     "name": "stdout",
     "output_type": "stream",
     "text": [
      "School of data science\n",
      "School of data science\n"
     ]
    }
   ],
   "source": [
    "student1 = Student()\n",
    "student2 = Student()\n",
    "print(student1.school)\n",
    "print(student2.school)"
   ]
  },
  {
   "cell_type": "code",
   "execution_count": 28,
   "id": "5704d880-4f21-4f55-86e0-1e873ad3e346",
   "metadata": {},
   "outputs": [],
   "source": [
    "#instance variables are normally defined inside the _init_ method. self.name and self.level are instances"
   ]
  },
  {
   "cell_type": "code",
   "execution_count": 30,
   "id": "735c9c39-4b32-45a7-b0cf-b98268581da9",
   "metadata": {},
   "outputs": [],
   "source": [
    "class Student:\n",
    "    def __init__(self,name,level):\n",
    "        self.name = name\n",
    "        self.level = level"
   ]
  },
  {
   "cell_type": "code",
   "execution_count": 32,
   "id": "3e9d16f8-4b29-4e8d-80d7-96f7c57aaf1a",
   "metadata": {},
   "outputs": [],
   "source": [
    "# now we insantiate two instances of the class. We pass two arguments which are passed to the constructor."
   ]
  },
  {
   "cell_type": "code",
   "execution_count": 42,
   "id": "6c2ec3ea-d050-4eb0-9253-3fc0197b96eb",
   "metadata": {},
   "outputs": [
    {
     "name": "stdout",
     "output_type": "stream",
     "text": [
      "Katie Holmes\n",
      "1\n",
      "Mike Tyson\n",
      "3\n"
     ]
    }
   ],
   "source": [
    "student1 = Student('Katie Holmes',1)\n",
    "student2 = Student('Mike Tyson',3)\n",
    "print(student1.name)\n",
    "print(student1.level)\n",
    "print(student2.name)\n",
    "print(student2.level)"
   ]
  },
  {
   "cell_type": "code",
   "execution_count": 44,
   "id": "00f964da-962c-4f1c-b5e0-1d2aaa5f8808",
   "metadata": {},
   "outputs": [],
   "source": [
    "class Student:\n",
    "    def __init__(self,name,level):\n",
    "        self.name = name\n",
    "        self.level = level\n",
    "    def __str__(self):\n",
    "        return '{} studies in level {}'.format(self.name,self.level)"
   ]
  },
  {
   "cell_type": "code",
   "execution_count": 50,
   "id": "4bea7a96-41f4-4ea4-bfaf-57a0d363a2c3",
   "metadata": {},
   "outputs": [
    {
     "name": "stdout",
     "output_type": "stream",
     "text": [
      "Katie Holmes studies in level 1\n",
      "Mike Tyson studies in level 3\n"
     ]
    }
   ],
   "source": [
    "student1 = Student('Katie Holmes',1)\n",
    "student2 = Student('Mike Tyson',3)\n",
    "print(student1)\n",
    "print(student2)"
   ]
  },
  {
   "cell_type": "code",
   "execution_count": 54,
   "id": "b1b29560-1461-44ad-834b-e1b78c29ab0d",
   "metadata": {},
   "outputs": [],
   "source": [
    "class Student:\n",
    "    def __init__(self,name,level):\n",
    "        self.name = name\n",
    "        self.level = level\n",
    "    def __str__(self):\n",
    "        return '{} studies in level {}'.format(self.name,self.level)\n",
    "    def level_up(self):\n",
    "        self.level += 1    "
   ]
  },
  {
   "cell_type": "code",
   "execution_count": 64,
   "id": "ba43ec23-c91a-4d87-9d4d-6eacf7ae1929",
   "metadata": {},
   "outputs": [
    {
     "name": "stdout",
     "output_type": "stream",
     "text": [
      "Sam Smith studies in level 1\n",
      "Tom Cruise studies in level 3\n"
     ]
    }
   ],
   "source": [
    "sam = Student('Sam Smith',1)\n",
    "tom = Student ('Tom Cruise',3)\n",
    "student1 = Student('Katie Holmes',1)\n",
    "student2 = Student('Mike Tyson',3)\n",
    "print (sam)\n",
    "print (tom)"
   ]
  },
  {
   "cell_type": "code",
   "execution_count": 66,
   "id": "f8dd97d3-c588-425e-b4e0-8aece2e96e79",
   "metadata": {},
   "outputs": [
    {
     "name": "stdout",
     "output_type": "stream",
     "text": [
      "Sam Smith studies in level 2\n",
      "Tom Cruise studies in level 3\n"
     ]
    }
   ],
   "source": [
    "sam.level_up()\n",
    "print(sam)\n",
    "print(tom)"
   ]
  },
  {
   "cell_type": "code",
   "execution_count": 68,
   "id": "439e1d81-dfaa-4b6d-abd7-db8f52463107",
   "metadata": {},
   "outputs": [
    {
     "name": "stdout",
     "output_type": "stream",
     "text": [
      "Katie Holmes studies in level 2\n"
     ]
    }
   ],
   "source": [
    "student1.level_up()\n",
    "print(student1)"
   ]
  },
  {
   "cell_type": "code",
   "execution_count": 76,
   "id": "b015644f-8663-4624-9f94-a789d3fa665e",
   "metadata": {},
   "outputs": [],
   "source": [
    "class Rectangle:\n",
    "    def __init__ (self,color,filled,width,length):  #constructor\n",
    "        self.color = color\n",
    "        self.filled = filled\n",
    "        self.width = width\n",
    "        self.length = length\n",
    "    \n",
    "    def get_color(self):                #methods\n",
    "        return self.color\n",
    "    \n",
    "    def set_color(self,color):\n",
    "        self.color = color\n",
    "    \n",
    "    def is_filled(self,):\n",
    "        return self.filled\n",
    "    \n",
    "    def set_filled(self,filled):\n",
    "        self.filled = filled\n",
    "    \n",
    "    def get_area(self):\n",
    "        return self.width * self.length\n",
    "\n",
    "class Circle:                                       #circle class\n",
    "    def __init__(self,color,filled,radius):\n",
    "        self.color = color\n",
    "        self.filled = filled\n",
    "        self.radius = radius\n",
    "    \n",
    "    def get_color(self):\n",
    "        return self.color\n",
    "    \n",
    "    def set_color(self,color):\n",
    "        self.color = color\n",
    "    \n",
    "    def is_filled(self,):\n",
    "        return self.filled\n",
    "    \n",
    "    def set_filled(self,filled):\n",
    "        self.filled = filled\n",
    "    \n",
    "    def get_area(self):\n",
    "        return math.pi * self.radius ** 2    "
   ]
  },
  {
   "cell_type": "code",
   "execution_count": 79,
   "id": "ee84a0e8-51f5-400b-9685-54895df3de79",
   "metadata": {},
   "outputs": [],
   "source": [
    "# by using inheritance we can create a parent class to define the common attributes"
   ]
  },
  {
   "cell_type": "code",
   "execution_count": 99,
   "id": "15b8bbce-7984-446c-8c01-53c2e0c9174b",
   "metadata": {},
   "outputs": [
    {
     "name": "stdout",
     "output_type": "stream",
     "text": [
      "Area of rectangle is  26.25\n",
      "Perimeter of rectangle is  26.0\n",
      "Color of rectangle is  black\n",
      "Is the recangle filled?  False\n",
      "Is the recangle filled?  True\n",
      "color of rectangle is  orange\n"
     ]
    }
   ],
   "source": [
    "import math\n",
    "class Shape:\n",
    "    def __init__(self,color='black',filled=False):\n",
    "        self.color = color\n",
    "        self.filled = filled\n",
    "    def get_color(self):\n",
    "        return self.color\n",
    "    def set_color(self,color):\n",
    "        self.color = color\n",
    "    def get_filled(self):\n",
    "        return self.filled\n",
    "    def set_filled(self,filled):\n",
    "        self.filled = filled\n",
    "\n",
    "class Rectangle(Shape):\n",
    "    def __init__(self,length,width):\n",
    "        super().__init__()\n",
    "        self.length = length\n",
    "        self.width = width\n",
    "    def get_length(self):\n",
    "        return self.length\n",
    "    def set_length(self,length):\n",
    "        self.length = length\n",
    "    def get_width(self):\n",
    "        return self.width\n",
    "    def set_width(self,width):\n",
    "        self.width = width\n",
    "    def get_area(self):\n",
    "        return self.length * self.width\n",
    "    def get_perimeter(self):\n",
    "        return 2 * (self.length + self.width)\n",
    "\n",
    "class Circle(Shape):\n",
    "    def __init__(self,radius):\n",
    "        super().__init__()\n",
    "        self.radius = radius\n",
    "    def get_radius(self):\n",
    "        return self.radius\n",
    "    def set_radius(self,radius):\n",
    "        self.radius = radius\n",
    "    def get_area(self):\n",
    "        return math.pi * self.radius ** 2\n",
    "    def get_perimeter(self):\n",
    "        return 2 * math.pi * self.radius\n",
    "\n",
    "r1 = Rectangle(10.5,2.5)\n",
    "\n",
    "print ('Area of rectangle is ',r1.get_area())\n",
    "print ('Perimeter of rectangle is ',r1.get_perimeter())\n",
    "print('Color of rectangle is ',r1.get_color())\n",
    "print ('Is the recangle filled? ',r1.get_filled())\n",
    "r1.set_filled(True)\n",
    "print ('Is the recangle filled? ',r1.get_filled())\n",
    "r1.set_color('orange')\n",
    "print ('color of rectangle is ',r1.get_color())"
   ]
  },
  {
   "cell_type": "code",
   "execution_count": 109,
   "id": "b5837141-5f98-4870-9ed3-f25c45e4ca12",
   "metadata": {},
   "outputs": [
    {
     "name": "stdout",
     "output_type": "stream",
     "text": [
      "Area of circle is  452.39\n",
      "Circumference of circle is  75.40\n",
      "Color of circle is  black\n",
      "Is the circle filled?  False\n",
      "Is the recangle filled?  True\n",
      "color of rectangle is  orange\n"
     ]
    }
   ],
   "source": [
    "c1 = Circle (12)\n",
    "print ('Area of circle is ',format(c1.get_area(),'0.2f'))\n",
    "print ('Circumference of circle is ',format(c1.get_perimeter(),'0.2f'))\n",
    "print ('Color of circle is ',c1.get_color())\n",
    "print ('Is the circle filled? ',c1.get_filled())\n",
    "c1.set_filled(True)\n",
    "print ('Is the recangle filled? ',r1.get_filled())\n",
    "c1.set_color('orange')\n",
    "print ('color of rectangle is ',r1.get_color())"
   ]
  },
  {
   "cell_type": "code",
   "execution_count": null,
   "id": "fc564f95-a04f-4cfa-974a-25f51d845d62",
   "metadata": {},
   "outputs": [],
   "source": []
  }
 ],
 "metadata": {
  "kernelspec": {
   "display_name": "Python 3 (ipykernel)",
   "language": "python",
   "name": "python3"
  },
  "language_info": {
   "codemirror_mode": {
    "name": "ipython",
    "version": 3
   },
   "file_extension": ".py",
   "mimetype": "text/x-python",
   "name": "python",
   "nbconvert_exporter": "python",
   "pygments_lexer": "ipython3",
   "version": "3.12.4"
  }
 },
 "nbformat": 4,
 "nbformat_minor": 5
}
