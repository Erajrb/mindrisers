{
 "cells": [
  {
   "cell_type": "markdown",
   "id": "56932c12-12bf-4ba4-8a06-5980fd060e2f",
   "metadata": {},
   "source": [
    "## <font color = 'red'> Homework 1"
   ]
  },
  {
   "cell_type": "markdown",
   "id": "535e1ae6-2937-4375-b52c-e3349bea1858",
   "metadata": {},
   "source": [
    "#### Exercise 1"
   ]
  },
  {
   "cell_type": "markdown",
   "id": "c304b266-a46c-4a03-a555-0632216840c5",
   "metadata": {},
   "source": [
    "##### Input name to display 'Hello name'"
   ]
  },
  {
   "cell_type": "code",
   "execution_count": 14,
   "id": "51bdda68-ab77-4b7a-b05d-e577e151389d",
   "metadata": {},
   "outputs": [
    {
     "name": "stdin",
     "output_type": "stream",
     "text": [
      "Enter Your Name:  Eraj\n"
     ]
    },
    {
     "name": "stdout",
     "output_type": "stream",
     "text": [
      "Hello Eraj\n"
     ]
    }
   ],
   "source": [
    "name = input ('Enter Your Name: ')\n",
    "print ('Hello',name)"
   ]
  },
  {
   "cell_type": "markdown",
   "id": "e84fc570-e7ba-4328-8269-09a48c164311",
   "metadata": {},
   "source": [
    "#### Exercise 2"
   ]
  },
  {
   "cell_type": "markdown",
   "id": "62937152-3724-44b0-beeb-72a7c2131f84",
   "metadata": {},
   "source": [
    "##### Input hours and rate to calculate gross pay"
   ]
  },
  {
   "cell_type": "code",
   "execution_count": 18,
   "id": "77e2b9b0-19c2-4ddf-9aa6-06dfba1571e2",
   "metadata": {},
   "outputs": [
    {
     "name": "stdin",
     "output_type": "stream",
     "text": [
      "Enter the amount of hours:  8\n",
      "Enter the rate of pay per hour:  20\n"
     ]
    },
    {
     "name": "stdout",
     "output_type": "stream",
     "text": [
      "Your gross pay for 8 hours is: 160\n"
     ]
    }
   ],
   "source": [
    "hours = int(input ('Enter the amount of hours: '))\n",
    "rate = int(input('Enter the rate of pay per hour: '))\n",
    "pay = rate * hours\n",
    "print ('Your gross pay for',hours,'hours is:',pay)"
   ]
  },
  {
   "cell_type": "markdown",
   "id": "ad2d56a6-1696-44ad-b471-203b545b4e11",
   "metadata": {},
   "source": [
    "#### Exercise 3"
   ]
  },
  {
   "cell_type": "code",
   "execution_count": 22,
   "id": "65a03354-6893-47e6-bdbe-8a6589e2ab4f",
   "metadata": {},
   "outputs": [],
   "source": [
    "width = 17\n",
    "height = 12.0"
   ]
  },
  {
   "cell_type": "markdown",
   "id": "604f1860-906f-4731-8da2-977b54361bf0",
   "metadata": {},
   "source": [
    "##### Find the value of the expressions and type of the value"
   ]
  },
  {
   "cell_type": "code",
   "execution_count": 55,
   "id": "bd97241d-a771-410f-8c4a-509d74b9e524",
   "metadata": {},
   "outputs": [
    {
     "name": "stdout",
     "output_type": "stream",
     "text": [
      "8.5\n",
      "<class 'float'>\n"
     ]
    }
   ],
   "source": [
    "w = width/2\n",
    "print(w)\n",
    "print(type(w))"
   ]
  },
  {
   "cell_type": "code",
   "execution_count": 59,
   "id": "8543d8d9-9ab1-4393-883d-5564eedff9e3",
   "metadata": {},
   "outputs": [
    {
     "name": "stdout",
     "output_type": "stream",
     "text": [
      "8.5\n",
      "<class 'float'>\n"
     ]
    }
   ],
   "source": [
    "w1 = width/2.0\n",
    "print(w1)\n",
    "print(type(w1))"
   ]
  },
  {
   "cell_type": "code",
   "execution_count": 61,
   "id": "4bdcda6f-b0e7-4958-a1e8-76bc2e1bd48b",
   "metadata": {},
   "outputs": [
    {
     "name": "stdout",
     "output_type": "stream",
     "text": [
      "4.0\n",
      "<class 'float'>\n"
     ]
    }
   ],
   "source": [
    "h = height/3\n",
    "print(h)\n",
    "print(type(h))"
   ]
  },
  {
   "cell_type": "code",
   "execution_count": 63,
   "id": "38fa78b2-e5d7-49b2-84ca-edb2e07ae173",
   "metadata": {},
   "outputs": [
    {
     "name": "stdout",
     "output_type": "stream",
     "text": [
      "11\n",
      "<class 'int'>\n"
     ]
    }
   ],
   "source": [
    "x= 1 + 2 * 5\n",
    "print(x)\n",
    "print(type(x))"
   ]
  },
  {
   "cell_type": "markdown",
   "id": "6b61ffdc-bf0a-435e-a8c4-56e324e85b1b",
   "metadata": {},
   "source": [
    "#### Exercise 4"
   ]
  },
  {
   "cell_type": "markdown",
   "id": "833d3d50-585e-4df8-ad04-94fba234782b",
   "metadata": {},
   "source": [
    "##### Input the temperature in degrees and print the temperature converted to fahrenheit "
   ]
  },
  {
   "cell_type": "code",
   "execution_count": 78,
   "id": "087afc19-d725-412d-ae45-c5b9ec80bc7f",
   "metadata": {},
   "outputs": [
    {
     "name": "stdin",
     "output_type": "stream",
     "text": [
      "Enter the temperature in Celcius:  30\n"
     ]
    },
    {
     "name": "stdout",
     "output_type": "stream",
     "text": [
      "The temperature in fahrenheit is 86.0 degree fahrenheit\n"
     ]
    }
   ],
   "source": [
    "tempc = float(input('Enter the temperature in Celcius: '))\n",
    "tempf = (tempc * 9/5) + 32\n",
    "print ('The temperature in fahrenheit is',tempf,'degree fahrenheit')"
   ]
  }
 ],
 "metadata": {
  "kernelspec": {
   "display_name": "Python 3 (ipykernel)",
   "language": "python",
   "name": "python3"
  },
  "language_info": {
   "codemirror_mode": {
    "name": "ipython",
    "version": 3
   },
   "file_extension": ".py",
   "mimetype": "text/x-python",
   "name": "python",
   "nbconvert_exporter": "python",
   "pygments_lexer": "ipython3",
   "version": "3.12.4"
  }
 },
 "nbformat": 4,
 "nbformat_minor": 5
}
