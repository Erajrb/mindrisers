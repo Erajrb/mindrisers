{
 "cells": [
  {
   "cell_type": "markdown",
   "id": "54af6c75-6d8e-4287-b4af-2a0b0cc52e90",
   "metadata": {},
   "source": [
    "### <font color = 'red'> Class 12"
   ]
  },
  {
   "cell_type": "markdown",
   "id": "ccee9111-f72b-4557-88a3-1a15a86a030c",
   "metadata": {},
   "source": [
    "#### Sorting arrays using numpy"
   ]
  },
  {
   "cell_type": "code",
   "execution_count": 5,
   "id": "def8ae85-0621-4e33-b9ae-04084c1d86f4",
   "metadata": {},
   "outputs": [],
   "source": [
    "import numpy as np\n",
    "import pandas as pd"
   ]
  },
  {
   "cell_type": "code",
   "execution_count": 9,
   "id": "742f27cb-1ba7-4a7e-9d17-da5c8840effe",
   "metadata": {},
   "outputs": [
    {
     "data": {
      "text/plain": [
       "array([[ 0,  1,  2,  3],\n",
       "       [ 4,  5,  6,  7],\n",
       "       [ 8,  9, 10, 11]])"
      ]
     },
     "execution_count": 9,
     "metadata": {},
     "output_type": "execute_result"
    }
   ],
   "source": [
    "x = np.arange(12).reshape((3,4))\n",
    "x"
   ]
  },
  {
   "cell_type": "code",
   "execution_count": 11,
   "id": "d1e07e96-8583-4947-9dc9-49811f92370e",
   "metadata": {},
   "outputs": [
    {
     "data": {
      "text/plain": [
       "array([ 3,  4, -3,  0,  8])"
      ]
     },
     "execution_count": 11,
     "metadata": {},
     "output_type": "execute_result"
    }
   ],
   "source": [
    "x = np.array([3,4,-3,0,8])\n",
    "x"
   ]
  },
  {
   "cell_type": "code",
   "execution_count": 13,
   "id": "9c180e54-9591-423d-ace8-af570d29ca2e",
   "metadata": {},
   "outputs": [
    {
     "data": {
      "text/plain": [
       "array([-3,  0,  3,  4,  8])"
      ]
     },
     "execution_count": 13,
     "metadata": {},
     "output_type": "execute_result"
    }
   ],
   "source": [
    "np.sort(x)"
   ]
  },
  {
   "cell_type": "code",
   "execution_count": 21,
   "id": "a157f0a8-f9af-440d-89c0-12936add9c52",
   "metadata": {},
   "outputs": [
    {
     "data": {
      "text/plain": [
       "array([-3,  0,  3,  4,  8])"
      ]
     },
     "execution_count": 21,
     "metadata": {},
     "output_type": "execute_result"
    }
   ],
   "source": [
    "# original array unchanged when using np.sort()\n",
    "x"
   ]
  },
  {
   "cell_type": "code",
   "execution_count": 25,
   "id": "63c2ee43-fc89-4746-8e72-95c3d3e38b44",
   "metadata": {},
   "outputs": [
    {
     "data": {
      "text/plain": [
       "array([-3,  0,  3,  4,  8])"
      ]
     },
     "execution_count": 25,
     "metadata": {},
     "output_type": "execute_result"
    }
   ],
   "source": [
    "#if you want to sort the array in place in python it changes the original array\n",
    "x.sort()\n",
    "x"
   ]
  },
  {
   "cell_type": "code",
   "execution_count": 27,
   "id": "cfa4dfcc-6acd-4977-83cd-1aff483643c5",
   "metadata": {},
   "outputs": [
    {
     "data": {
      "text/plain": [
       "array([2, 4, 0, 1, 3], dtype=int64)"
      ]
     },
     "execution_count": 27,
     "metadata": {},
     "output_type": "execute_result"
    }
   ],
   "source": [
    "x = np.array([2,3,-2,7,0])\n",
    "np.argsort(x)"
   ]
  },
  {
   "cell_type": "markdown",
   "id": "00ce3122-7c1d-4d51-bb2d-23d291adfff6",
   "metadata": {},
   "source": [
    "##### Sorting along rows and column"
   ]
  },
  {
   "cell_type": "code",
   "execution_count": 37,
   "id": "61046b2c-3716-4f8a-869f-7ddbe36cd291",
   "metadata": {},
   "outputs": [
    {
     "data": {
      "text/plain": [
       "array([[6, 3, 7, 4, 6, 9],\n",
       "       [2, 6, 7, 4, 3, 7],\n",
       "       [7, 2, 5, 4, 1, 7],\n",
       "       [5, 1, 4, 0, 9, 5]])"
      ]
     },
     "execution_count": 37,
     "metadata": {},
     "output_type": "execute_result"
    }
   ],
   "source": [
    "rand = np.random.RandomState(42)\n",
    "X = rand.randint(0,10,(4,6))\n",
    "X"
   ]
  },
  {
   "cell_type": "code",
   "execution_count": 49,
   "id": "92b8bb95-2edc-4da0-b39d-585c00091b86",
   "metadata": {},
   "outputs": [
    {
     "data": {
      "text/plain": [
       "array([[2, 1, 4, 0, 1, 5],\n",
       "       [5, 2, 5, 4, 3, 7],\n",
       "       [6, 3, 7, 4, 6, 7],\n",
       "       [7, 6, 7, 4, 9, 9]])"
      ]
     },
     "execution_count": 49,
     "metadata": {},
     "output_type": "execute_result"
    }
   ],
   "source": [
    "# axis = 0 is column\n",
    "np.sort(X, axis = 0)"
   ]
  },
  {
   "cell_type": "code",
   "execution_count": 53,
   "id": "85a6a6e9-2157-4f7e-a8b9-a984016371bd",
   "metadata": {},
   "outputs": [
    {
     "data": {
      "text/plain": [
       "array([[3, 4, 6, 6, 7, 9],\n",
       "       [2, 3, 4, 6, 7, 7],\n",
       "       [1, 2, 4, 5, 7, 7],\n",
       "       [0, 1, 4, 5, 5, 9]])"
      ]
     },
     "execution_count": 53,
     "metadata": {},
     "output_type": "execute_result"
    }
   ],
   "source": [
    "# axis = 1 is row\n",
    "np.sort(X, axis = 1)"
   ]
  },
  {
   "cell_type": "code",
   "execution_count": 55,
   "id": "24b54892-ca04-48d2-a5b4-6a32d5b2e0bf",
   "metadata": {},
   "outputs": [
    {
     "data": {
      "text/plain": [
       "array([[3, 4, 6, 6, 7, 9],\n",
       "       [2, 3, 4, 6, 7, 7],\n",
       "       [1, 2, 4, 5, 7, 7],\n",
       "       [0, 1, 4, 5, 5, 9]])"
      ]
     },
     "execution_count": 55,
     "metadata": {},
     "output_type": "execute_result"
    }
   ],
   "source": [
    "np.sort(X)"
   ]
  },
  {
   "cell_type": "code",
   "execution_count": 65,
   "id": "25cb3fb2-4672-4991-a69c-6e2950cc3a44",
   "metadata": {},
   "outputs": [
    {
     "name": "stdout",
     "output_type": "stream",
     "text": [
      "[7 2 3 1 6 5 4]\n"
     ]
    },
    {
     "data": {
      "text/plain": [
       "array([2, 1, 3, 4, 6, 5, 7])"
      ]
     },
     "execution_count": 65,
     "metadata": {},
     "output_type": "execute_result"
    }
   ],
   "source": [
    "# Partial Sorting\n",
    "x = np.array([7,2,3,1,6,5,4])\n",
    "print(x)\n",
    "np.partition(x,3) # number greater than 3 goes to right of the array whereas smaller than 3 are on the left position of array"
   ]
  },
  {
   "cell_type": "code",
   "execution_count": 69,
   "id": "72b08323-591a-4584-8eeb-ae6c85305ee1",
   "metadata": {},
   "outputs": [
    {
     "data": {
      "text/plain": [
       "array([6, 7, 5, 4, 2, 3, 1])"
      ]
     },
     "execution_count": 69,
     "metadata": {},
     "output_type": "execute_result"
    }
   ],
   "source": [
    "-np.partition(-x,3) #negative partition"
   ]
  },
  {
   "cell_type": "markdown",
   "id": "75eac88b-d51f-4d6d-8444-fa3a04b65135",
   "metadata": {},
   "source": [
    "#### Structured Data"
   ]
  },
  {
   "cell_type": "code",
   "execution_count": 82,
   "id": "3df3fad3-42e1-43ff-b1d4-954b9d2f152b",
   "metadata": {},
   "outputs": [],
   "source": [
    "name = ['Alice','Bob','Cathy','Steve']\n",
    "age = [35,42,25,15]\n",
    "weight = [60.3,80.2,75.1,51.0]"
   ]
  },
  {
   "cell_type": "code",
   "execution_count": 80,
   "id": "a1ac14bc-40cd-4c60-be51-1161e6a8b721",
   "metadata": {},
   "outputs": [
    {
     "data": {
      "text/plain": [
       "dtype([('name', '<U10'), ('age', '<i4'), ('weight', '<f8')])"
      ]
     },
     "execution_count": 80,
     "metadata": {},
     "output_type": "execute_result"
    }
   ],
   "source": [
    "data = np.zeros(4,dtype = {'names':('name','age','weight'),\n",
    "                           'formats' :('U10','i4','f8')\n",
    "})\n",
    "data.dtype"
   ]
  },
  {
   "cell_type": "code",
   "execution_count": 84,
   "id": "fdb6b020-6fd8-4b10-bd80-e375a40ee4c8",
   "metadata": {},
   "outputs": [
    {
     "data": {
      "text/plain": [
       "array([('', 0, 0.), ('', 0, 0.), ('', 0, 0.), ('', 0, 0.)],\n",
       "      dtype=[('name', '<U10'), ('age', '<i4'), ('weight', '<f8')])"
      ]
     },
     "execution_count": 84,
     "metadata": {},
     "output_type": "execute_result"
    }
   ],
   "source": [
    "data"
   ]
  },
  {
   "cell_type": "code",
   "execution_count": 86,
   "id": "b0b0cdc9-80bc-427e-a0cb-89412e03dc7b",
   "metadata": {},
   "outputs": [
    {
     "data": {
      "text/plain": [
       "array([('Alice', 35, 60.3), ('Bob', 42, 80.2), ('Cathy', 25, 75.1),\n",
       "       ('Steve', 15, 51. )],\n",
       "      dtype=[('name', '<U10'), ('age', '<i4'), ('weight', '<f8')])"
      ]
     },
     "execution_count": 86,
     "metadata": {},
     "output_type": "execute_result"
    }
   ],
   "source": [
    "data['name'] = name\n",
    "data['age'] = age\n",
    "data['weight'] = weight\n",
    "data"
   ]
  },
  {
   "cell_type": "code",
   "execution_count": 88,
   "id": "f6622955-5c95-43fd-be10-e6d5bc9795f0",
   "metadata": {},
   "outputs": [
    {
     "data": {
      "text/plain": [
       "array(['Alice', 'Bob', 'Cathy', 'Steve'], dtype='<U10')"
      ]
     },
     "execution_count": 88,
     "metadata": {},
     "output_type": "execute_result"
    }
   ],
   "source": [
    "data['name']"
   ]
  },
  {
   "cell_type": "code",
   "execution_count": 90,
   "id": "bca4f0c9-0eba-4b64-9437-841aa5000354",
   "metadata": {},
   "outputs": [
    {
     "data": {
      "text/plain": [
       "('Alice', 35, 60.3)"
      ]
     },
     "execution_count": 90,
     "metadata": {},
     "output_type": "execute_result"
    }
   ],
   "source": [
    "data[0]"
   ]
  },
  {
   "cell_type": "code",
   "execution_count": 92,
   "id": "c062a5d4-d087-4b8f-8edc-2c9ff7ee878c",
   "metadata": {},
   "outputs": [
    {
     "data": {
      "text/plain": [
       "('Michael', 35, 60.3)"
      ]
     },
     "execution_count": 92,
     "metadata": {},
     "output_type": "execute_result"
    }
   ],
   "source": [
    "data[0]['name'] = 'Michael'\n",
    "data[0]"
   ]
  },
  {
   "cell_type": "code",
   "execution_count": 94,
   "id": "d2cbe929-a70f-4a0b-9b14-1b6a1e5c73dd",
   "metadata": {},
   "outputs": [
    {
     "data": {
      "text/plain": [
       "('Bob', 32, 80.2)"
      ]
     },
     "execution_count": 94,
     "metadata": {},
     "output_type": "execute_result"
    }
   ],
   "source": [
    "data[1]['age'] = 32\n",
    "data[1]"
   ]
  },
  {
   "cell_type": "code",
   "execution_count": 96,
   "id": "b17c2953-0898-454f-9cef-24aba30ce836",
   "metadata": {},
   "outputs": [
    {
     "data": {
      "text/plain": [
       "array(['Cathy', 'Steve'], dtype='<U10')"
      ]
     },
     "execution_count": 96,
     "metadata": {},
     "output_type": "execute_result"
    }
   ],
   "source": [
    "data[data['age']<30]['name']"
   ]
  },
  {
   "cell_type": "code",
   "execution_count": null,
   "id": "444e6e26-f04a-44f9-8339-a5f940e6608d",
   "metadata": {},
   "outputs": [],
   "source": []
  }
 ],
 "metadata": {
  "kernelspec": {
   "display_name": "Python 3 (ipykernel)",
   "language": "python",
   "name": "python3"
  },
  "language_info": {
   "codemirror_mode": {
    "name": "ipython",
    "version": 3
   },
   "file_extension": ".py",
   "mimetype": "text/x-python",
   "name": "python",
   "nbconvert_exporter": "python",
   "pygments_lexer": "ipython3",
   "version": "3.12.4"
  }
 },
 "nbformat": 4,
 "nbformat_minor": 5
}
