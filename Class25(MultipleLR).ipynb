{
 "cells": [
  {
   "cell_type": "markdown",
   "id": "2100117d-4938-49a1-bbc5-46bf06e84621",
   "metadata": {},
   "source": [
    "### <font color = 'red'>  Class 25: Multiple Linear Regression"
   ]
  },
  {
   "cell_type": "markdown",
   "id": "f726b4e4-7b82-4aa8-b310-d19493c13cac",
   "metadata": {},
   "source": [
    "#### 1.1 Imports"
   ]
  },
  {
   "cell_type": "code",
   "execution_count": 58,
   "id": "266a1dbe-36a4-482b-affc-2544b8bbb99a",
   "metadata": {},
   "outputs": [],
   "source": [
    "import pandas as pd\n",
    "import seaborn as sns\n",
    "from sklearn.model_selection import train_test_split\n",
    "from statsmodels.formula.api import ols\n",
    "import matplotlib.pyplot as plt"
   ]
  },
  {
   "cell_type": "code",
   "execution_count": 30,
   "id": "c1e679e7-b506-4578-877c-8f26db94efd8",
   "metadata": {},
   "outputs": [
    {
     "data": {
      "text/html": [
       "<div>\n",
       "<style scoped>\n",
       "    .dataframe tbody tr th:only-of-type {\n",
       "        vertical-align: middle;\n",
       "    }\n",
       "\n",
       "    .dataframe tbody tr th {\n",
       "        vertical-align: top;\n",
       "    }\n",
       "\n",
       "    .dataframe thead th {\n",
       "        text-align: right;\n",
       "    }\n",
       "</style>\n",
       "<table border=\"1\" class=\"dataframe\">\n",
       "  <thead>\n",
       "    <tr style=\"text-align: right;\">\n",
       "      <th></th>\n",
       "      <th>species</th>\n",
       "      <th>island</th>\n",
       "      <th>bill_length_mm</th>\n",
       "      <th>bill_depth_mm</th>\n",
       "      <th>flipper_length_mm</th>\n",
       "      <th>body_mass_g</th>\n",
       "      <th>sex</th>\n",
       "    </tr>\n",
       "  </thead>\n",
       "  <tbody>\n",
       "    <tr>\n",
       "      <th>0</th>\n",
       "      <td>Adelie</td>\n",
       "      <td>Torgersen</td>\n",
       "      <td>39.1</td>\n",
       "      <td>18.7</td>\n",
       "      <td>181.0</td>\n",
       "      <td>3750.0</td>\n",
       "      <td>Male</td>\n",
       "    </tr>\n",
       "    <tr>\n",
       "      <th>1</th>\n",
       "      <td>Adelie</td>\n",
       "      <td>Torgersen</td>\n",
       "      <td>39.5</td>\n",
       "      <td>17.4</td>\n",
       "      <td>186.0</td>\n",
       "      <td>3800.0</td>\n",
       "      <td>Female</td>\n",
       "    </tr>\n",
       "    <tr>\n",
       "      <th>2</th>\n",
       "      <td>Adelie</td>\n",
       "      <td>Torgersen</td>\n",
       "      <td>40.3</td>\n",
       "      <td>18.0</td>\n",
       "      <td>195.0</td>\n",
       "      <td>3250.0</td>\n",
       "      <td>Female</td>\n",
       "    </tr>\n",
       "    <tr>\n",
       "      <th>3</th>\n",
       "      <td>Adelie</td>\n",
       "      <td>Torgersen</td>\n",
       "      <td>NaN</td>\n",
       "      <td>NaN</td>\n",
       "      <td>NaN</td>\n",
       "      <td>NaN</td>\n",
       "      <td>NaN</td>\n",
       "    </tr>\n",
       "    <tr>\n",
       "      <th>4</th>\n",
       "      <td>Adelie</td>\n",
       "      <td>Torgersen</td>\n",
       "      <td>36.7</td>\n",
       "      <td>19.3</td>\n",
       "      <td>193.0</td>\n",
       "      <td>3450.0</td>\n",
       "      <td>Female</td>\n",
       "    </tr>\n",
       "  </tbody>\n",
       "</table>\n",
       "</div>"
      ],
      "text/plain": [
       "  species     island  bill_length_mm  bill_depth_mm  flipper_length_mm  \\\n",
       "0  Adelie  Torgersen            39.1           18.7              181.0   \n",
       "1  Adelie  Torgersen            39.5           17.4              186.0   \n",
       "2  Adelie  Torgersen            40.3           18.0              195.0   \n",
       "3  Adelie  Torgersen             NaN            NaN                NaN   \n",
       "4  Adelie  Torgersen            36.7           19.3              193.0   \n",
       "\n",
       "   body_mass_g     sex  \n",
       "0       3750.0    Male  \n",
       "1       3800.0  Female  \n",
       "2       3250.0  Female  \n",
       "3          NaN     NaN  \n",
       "4       3450.0  Female  "
      ]
     },
     "execution_count": 30,
     "metadata": {},
     "output_type": "execute_result"
    }
   ],
   "source": [
    "# Load dataset\n",
    "penguins = sns.load_dataset('penguins',cache = False )\n",
    "penguins.head()"
   ]
  },
  {
   "cell_type": "markdown",
   "id": "8a3da8f1-5de2-4e0c-a23d-f26975366daa",
   "metadata": {},
   "source": [
    "#### 1.2 Data cleaning"
   ]
  },
  {
   "cell_type": "code",
   "execution_count": 33,
   "id": "90b9dc08-e3bb-4793-96b0-e80461e9a637",
   "metadata": {},
   "outputs": [],
   "source": [
    "# subest data\n",
    "penguins = penguins[['body_mass_g','bill_length_mm','sex','species']]\n",
    "# rename columns\n",
    "penguins.columns = ['body_mass_g','bill_length_mm','gender','species']\n",
    "# drop rows with missing values\n",
    "penguins.dropna(inplace = True)\n",
    "# reset index\n",
    "penguins.reset_index(drop = True,inplace = True)"
   ]
  },
  {
   "cell_type": "code",
   "execution_count": 35,
   "id": "e58960c0-c78c-479b-b038-9b1cca264d7e",
   "metadata": {},
   "outputs": [
    {
     "data": {
      "text/html": [
       "<div>\n",
       "<style scoped>\n",
       "    .dataframe tbody tr th:only-of-type {\n",
       "        vertical-align: middle;\n",
       "    }\n",
       "\n",
       "    .dataframe tbody tr th {\n",
       "        vertical-align: top;\n",
       "    }\n",
       "\n",
       "    .dataframe thead th {\n",
       "        text-align: right;\n",
       "    }\n",
       "</style>\n",
       "<table border=\"1\" class=\"dataframe\">\n",
       "  <thead>\n",
       "    <tr style=\"text-align: right;\">\n",
       "      <th></th>\n",
       "      <th>body_mass_g</th>\n",
       "      <th>bill_length_mm</th>\n",
       "      <th>gender</th>\n",
       "      <th>species</th>\n",
       "    </tr>\n",
       "  </thead>\n",
       "  <tbody>\n",
       "    <tr>\n",
       "      <th>0</th>\n",
       "      <td>3750.0</td>\n",
       "      <td>39.1</td>\n",
       "      <td>Male</td>\n",
       "      <td>Adelie</td>\n",
       "    </tr>\n",
       "    <tr>\n",
       "      <th>1</th>\n",
       "      <td>3800.0</td>\n",
       "      <td>39.5</td>\n",
       "      <td>Female</td>\n",
       "      <td>Adelie</td>\n",
       "    </tr>\n",
       "    <tr>\n",
       "      <th>2</th>\n",
       "      <td>3250.0</td>\n",
       "      <td>40.3</td>\n",
       "      <td>Female</td>\n",
       "      <td>Adelie</td>\n",
       "    </tr>\n",
       "    <tr>\n",
       "      <th>3</th>\n",
       "      <td>3450.0</td>\n",
       "      <td>36.7</td>\n",
       "      <td>Female</td>\n",
       "      <td>Adelie</td>\n",
       "    </tr>\n",
       "    <tr>\n",
       "      <th>4</th>\n",
       "      <td>3650.0</td>\n",
       "      <td>39.3</td>\n",
       "      <td>Male</td>\n",
       "      <td>Adelie</td>\n",
       "    </tr>\n",
       "  </tbody>\n",
       "</table>\n",
       "</div>"
      ],
      "text/plain": [
       "   body_mass_g  bill_length_mm  gender species\n",
       "0       3750.0            39.1    Male  Adelie\n",
       "1       3800.0            39.5  Female  Adelie\n",
       "2       3250.0            40.3  Female  Adelie\n",
       "3       3450.0            36.7  Female  Adelie\n",
       "4       3650.0            39.3    Male  Adelie"
      ]
     },
     "execution_count": 35,
     "metadata": {},
     "output_type": "execute_result"
    }
   ],
   "source": [
    "penguins.head()"
   ]
  },
  {
   "cell_type": "markdown",
   "id": "4fee41e0-2c3d-40b5-9edd-64abd8815e85",
   "metadata": {},
   "source": [
    "#### 1.3 Create holdout sample"
   ]
  },
  {
   "cell_type": "code",
   "execution_count": 38,
   "id": "3d8d4183-e066-4883-96c4-f3572a3a5b71",
   "metadata": {},
   "outputs": [],
   "source": [
    "# subset x and y variables\n",
    "X = penguins[['bill_length_mm','gender','species']]\n",
    "Y = penguins[['body_mass_g']]"
   ]
  },
  {
   "cell_type": "code",
   "execution_count": 40,
   "id": "9c873606-fbfd-4eb2-8f83-0bd83a01b7d7",
   "metadata": {},
   "outputs": [],
   "source": [
    "# create training data and holdout(teseting) data\n",
    "X_train,X_test,Y_train,Y_test = train_test_split(X,Y,test_size = 0.3,random_state = 42)"
   ]
  },
  {
   "cell_type": "markdown",
   "id": "23338d30-5c20-4674-bdee-78ac3ce692ae",
   "metadata": {},
   "source": [
    "#### 1.4 Model Construction"
   ]
  },
  {
   "cell_type": "code",
   "execution_count": 45,
   "id": "812290c3-9cb7-4c9e-8efc-91696e567fd0",
   "metadata": {},
   "outputs": [],
   "source": [
    "# write ols formula using ~ for continuous variable (bill length) and use C() to indicate categorical variable\n",
    "ols_formula = 'body_mass_g ~ bill_length_mm + C(gender) + C(species)'"
   ]
  },
  {
   "cell_type": "code",
   "execution_count": 51,
   "id": "c15c12fa-3ffa-4281-be84-ae849ddfd372",
   "metadata": {},
   "outputs": [],
   "source": [
    "# Create ols dataframe\n",
    "ols_data = pd.concat([X_train,Y_train], axis = 1)\n",
    "\n",
    "# Fit data into the model\n",
    "OLS = ols(formula = ols_formula,data = ols_data)\n",
    "model = OLS.fit()"
   ]
  },
  {
   "cell_type": "markdown",
   "id": "28908ca9-6f70-4884-81c0-df98f4f14d2c",
   "metadata": {},
   "source": [
    "#### 1.5 Model evaluation"
   ]
  },
  {
   "cell_type": "code",
   "execution_count": 54,
   "id": "09a55581-49bd-4087-bf86-11ce7e9e532e",
   "metadata": {},
   "outputs": [
    {
     "data": {
      "text/html": [
       "<table class=\"simpletable\">\n",
       "<caption>OLS Regression Results</caption>\n",
       "<tr>\n",
       "  <th>Dep. Variable:</th>       <td>body_mass_g</td>   <th>  R-squared:         </th> <td>   0.850</td>\n",
       "</tr>\n",
       "<tr>\n",
       "  <th>Model:</th>                   <td>OLS</td>       <th>  Adj. R-squared:    </th> <td>   0.847</td>\n",
       "</tr>\n",
       "<tr>\n",
       "  <th>Method:</th>             <td>Least Squares</td>  <th>  F-statistic:       </th> <td>   322.6</td>\n",
       "</tr>\n",
       "<tr>\n",
       "  <th>Date:</th>             <td>Sat, 24 Aug 2024</td> <th>  Prob (F-statistic):</th> <td>1.31e-92</td>\n",
       "</tr>\n",
       "<tr>\n",
       "  <th>Time:</th>                 <td>11:11:00</td>     <th>  Log-Likelihood:    </th> <td> -1671.7</td>\n",
       "</tr>\n",
       "<tr>\n",
       "  <th>No. Observations:</th>      <td>   233</td>      <th>  AIC:               </th> <td>   3353.</td>\n",
       "</tr>\n",
       "<tr>\n",
       "  <th>Df Residuals:</th>          <td>   228</td>      <th>  BIC:               </th> <td>   3371.</td>\n",
       "</tr>\n",
       "<tr>\n",
       "  <th>Df Model:</th>              <td>     4</td>      <th>                     </th>     <td> </td>   \n",
       "</tr>\n",
       "<tr>\n",
       "  <th>Covariance Type:</th>      <td>nonrobust</td>    <th>                     </th>     <td> </td>   \n",
       "</tr>\n",
       "</table>\n",
       "<table class=\"simpletable\">\n",
       "<tr>\n",
       "             <td></td>                <th>coef</th>     <th>std err</th>      <th>t</th>      <th>P>|t|</th>  <th>[0.025</th>    <th>0.975]</th>  \n",
       "</tr>\n",
       "<tr>\n",
       "  <th>Intercept</th>               <td> 2032.2111</td> <td>  354.087</td> <td>    5.739</td> <td> 0.000</td> <td> 1334.510</td> <td> 2729.913</td>\n",
       "</tr>\n",
       "<tr>\n",
       "  <th>C(gender)[T.Male]</th>       <td>  528.9508</td> <td>   55.105</td> <td>    9.599</td> <td> 0.000</td> <td>  420.371</td> <td>  637.531</td>\n",
       "</tr>\n",
       "<tr>\n",
       "  <th>C(species)[T.Chinstrap]</th> <td> -285.3865</td> <td>  106.339</td> <td>   -2.684</td> <td> 0.008</td> <td> -494.920</td> <td>  -75.853</td>\n",
       "</tr>\n",
       "<tr>\n",
       "  <th>C(species)[T.Gentoo]</th>    <td> 1081.6246</td> <td>   94.953</td> <td>   11.391</td> <td> 0.000</td> <td>  894.526</td> <td> 1268.723</td>\n",
       "</tr>\n",
       "<tr>\n",
       "  <th>bill_length_mm</th>          <td>   35.5505</td> <td>    9.493</td> <td>    3.745</td> <td> 0.000</td> <td>   16.845</td> <td>   54.256</td>\n",
       "</tr>\n",
       "</table>\n",
       "<table class=\"simpletable\">\n",
       "<tr>\n",
       "  <th>Omnibus:</th>       <td> 0.339</td> <th>  Durbin-Watson:     </th> <td>   1.948</td>\n",
       "</tr>\n",
       "<tr>\n",
       "  <th>Prob(Omnibus):</th> <td> 0.844</td> <th>  Jarque-Bera (JB):  </th> <td>   0.436</td>\n",
       "</tr>\n",
       "<tr>\n",
       "  <th>Skew:</th>          <td> 0.084</td> <th>  Prob(JB):          </th> <td>   0.804</td>\n",
       "</tr>\n",
       "<tr>\n",
       "  <th>Kurtosis:</th>      <td> 2.871</td> <th>  Cond. No.          </th> <td>    798.</td>\n",
       "</tr>\n",
       "</table><br/><br/>Notes:<br/>[1] Standard Errors assume that the covariance matrix of the errors is correctly specified."
      ],
      "text/latex": [
       "\\begin{center}\n",
       "\\begin{tabular}{lclc}\n",
       "\\toprule\n",
       "\\textbf{Dep. Variable:}          &  body\\_mass\\_g   & \\textbf{  R-squared:         } &     0.850   \\\\\n",
       "\\textbf{Model:}                  &       OLS        & \\textbf{  Adj. R-squared:    } &     0.847   \\\\\n",
       "\\textbf{Method:}                 &  Least Squares   & \\textbf{  F-statistic:       } &     322.6   \\\\\n",
       "\\textbf{Date:}                   & Sat, 24 Aug 2024 & \\textbf{  Prob (F-statistic):} &  1.31e-92   \\\\\n",
       "\\textbf{Time:}                   &     11:11:00     & \\textbf{  Log-Likelihood:    } &   -1671.7   \\\\\n",
       "\\textbf{No. Observations:}       &         233      & \\textbf{  AIC:               } &     3353.   \\\\\n",
       "\\textbf{Df Residuals:}           &         228      & \\textbf{  BIC:               } &     3371.   \\\\\n",
       "\\textbf{Df Model:}               &           4      & \\textbf{                     } &             \\\\\n",
       "\\textbf{Covariance Type:}        &    nonrobust     & \\textbf{                     } &             \\\\\n",
       "\\bottomrule\n",
       "\\end{tabular}\n",
       "\\begin{tabular}{lcccccc}\n",
       "                                 & \\textbf{coef} & \\textbf{std err} & \\textbf{t} & \\textbf{P$> |$t$|$} & \\textbf{[0.025} & \\textbf{0.975]}  \\\\\n",
       "\\midrule\n",
       "\\textbf{Intercept}               &    2032.2111  &      354.087     &     5.739  &         0.000        &     1334.510    &     2729.913     \\\\\n",
       "\\textbf{C(gender)[T.Male]}       &     528.9508  &       55.105     &     9.599  &         0.000        &      420.371    &      637.531     \\\\\n",
       "\\textbf{C(species)[T.Chinstrap]} &    -285.3865  &      106.339     &    -2.684  &         0.008        &     -494.920    &      -75.853     \\\\\n",
       "\\textbf{C(species)[T.Gentoo]}    &    1081.6246  &       94.953     &    11.391  &         0.000        &      894.526    &     1268.723     \\\\\n",
       "\\textbf{bill\\_length\\_mm}        &      35.5505  &        9.493     &     3.745  &         0.000        &       16.845    &       54.256     \\\\\n",
       "\\bottomrule\n",
       "\\end{tabular}\n",
       "\\begin{tabular}{lclc}\n",
       "\\textbf{Omnibus:}       &  0.339 & \\textbf{  Durbin-Watson:     } &    1.948  \\\\\n",
       "\\textbf{Prob(Omnibus):} &  0.844 & \\textbf{  Jarque-Bera (JB):  } &    0.436  \\\\\n",
       "\\textbf{Skew:}          &  0.084 & \\textbf{  Prob(JB):          } &    0.804  \\\\\n",
       "\\textbf{Kurtosis:}      &  2.871 & \\textbf{  Cond. No.          } &     798.  \\\\\n",
       "\\bottomrule\n",
       "\\end{tabular}\n",
       "%\\caption{OLS Regression Results}\n",
       "\\end{center}\n",
       "\n",
       "Notes: \\newline\n",
       " [1] Standard Errors assume that the covariance matrix of the errors is correctly specified."
      ],
      "text/plain": [
       "<class 'statsmodels.iolib.summary.Summary'>\n",
       "\"\"\"\n",
       "                            OLS Regression Results                            \n",
       "==============================================================================\n",
       "Dep. Variable:            body_mass_g   R-squared:                       0.850\n",
       "Model:                            OLS   Adj. R-squared:                  0.847\n",
       "Method:                 Least Squares   F-statistic:                     322.6\n",
       "Date:                Sat, 24 Aug 2024   Prob (F-statistic):           1.31e-92\n",
       "Time:                        11:11:00   Log-Likelihood:                -1671.7\n",
       "No. Observations:                 233   AIC:                             3353.\n",
       "Df Residuals:                     228   BIC:                             3371.\n",
       "Df Model:                           4                                         \n",
       "Covariance Type:            nonrobust                                         \n",
       "===========================================================================================\n",
       "                              coef    std err          t      P>|t|      [0.025      0.975]\n",
       "-------------------------------------------------------------------------------------------\n",
       "Intercept                2032.2111    354.087      5.739      0.000    1334.510    2729.913\n",
       "C(gender)[T.Male]         528.9508     55.105      9.599      0.000     420.371     637.531\n",
       "C(species)[T.Chinstrap]  -285.3865    106.339     -2.684      0.008    -494.920     -75.853\n",
       "C(species)[T.Gentoo]     1081.6246     94.953     11.391      0.000     894.526    1268.723\n",
       "bill_length_mm             35.5505      9.493      3.745      0.000      16.845      54.256\n",
       "==============================================================================\n",
       "Omnibus:                        0.339   Durbin-Watson:                   1.948\n",
       "Prob(Omnibus):                  0.844   Jarque-Bera (JB):                0.436\n",
       "Skew:                           0.084   Prob(JB):                        0.804\n",
       "Kurtosis:                       2.871   Cond. No.                         798.\n",
       "==============================================================================\n",
       "\n",
       "Notes:\n",
       "[1] Standard Errors assume that the covariance matrix of the errors is correctly specified.\n",
       "\"\"\""
      ]
     },
     "execution_count": 54,
     "metadata": {},
     "output_type": "execute_result"
    }
   ],
   "source": [
    "model.summary()"
   ]
  }
 ],
 "metadata": {
  "kernelspec": {
   "display_name": "Python 3 (ipykernel)",
   "language": "python",
   "name": "python3"
  },
  "language_info": {
   "codemirror_mode": {
    "name": "ipython",
    "version": 3
   },
   "file_extension": ".py",
   "mimetype": "text/x-python",
   "name": "python",
   "nbconvert_exporter": "python",
   "pygments_lexer": "ipython3",
   "version": "3.12.4"
  }
 },
 "nbformat": 4,
 "nbformat_minor": 5
}
