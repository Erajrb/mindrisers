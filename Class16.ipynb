{
 "cells": [
  {
   "cell_type": "markdown",
   "id": "bc130d22-8a60-49eb-b090-a7867a39bf98",
   "metadata": {},
   "source": [
    "### <font color = 'red'> Class 16"
   ]
  },
  {
   "cell_type": "code",
   "execution_count": 2,
   "id": "d91dbd69-19f1-4920-b3d1-0b3ed59f0def",
   "metadata": {},
   "outputs": [],
   "source": [
    "import pandas as pd\n",
    "import numpy as np"
   ]
  },
  {
   "cell_type": "code",
   "execution_count": 3,
   "id": "5f31d503-e9ed-447f-992b-848de44a9c5b",
   "metadata": {},
   "outputs": [
    {
     "data": {
      "text/html": [
       "<div>\n",
       "<style scoped>\n",
       "    .dataframe tbody tr th:only-of-type {\n",
       "        vertical-align: middle;\n",
       "    }\n",
       "\n",
       "    .dataframe tbody tr th {\n",
       "        vertical-align: top;\n",
       "    }\n",
       "\n",
       "    .dataframe thead th {\n",
       "        text-align: right;\n",
       "    }\n",
       "</style>\n",
       "<table border=\"1\" class=\"dataframe\">\n",
       "  <thead>\n",
       "    <tr style=\"text-align: right;\">\n",
       "      <th></th>\n",
       "      <th>key</th>\n",
       "      <th>data</th>\n",
       "    </tr>\n",
       "  </thead>\n",
       "  <tbody>\n",
       "    <tr>\n",
       "      <th>0</th>\n",
       "      <td>A</td>\n",
       "      <td>0</td>\n",
       "    </tr>\n",
       "    <tr>\n",
       "      <th>1</th>\n",
       "      <td>B</td>\n",
       "      <td>1</td>\n",
       "    </tr>\n",
       "    <tr>\n",
       "      <th>2</th>\n",
       "      <td>C</td>\n",
       "      <td>2</td>\n",
       "    </tr>\n",
       "    <tr>\n",
       "      <th>3</th>\n",
       "      <td>A</td>\n",
       "      <td>3</td>\n",
       "    </tr>\n",
       "    <tr>\n",
       "      <th>4</th>\n",
       "      <td>B</td>\n",
       "      <td>4</td>\n",
       "    </tr>\n",
       "    <tr>\n",
       "      <th>5</th>\n",
       "      <td>C</td>\n",
       "      <td>5</td>\n",
       "    </tr>\n",
       "  </tbody>\n",
       "</table>\n",
       "</div>"
      ],
      "text/plain": [
       "  key  data\n",
       "0   A     0\n",
       "1   B     1\n",
       "2   C     2\n",
       "3   A     3\n",
       "4   B     4\n",
       "5   C     5"
      ]
     },
     "execution_count": 3,
     "metadata": {},
     "output_type": "execute_result"
    }
   ],
   "source": [
    "df = pd.DataFrame({'key' : ['A','B','C','A','B','C'],\n",
    "                   'data' : range(6)},columns = ['key','data'])\n",
    "df"
   ]
  },
  {
   "cell_type": "code",
   "execution_count": 4,
   "id": "cc3ece9f-3e03-43ce-ba55-141cc56b6530",
   "metadata": {},
   "outputs": [
    {
     "data": {
      "text/plain": [
       "pandas.core.groupby.generic.DataFrameGroupBy"
      ]
     },
     "execution_count": 4,
     "metadata": {},
     "output_type": "execute_result"
    }
   ],
   "source": [
    "df_group_by = df.groupby('key')\n",
    "type(df_group_by)"
   ]
  },
  {
   "cell_type": "code",
   "execution_count": 5,
   "id": "8f22dbd1-867c-4f79-b70e-04a254cc337a",
   "metadata": {},
   "outputs": [
    {
     "data": {
      "text/html": [
       "<div>\n",
       "<style scoped>\n",
       "    .dataframe tbody tr th:only-of-type {\n",
       "        vertical-align: middle;\n",
       "    }\n",
       "\n",
       "    .dataframe tbody tr th {\n",
       "        vertical-align: top;\n",
       "    }\n",
       "\n",
       "    .dataframe thead th {\n",
       "        text-align: right;\n",
       "    }\n",
       "</style>\n",
       "<table border=\"1\" class=\"dataframe\">\n",
       "  <thead>\n",
       "    <tr style=\"text-align: right;\">\n",
       "      <th></th>\n",
       "      <th>data</th>\n",
       "    </tr>\n",
       "    <tr>\n",
       "      <th>key</th>\n",
       "      <th></th>\n",
       "    </tr>\n",
       "  </thead>\n",
       "  <tbody>\n",
       "    <tr>\n",
       "      <th>A</th>\n",
       "      <td>3</td>\n",
       "    </tr>\n",
       "    <tr>\n",
       "      <th>B</th>\n",
       "      <td>5</td>\n",
       "    </tr>\n",
       "    <tr>\n",
       "      <th>C</th>\n",
       "      <td>7</td>\n",
       "    </tr>\n",
       "  </tbody>\n",
       "</table>\n",
       "</div>"
      ],
      "text/plain": [
       "     data\n",
       "key      \n",
       "A       3\n",
       "B       5\n",
       "C       7"
      ]
     },
     "execution_count": 5,
     "metadata": {},
     "output_type": "execute_result"
    }
   ],
   "source": [
    "df_group_by.sum()"
   ]
  },
  {
   "cell_type": "markdown",
   "id": "ff4dd3bd-d399-4c1b-bda7-7518ab9700da",
   "metadata": {},
   "source": [
    "#### Time Series"
   ]
  },
  {
   "cell_type": "code",
   "execution_count": 7,
   "id": "2bc2b5c3-76d2-412b-a3bb-bef8d93c60e5",
   "metadata": {},
   "outputs": [
    {
     "data": {
      "text/plain": [
       "Timestamp('1992-04-21 11:12:00')"
      ]
     },
     "execution_count": 7,
     "metadata": {},
     "output_type": "execute_result"
    }
   ],
   "source": [
    "date = pd.to_datetime('21st of April,1992 11:12:00')\n",
    "date"
   ]
  },
  {
   "cell_type": "code",
   "execution_count": 8,
   "id": "7201c456-edcc-4a17-9ebf-7f182cab2856",
   "metadata": {},
   "outputs": [
    {
     "data": {
      "text/plain": [
       "'Tuesday'"
      ]
     },
     "execution_count": 8,
     "metadata": {},
     "output_type": "execute_result"
    }
   ],
   "source": [
    "date.strftime('%A')"
   ]
  },
  {
   "cell_type": "code",
   "execution_count": 9,
   "id": "fd53883b-7c7d-4d51-97fc-87de5767e5c2",
   "metadata": {},
   "outputs": [
    {
     "data": {
      "text/plain": [
       "DatetimeIndex(['2014-05-09', '2014-05-10', '2014-05-11', '2014-05-12',\n",
       "               '2014-05-13', '2014-05-14', '2014-05-15'],\n",
       "              dtype='datetime64[ns]', freq='D')"
      ]
     },
     "execution_count": 9,
     "metadata": {},
     "output_type": "execute_result"
    }
   ],
   "source": [
    "pd.date_range('2014-5-9',periods = 7)"
   ]
  },
  {
   "cell_type": "code",
   "execution_count": 51,
   "id": "cb9e1f29-94ec-4729-b9db-719394481054",
   "metadata": {},
   "outputs": [
    {
     "data": {
      "text/plain": [
       "DatetimeIndex(['2014-05-09 00:00:00', '2014-05-09 01:00:00',\n",
       "               '2014-05-09 02:00:00', '2014-05-09 03:00:00',\n",
       "               '2014-05-09 04:00:00', '2014-05-09 05:00:00',\n",
       "               '2014-05-09 06:00:00', '2014-05-09 07:00:00',\n",
       "               '2014-05-09 08:00:00', '2014-05-09 09:00:00',\n",
       "               '2014-05-09 10:00:00', '2014-05-09 11:00:00'],\n",
       "              dtype='datetime64[ns]', freq='h')"
      ]
     },
     "execution_count": 51,
     "metadata": {},
     "output_type": "execute_result"
    }
   ],
   "source": [
    "pd.date_range('2014-5-9',periods = 12,freq = 'h')"
   ]
  },
  {
   "cell_type": "code",
   "execution_count": 49,
   "id": "66edf24c-e23c-436a-8541-e5df77ebfe12",
   "metadata": {},
   "outputs": [
    {
     "data": {
      "text/plain": [
       "DatetimeIndex(['2014-05-31', '2014-06-30', '2014-07-31', '2014-08-31',\n",
       "               '2014-09-30', '2014-10-31', '2014-11-30'],\n",
       "              dtype='datetime64[ns]', freq='ME')"
      ]
     },
     "execution_count": 49,
     "metadata": {},
     "output_type": "execute_result"
    }
   ],
   "source": [
    "pd.date_range('2014-5-9',periods = 7,freq = 'ME')"
   ]
  },
  {
   "cell_type": "code",
   "execution_count": 45,
   "id": "bafaeac9-7880-4c63-8bd5-154e325c5cb5",
   "metadata": {},
   "outputs": [
    {
     "data": {
      "text/plain": [
       "PeriodIndex(['2014-05', '2014-06', '2014-07', '2014-08', '2014-09', '2014-10',\n",
       "             '2014-11'],\n",
       "            dtype='period[M]')"
      ]
     },
     "execution_count": 45,
     "metadata": {},
     "output_type": "execute_result"
    }
   ],
   "source": [
    "pd.period_range('2014-5-9',periods = 7,freq = 'M')"
   ]
  },
  {
   "cell_type": "markdown",
   "id": "f05f9e4f-9506-4d76-ac8c-b7a7e9ac9c6a",
   "metadata": {},
   "source": [
    "#### Microsoft stock price"
   ]
  },
  {
   "cell_type": "code",
   "execution_count": 31,
   "id": "ac66b533-1c43-43d6-9f1b-4d48866e0219",
   "metadata": {},
   "outputs": [
    {
     "data": {
      "text/html": [
       "<div>\n",
       "<style scoped>\n",
       "    .dataframe tbody tr th:only-of-type {\n",
       "        vertical-align: middle;\n",
       "    }\n",
       "\n",
       "    .dataframe tbody tr th {\n",
       "        vertical-align: top;\n",
       "    }\n",
       "\n",
       "    .dataframe thead th {\n",
       "        text-align: right;\n",
       "    }\n",
       "</style>\n",
       "<table border=\"1\" class=\"dataframe\">\n",
       "  <thead>\n",
       "    <tr style=\"text-align: right;\">\n",
       "      <th></th>\n",
       "      <th>Date</th>\n",
       "      <th>Open</th>\n",
       "      <th>High</th>\n",
       "      <th>Low</th>\n",
       "      <th>Close</th>\n",
       "      <th>Adj Close</th>\n",
       "      <th>Volume</th>\n",
       "    </tr>\n",
       "  </thead>\n",
       "  <tbody>\n",
       "    <tr>\n",
       "      <th>247</th>\n",
       "      <td>2022-08-09</td>\n",
       "      <td>279.640015</td>\n",
       "      <td>283.079987</td>\n",
       "      <td>277.609985</td>\n",
       "      <td>282.299988</td>\n",
       "      <td>282.299988</td>\n",
       "      <td>23405200</td>\n",
       "    </tr>\n",
       "    <tr>\n",
       "      <th>248</th>\n",
       "      <td>2022-08-10</td>\n",
       "      <td>288.170013</td>\n",
       "      <td>289.809998</td>\n",
       "      <td>286.940002</td>\n",
       "      <td>289.160004</td>\n",
       "      <td>289.160004</td>\n",
       "      <td>24687800</td>\n",
       "    </tr>\n",
       "    <tr>\n",
       "      <th>249</th>\n",
       "      <td>2022-08-11</td>\n",
       "      <td>290.850006</td>\n",
       "      <td>291.209991</td>\n",
       "      <td>286.510010</td>\n",
       "      <td>287.019989</td>\n",
       "      <td>287.019989</td>\n",
       "      <td>20065900</td>\n",
       "    </tr>\n",
       "    <tr>\n",
       "      <th>250</th>\n",
       "      <td>2022-08-12</td>\n",
       "      <td>288.480011</td>\n",
       "      <td>291.910004</td>\n",
       "      <td>286.940002</td>\n",
       "      <td>291.910004</td>\n",
       "      <td>291.910004</td>\n",
       "      <td>22601900</td>\n",
       "    </tr>\n",
       "    <tr>\n",
       "      <th>251</th>\n",
       "      <td>2022-08-15</td>\n",
       "      <td>291.000000</td>\n",
       "      <td>294.179993</td>\n",
       "      <td>290.109985</td>\n",
       "      <td>293.470001</td>\n",
       "      <td>293.470001</td>\n",
       "      <td>18072100</td>\n",
       "    </tr>\n",
       "  </tbody>\n",
       "</table>\n",
       "</div>"
      ],
      "text/plain": [
       "           Date        Open        High         Low       Close   Adj Close  \\\n",
       "247  2022-08-09  279.640015  283.079987  277.609985  282.299988  282.299988   \n",
       "248  2022-08-10  288.170013  289.809998  286.940002  289.160004  289.160004   \n",
       "249  2022-08-11  290.850006  291.209991  286.510010  287.019989  287.019989   \n",
       "250  2022-08-12  288.480011  291.910004  286.940002  291.910004  291.910004   \n",
       "251  2022-08-15  291.000000  294.179993  290.109985  293.470001  293.470001   \n",
       "\n",
       "       Volume  \n",
       "247  23405200  \n",
       "248  24687800  \n",
       "249  20065900  \n",
       "250  22601900  \n",
       "251  18072100  "
      ]
     },
     "execution_count": 31,
     "metadata": {},
     "output_type": "execute_result"
    }
   ],
   "source": [
    "msft = pd.read_csv('MSFT.csv')\n",
    "msft.tail()"
   ]
  },
  {
   "cell_type": "code",
   "execution_count": 33,
   "id": "60f6941d-6cf3-4ad2-ae27-ff0e5feb787e",
   "metadata": {},
   "outputs": [
    {
     "data": {
      "text/html": [
       "<div>\n",
       "<style scoped>\n",
       "    .dataframe tbody tr th:only-of-type {\n",
       "        vertical-align: middle;\n",
       "    }\n",
       "\n",
       "    .dataframe tbody tr th {\n",
       "        vertical-align: top;\n",
       "    }\n",
       "\n",
       "    .dataframe thead th {\n",
       "        text-align: right;\n",
       "    }\n",
       "</style>\n",
       "<table border=\"1\" class=\"dataframe\">\n",
       "  <thead>\n",
       "    <tr style=\"text-align: right;\">\n",
       "      <th></th>\n",
       "      <th>Open</th>\n",
       "      <th>High</th>\n",
       "      <th>Low</th>\n",
       "      <th>Close</th>\n",
       "      <th>Adj Close</th>\n",
       "      <th>Volume</th>\n",
       "    </tr>\n",
       "    <tr>\n",
       "      <th>Date</th>\n",
       "      <th></th>\n",
       "      <th></th>\n",
       "      <th></th>\n",
       "      <th></th>\n",
       "      <th></th>\n",
       "      <th></th>\n",
       "    </tr>\n",
       "  </thead>\n",
       "  <tbody>\n",
       "    <tr>\n",
       "      <th>2021-08-16</th>\n",
       "      <td>293.190002</td>\n",
       "      <td>294.820007</td>\n",
       "      <td>290.019989</td>\n",
       "      <td>294.600006</td>\n",
       "      <td>292.213959</td>\n",
       "      <td>22507600</td>\n",
       "    </tr>\n",
       "    <tr>\n",
       "      <th>2021-08-17</th>\n",
       "      <td>292.390015</td>\n",
       "      <td>293.429993</td>\n",
       "      <td>291.079987</td>\n",
       "      <td>293.079987</td>\n",
       "      <td>290.706207</td>\n",
       "      <td>20075300</td>\n",
       "    </tr>\n",
       "    <tr>\n",
       "      <th>2021-08-18</th>\n",
       "      <td>292.040009</td>\n",
       "      <td>294.820007</td>\n",
       "      <td>290.269989</td>\n",
       "      <td>290.730011</td>\n",
       "      <td>288.927338</td>\n",
       "      <td>21813000</td>\n",
       "    </tr>\n",
       "    <tr>\n",
       "      <th>2021-08-19</th>\n",
       "      <td>288.690002</td>\n",
       "      <td>297.470001</td>\n",
       "      <td>288.640015</td>\n",
       "      <td>296.769989</td>\n",
       "      <td>294.929871</td>\n",
       "      <td>29850500</td>\n",
       "    </tr>\n",
       "    <tr>\n",
       "      <th>2021-08-20</th>\n",
       "      <td>299.720001</td>\n",
       "      <td>305.839996</td>\n",
       "      <td>298.059998</td>\n",
       "      <td>304.359985</td>\n",
       "      <td>302.472809</td>\n",
       "      <td>40817600</td>\n",
       "    </tr>\n",
       "  </tbody>\n",
       "</table>\n",
       "</div>"
      ],
      "text/plain": [
       "                  Open        High         Low       Close   Adj Close  \\\n",
       "Date                                                                     \n",
       "2021-08-16  293.190002  294.820007  290.019989  294.600006  292.213959   \n",
       "2021-08-17  292.390015  293.429993  291.079987  293.079987  290.706207   \n",
       "2021-08-18  292.040009  294.820007  290.269989  290.730011  288.927338   \n",
       "2021-08-19  288.690002  297.470001  288.640015  296.769989  294.929871   \n",
       "2021-08-20  299.720001  305.839996  298.059998  304.359985  302.472809   \n",
       "\n",
       "              Volume  \n",
       "Date                  \n",
       "2021-08-16  22507600  \n",
       "2021-08-17  20075300  \n",
       "2021-08-18  21813000  \n",
       "2021-08-19  29850500  \n",
       "2021-08-20  40817600  "
      ]
     },
     "execution_count": 33,
     "metadata": {},
     "output_type": "execute_result"
    }
   ],
   "source": [
    "msft.set_index('Date',inplace=True)\n",
    "msft.head()"
   ]
  },
  {
   "cell_type": "code",
   "execution_count": 37,
   "id": "eb2d77e7-f2b5-45a0-b054-7351f0521083",
   "metadata": {},
   "outputs": [],
   "source": [
    "msft_close = msft['Close']"
   ]
  },
  {
   "cell_type": "code",
   "execution_count": 39,
   "id": "9189dd62-eba2-4ec7-9f06-3698381a5979",
   "metadata": {},
   "outputs": [],
   "source": [
    "# convert index (date) to pandas datetime type\n",
    "msft_close.index = pd.to_datetime(msft_close.index)"
   ]
  },
  {
   "cell_type": "code",
   "execution_count": 41,
   "id": "1a7dd79f-39dd-41b3-a444-b17a127f92e1",
   "metadata": {},
   "outputs": [
    {
     "data": {
      "text/plain": [
       "<Axes: xlabel='Date'>"
      ]
     },
     "execution_count": 41,
     "metadata": {},
     "output_type": "execute_result"
    },
    {
     "data": {
      "image/png": "[encoded data removed]",
      "text/plain": [
       "<Figure size 640x480 with 1 Axes>"
      ]
     },
     "metadata": {},
     "output_type": "display_data"
    }
   ],
   "source": [
    "%matplotlib inline\n",
    "import matplotlib.pyplot as plt\n",
    "import seaborn; seaborn.set()\n",
    "msft_close.plot()"
   ]
  },
  {
   "cell_type": "markdown",
   "id": "a3bd0f55-cd6f-4c81-bead-b3b562b953c5",
   "metadata": {},
   "source": [
    "#### Resampling and converting frequencies"
   ]
  },
  {
   "cell_type": "code",
   "execution_count": 56,
   "id": "92ff23bc-d695-44ec-837d-b2605d8e532e",
   "metadata": {},
   "outputs": [
    {
     "data": {
      "text/plain": [
       "<Axes: xlabel='Date'>"
      ]
     },
     "execution_count": 56,
     "metadata": {},
     "output_type": "execute_result"
    },
    {
     "data": {
      "image/png": "[encoded data removed]",
      "text/plain": [
       "<Figure size 640x480 with 1 Axes>"
      ]
     },
     "metadata": {},
     "output_type": "display_data"
    }
   ],
   "source": [
    "msft_close.plot(alpha=0.5,style='-')\n",
    "msft_close.resample('BYE').mean().plot(style=':')\n",
    "msft_close.asfreq('BYE').plot(style='--')"
   ]
  },
  {
   "cell_type": "code",
   "execution_count": null,
   "id": "1c0acb50-353b-4aa2-b42f-7643ed8ee41c",
   "metadata": {},
   "outputs": [],
   "source": []
  }
 ],
 "metadata": {
  "kernelspec": {
   "display_name": "Python 3 (ipykernel)",
   "language": "python",
   "name": "python3"
  },
  "language_info": {
   "codemirror_mode": {
    "name": "ipython",
    "version": 3
   },
   "file_extension": ".py",
   "mimetype": "text/x-python",
   "name": "python",
   "nbconvert_exporter": "python",
   "pygments_lexer": "ipython3",
   "version": "3.12.4"
  }
 },
 "nbformat": 4,
 "nbformat_minor": 5
}
