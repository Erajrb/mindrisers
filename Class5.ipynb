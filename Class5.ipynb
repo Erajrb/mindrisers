{
 "cells": [
  {
   "cell_type": "markdown",
   "id": "14a3114a-dd73-4ab0-bbc5-e4c611f0fef7",
   "metadata": {},
   "source": [
    "### <font color = 'red'> Class 5"
   ]
  },
  {
   "cell_type": "code",
   "execution_count": 4,
   "id": "10d1ad1d-19b0-4723-a701-27a1b25a5973",
   "metadata": {},
   "outputs": [
    {
     "data": {
      "text/plain": [
       "6"
      ]
     },
     "execution_count": 4,
     "metadata": {},
     "output_type": "execute_result"
    }
   ],
   "source": [
    "# lamba fxn\n",
    "\n",
    "sum = lambda x,y,z : x + y + z\n",
    "sum (1,2,3)"
   ]
  },
  {
   "cell_type": "code",
   "execution_count": 6,
   "id": "c718148b-8dd9-407b-95a5-80c468af7867",
   "metadata": {},
   "outputs": [
    {
     "data": {
      "text/plain": [
       "14025"
      ]
     },
     "execution_count": 6,
     "metadata": {},
     "output_type": "execute_result"
    }
   ],
   "source": [
    "mul = lambda x , y : x * y\n",
    "mul ( 55 , 255 )"
   ]
  },
  {
   "cell_type": "markdown",
   "id": "ebf6fb22-1d25-49b4-bb65-7d1a52135f66",
   "metadata": {},
   "source": [
    "#### Tuples"
   ]
  },
  {
   "cell_type": "markdown",
   "id": "4b70bad0-5332-45e0-93b3-352f6e208390",
   "metadata": {},
   "source": [
    "###### tuples are enclosed by paranthesis, are immutable and allow duplicate items as values"
   ]
  },
  {
   "cell_type": "code",
   "execution_count": 9,
   "id": "f245220c-c897-4517-bc82-2babd8f902ca",
   "metadata": {},
   "outputs": [
    {
     "data": {
      "text/plain": [
       "('Hi', 'there', 2, 3)"
      ]
     },
     "execution_count": 9,
     "metadata": {},
     "output_type": "execute_result"
    }
   ],
   "source": [
    "tuple = ('Hi','there',2,3)\n",
    "tuple"
   ]
  },
  {
   "cell_type": "code",
   "execution_count": 12,
   "id": "708eb93e-d279-4ecc-924d-8212558b4515",
   "metadata": {},
   "outputs": [
    {
     "name": "stdout",
     "output_type": "stream",
     "text": [
      "Hi\n",
      "there\n"
     ]
    }
   ],
   "source": [
    "print (tuple[0])\n",
    "print (tuple[1])"
   ]
  },
  {
   "cell_type": "code",
   "execution_count": 14,
   "id": "533ac8f2-0329-44c4-81d9-d77c948773ba",
   "metadata": {},
   "outputs": [
    {
     "data": {
      "text/plain": [
       "4"
      ]
     },
     "execution_count": 14,
     "metadata": {},
     "output_type": "execute_result"
    }
   ],
   "source": [
    "len(tuple)"
   ]
  },
  {
   "cell_type": "code",
   "execution_count": 18,
   "id": "3c8a8d5d-9ce4-4434-ba72-f9385fddc198",
   "metadata": {},
   "outputs": [
    {
     "name": "stdout",
     "output_type": "stream",
     "text": [
      "tuple[0] => Hello\n",
      "tuple[-1] => 2\n",
      "tuple [1:3] => ('world', 1)\n",
      "tuple[-3:-1 => (1, 8)\n",
      "tuple [:2] ('Hello', 'world')\n",
      "tuple [2:] (1, 8, 2)\n"
     ]
    }
   ],
   "source": [
    "tuple = ('Hello','world',1,8,2)\n",
    "print ('tuple[0] =>',tuple[0])\n",
    "print ('tuple[-1] =>',tuple[-1])\n",
    "print ('tuple [1:3] =>',tuple[1:3])\n",
    "print ('tuple[-3:-1 =>',tuple[-3:-1])\n",
    "print ('tuple [:2]',tuple[:2])\n",
    "print ('tuple [2:]',tuple[2:])"
   ]
  },
  {
   "cell_type": "code",
   "execution_count": 22,
   "id": "b5d60879-5ea6-4056-a6d6-d5c57870acce",
   "metadata": {},
   "outputs": [
    {
     "data": {
      "text/plain": [
       "(1, 2, 3, 1, 2, 3, 1, 2, 3)"
      ]
     },
     "execution_count": 22,
     "metadata": {},
     "output_type": "execute_result"
    }
   ],
   "source": [
    "# when you multiply a tuple the result is broadcasting the tuple the number of times you multiply it\n",
    "(1,2,3) * 3"
   ]
  },
  {
   "cell_type": "markdown",
   "id": "55a572bb-0347-4695-a476-0974274aefbc",
   "metadata": {},
   "source": [
    "#### Sets"
   ]
  },
  {
   "cell_type": "markdown",
   "id": "ee2ba5b4-3cde-45e9-9172-acf99d2b801d",
   "metadata": {},
   "source": [
    "##### unordered, unindexed, doesnt allow duplicates, immutable, enclosed by {}"
   ]
  },
  {
   "cell_type": "code",
   "execution_count": 35,
   "id": "0d3001ae-5d73-42ce-ac71-db5faf079faf",
   "metadata": {},
   "outputs": [
    {
     "data": {
      "text/plain": [
       "{2, 5.65, 'Hi', True}"
      ]
     },
     "execution_count": 35,
     "metadata": {},
     "output_type": "execute_result"
    }
   ],
   "source": [
    "set = {2,'Hi',5.65,True}\n",
    "set"
   ]
  },
  {
   "cell_type": "code",
   "execution_count": 37,
   "id": "23181882-a330-4229-a54a-ce00cc0956af",
   "metadata": {},
   "outputs": [
    {
     "data": {
      "text/plain": [
       "4"
      ]
     },
     "execution_count": 37,
     "metadata": {},
     "output_type": "execute_result"
    }
   ],
   "source": [
    "len(set)"
   ]
  },
  {
   "cell_type": "code",
   "execution_count": 41,
   "id": "da41f255-dfd1-456c-b25a-52ec84f6176e",
   "metadata": {},
   "outputs": [
    {
     "name": "stdout",
     "output_type": "stream",
     "text": [
      "True\n",
      "2\n",
      "5.65\n",
      "Hi\n"
     ]
    }
   ],
   "source": [
    "# you can loop through a set to access the items\n",
    "for i in set:\n",
    "    print(i)"
   ]
  },
  {
   "cell_type": "markdown",
   "id": "4b5100d1-4cec-4049-bf50-6c95f120c2cf",
   "metadata": {},
   "source": [
    "#### Dictionary"
   ]
  },
  {
   "cell_type": "markdown",
   "id": "e27308cf-5e92-4f97-ac23-68cfa633e753",
   "metadata": {},
   "source": [
    "##### are ordered, mutable, doesnt allow duplicates"
   ]
  },
  {
   "cell_type": "code",
   "execution_count": 45,
   "id": "c5213a09-a5cd-41e5-a42e-d87dddcd1ba6",
   "metadata": {},
   "outputs": [
    {
     "data": {
      "text/plain": [
       "{'Chicago': 3.5, 'New York': 7, 'LA': 6}"
      ]
     },
     "execution_count": 45,
     "metadata": {},
     "output_type": "execute_result"
    }
   ],
   "source": [
    "city = {\n",
    "    'Chicago' : 3.5,\n",
    "    'New York' : 7,\n",
    "    'LA' : 6\n",
    "}\n",
    "city"
   ]
  },
  {
   "cell_type": "code",
   "execution_count": 51,
   "id": "d4f80bbb-8c97-4901-af27-8b7b5dcbd758",
   "metadata": {},
   "outputs": [
    {
     "data": {
      "text/plain": [
       "3.5"
      ]
     },
     "execution_count": 51,
     "metadata": {},
     "output_type": "execute_result"
    }
   ],
   "source": [
    "#access item of dictionary\n",
    "city['Chicago']"
   ]
  },
  {
   "cell_type": "code",
   "execution_count": 61,
   "id": "a50d6b10-3839-440c-bb1b-47d656fdd9f6",
   "metadata": {},
   "outputs": [
    {
     "data": {
      "text/plain": [
       "3.5"
      ]
     },
     "execution_count": 61,
     "metadata": {},
     "output_type": "execute_result"
    }
   ],
   "source": [
    "city.get('Chicago')"
   ]
  },
  {
   "cell_type": "code",
   "execution_count": 65,
   "id": "3834fa33-544a-421b-891f-f7bf408557ea",
   "metadata": {},
   "outputs": [
    {
     "data": {
      "text/plain": [
       "dict_keys(['Chicago', 'New York', 'LA'])"
      ]
     },
     "execution_count": 65,
     "metadata": {},
     "output_type": "execute_result"
    }
   ],
   "source": [
    "city.keys()"
   ]
  },
  {
   "cell_type": "code",
   "execution_count": 67,
   "id": "83386a58-4f36-4ce9-93b8-f665250e3bb7",
   "metadata": {},
   "outputs": [
    {
     "data": {
      "text/plain": [
       "dict_values([3.5, 7, 6])"
      ]
     },
     "execution_count": 67,
     "metadata": {},
     "output_type": "execute_result"
    }
   ],
   "source": [
    "city.values()"
   ]
  },
  {
   "cell_type": "code",
   "execution_count": 69,
   "id": "cdbef780-2ae2-434b-b25f-76ef341cebaa",
   "metadata": {},
   "outputs": [
    {
     "data": {
      "text/plain": [
       "dict_items([('Chicago', 3.5), ('New York', 7), ('LA', 6)])"
      ]
     },
     "execution_count": 69,
     "metadata": {},
     "output_type": "execute_result"
    }
   ],
   "source": [
    "city.items()"
   ]
  },
  {
   "cell_type": "code",
   "execution_count": 71,
   "id": "23c5562e-538c-4882-9641-6c5d4c866e6b",
   "metadata": {},
   "outputs": [
    {
     "data": {
      "text/plain": [
       "True"
      ]
     },
     "execution_count": 71,
     "metadata": {},
     "output_type": "execute_result"
    }
   ],
   "source": [
    "'Chicago' in city"
   ]
  },
  {
   "cell_type": "code",
   "execution_count": 73,
   "id": "bc69b830-da33-443c-8175-b0be6daab153",
   "metadata": {},
   "outputs": [
    {
     "data": {
      "text/plain": [
       "False"
      ]
     },
     "execution_count": 73,
     "metadata": {},
     "output_type": "execute_result"
    }
   ],
   "source": [
    "'Kathmandu' in city"
   ]
  },
  {
   "cell_type": "code",
   "execution_count": 75,
   "id": "f609f4bb-345d-4ad9-a0ff-56070a7e1a7a",
   "metadata": {},
   "outputs": [
    {
     "data": {
      "text/plain": [
       "{'Chicago': 3.5, 'New York': 7, 'LA': 20}"
      ]
     },
     "execution_count": 75,
     "metadata": {},
     "output_type": "execute_result"
    }
   ],
   "source": [
    "#changing dic items\n",
    "city['LA'] = 20\n",
    "city"
   ]
  },
  {
   "cell_type": "code",
   "execution_count": 77,
   "id": "de61f55b-62c6-430c-809e-cef3c382d3de",
   "metadata": {},
   "outputs": [
    {
     "data": {
      "text/plain": [
       "{'Chicago': 30, 'New York': 7, 'LA': 20}"
      ]
     },
     "execution_count": 77,
     "metadata": {},
     "output_type": "execute_result"
    }
   ],
   "source": [
    "city.update({'Chicago' : 30})\n",
    "city"
   ]
  },
  {
   "cell_type": "code",
   "execution_count": 79,
   "id": "1bf7e4f5-1bcc-40ac-b443-0bb7b5cab6ea",
   "metadata": {},
   "outputs": [
    {
     "data": {
      "text/plain": [
       "{'Chicago': 30, 'New York': 7, 'LA': 20, 'Kathmandu': 2.5}"
      ]
     },
     "execution_count": 79,
     "metadata": {},
     "output_type": "execute_result"
    }
   ],
   "source": [
    "# add item\n",
    "city['Kathmandu'] = 2.5\n",
    "city"
   ]
  },
  {
   "cell_type": "code",
   "execution_count": 81,
   "id": "f41b54d3-4ead-4457-a298-12e28b535d5a",
   "metadata": {},
   "outputs": [
    {
     "data": {
      "text/plain": [
       "{'Chicago': 30, 'New York': 7, 'LA': 20, 'Kathmandu': 2.5, 'Pokhara': 1.5}"
      ]
     },
     "execution_count": 81,
     "metadata": {},
     "output_type": "execute_result"
    }
   ],
   "source": [
    "city.update({'Pokhara' : 1.5})\n",
    "city"
   ]
  },
  {
   "cell_type": "code",
   "execution_count": 87,
   "id": "a0562632-5804-464e-8476-cfd5e4e30908",
   "metadata": {},
   "outputs": [
    {
     "data": {
      "text/plain": [
       "{'Chicago': 30, 'New York': 7, 'LA': 20, 'Kathmandu': 2.5}"
      ]
     },
     "execution_count": 87,
     "metadata": {},
     "output_type": "execute_result"
    }
   ],
   "source": [
    "# remove items in dic\n",
    "city.pop('Pokhara')\n",
    "city"
   ]
  },
  {
   "cell_type": "code",
   "execution_count": 89,
   "id": "3b07bfc0-0460-4409-bc47-aa6a3311b1ac",
   "metadata": {},
   "outputs": [],
   "source": [
    "# city.clear() deletes all items in dic"
   ]
  }
 ],
 "metadata": {
  "kernelspec": {
   "display_name": "Python 3 (ipykernel)",
   "language": "python",
   "name": "python3"
  },
  "language_info": {
   "codemirror_mode": {
    "name": "ipython",
    "version": 3
   },
   "file_extension": ".py",
   "mimetype": "text/x-python",
   "name": "python",
   "nbconvert_exporter": "python",
   "pygments_lexer": "ipython3",
   "version": "3.12.4"
  }
 },
 "nbformat": 4,
 "nbformat_minor": 5
}
