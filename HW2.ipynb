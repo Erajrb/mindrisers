{
 "cells": [
  {
   "cell_type": "markdown",
   "id": "c68804f3-7129-47ac-8881-265ac51ce184",
   "metadata": {},
   "source": [
    "## <font color = 'red'> Homework 2"
   ]
  },
  {
   "cell_type": "markdown",
   "id": "774d1677-0f7f-4034-8a2d-e5942a574b21",
   "metadata": {},
   "source": [
    "#### Exercise 1"
   ]
  },
  {
   "cell_type": "markdown",
   "id": "2d846f9a-a1a5-4e4e-ae04-41e458322278",
   "metadata": {},
   "source": [
    "##### Write a program to pay the employee 1.5 times the hourly rate for hours worked above 40 hours"
   ]
  },
  {
   "cell_type": "code",
   "execution_count": 1,
   "id": "bf70985c-d7c6-4284-a431-90a7181bab4a",
   "metadata": {},
   "outputs": [
    {
     "name": "stdin",
     "output_type": "stream",
     "text": [
      "Enter the hours of work:  45\n",
      "Enter the hourly rate of pay:  10\n"
     ]
    },
    {
     "name": "stdout",
     "output_type": "stream",
     "text": [
      "The gross payment for  45.0 hours is 475.0\n"
     ]
    }
   ],
   "source": [
    "hours = float(input('Enter the hours of work: '))\n",
    "rate = float(input('Enter the hourly rate of pay: '))\n",
    "if hours > 40 :\n",
    "    pay = (40 * rate) + ((hours - 40) * (rate * 1.5))\n",
    "    print('The gross payment for ',hours,'hours is',pay)\n",
    "else:\n",
    "    pay = hours * rate\n",
    "    print('The gross payment for ',hours,'hours is',pay)"
   ]
  },
  {
   "cell_type": "markdown",
   "id": "b3949e9e-561f-4790-858d-e4e3f24c22ca",
   "metadata": {},
   "source": [
    "#### Exercise 2"
   ]
  },
  {
   "cell_type": "markdown",
   "id": "2e295b89-7323-4541-9efc-c8a550287026",
   "metadata": {},
   "source": [
    "##### Write a program to input a score from 0.0 to 1.0.If the score is out of range print an error message and if in the range print a grade"
   ]
  },
  {
   "cell_type": "code",
   "execution_count": 7,
   "id": "c71c8d5a-baf1-4157-bd22-239edab8acfb",
   "metadata": {},
   "outputs": [
    {
     "name": "stdin",
     "output_type": "stream",
     "text": [
      "Enter a score:  10\n"
     ]
    },
    {
     "name": "stdout",
     "output_type": "stream",
     "text": [
      "Bad Score\n"
     ]
    }
   ],
   "source": [
    "score = float(input('Enter a score: '))\n",
    "if score >= 0.9 and score <= 1.0:\n",
    "    print ('A')\n",
    "elif score >= 0.8 and score < 0.9:\n",
    "    print ('B')\n",
    "elif score >= 0.7 and score < 0.8:\n",
    "    print ('C')\n",
    "elif score >= 0.6 and score < 0.7:\n",
    "    print ('D')\n",
    "elif score < 0.6 and score > 0.1:\n",
    "    print ('F')\n",
    "else:\n",
    "    print ('Bad Score')"
   ]
  },
  {
   "cell_type": "code",
   "execution_count": null,
   "id": "1b2b4e64-5beb-4a8b-8c21-c40abcc2e7a0",
   "metadata": {},
   "outputs": [],
   "source": []
  }
 ],
 "metadata": {
  "kernelspec": {
   "display_name": "Python 3 (ipykernel)",
   "language": "python",
   "name": "python3"
  },
  "language_info": {
   "codemirror_mode": {
    "name": "ipython",
    "version": 3
   },
   "file_extension": ".py",
   "mimetype": "text/x-python",
   "name": "python",
   "nbconvert_exporter": "python",
   "pygments_lexer": "ipython3",
   "version": "3.12.4"
  }
 },
 "nbformat": 4,
 "nbformat_minor": 5
}
