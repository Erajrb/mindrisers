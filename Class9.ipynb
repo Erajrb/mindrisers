{
 "cells": [
  {
   "cell_type": "markdown",
   "id": "0b5cb06c-9527-4516-a211-28e72101eda9",
   "metadata": {},
   "source": [
    "## <font color = 'red'> Class 9"
   ]
  },
  {
   "cell_type": "markdown",
   "id": "2b8a9108-8698-4791-8cf7-2a6e54837bc8",
   "metadata": {},
   "source": [
    "#### Arrays"
   ]
  },
  {
   "cell_type": "code",
   "execution_count": 4,
   "id": "b3aadf3e-4de9-4be9-b2ff-48c37aa3d96b",
   "metadata": {},
   "outputs": [],
   "source": [
    "import numpy as np"
   ]
  },
  {
   "cell_type": "code",
   "execution_count": 6,
   "id": "5de13a1b-f056-4841-b02c-bdd6ab97d4a7",
   "metadata": {},
   "outputs": [],
   "source": [
    "np.random.seed(0)"
   ]
  },
  {
   "cell_type": "code",
   "execution_count": 8,
   "id": "5dc1c376-21bc-4327-98e3-1bc9f1133826",
   "metadata": {},
   "outputs": [
    {
     "data": {
      "text/plain": [
       "array([5, 0, 3, 3, 7, 9])"
      ]
     },
     "execution_count": 8,
     "metadata": {},
     "output_type": "execute_result"
    }
   ],
   "source": [
    "x1 = np.random.randint(10,size = 6)\n",
    "x2 = np.random.randint(10,size = (4,3))\n",
    "x3 = np.random.randint(10,size=(2,3,4))\n",
    "x1"
   ]
  },
  {
   "cell_type": "code",
   "execution_count": 14,
   "id": "60bb13ce-d7d8-4cb1-a6db-baf55c064edd",
   "metadata": {},
   "outputs": [
    {
     "name": "stdout",
     "output_type": "stream",
     "text": [
      "1\n",
      "2\n",
      "3\n"
     ]
    }
   ],
   "source": [
    "print(x1.ndim)\n",
    "print(x2.ndim)\n",
    "print(x3.ndim)"
   ]
  },
  {
   "cell_type": "code",
   "execution_count": 16,
   "id": "c678c9df-80c9-49e6-bde8-2a0e2b2d007e",
   "metadata": {},
   "outputs": [
    {
     "name": "stdout",
     "output_type": "stream",
     "text": [
      "(6,)\n",
      "(4, 3)\n",
      "(2, 3, 4)\n"
     ]
    }
   ],
   "source": [
    "print(x1.shape)\n",
    "print(x2.shape)\n",
    "print(x3.shape)"
   ]
  },
  {
   "cell_type": "code",
   "execution_count": 21,
   "id": "8e45d3f3-caf1-4c50-80d7-a31f91984afa",
   "metadata": {},
   "outputs": [
    {
     "name": "stdout",
     "output_type": "stream",
     "text": [
      "6\n",
      "12\n",
      "24\n"
     ]
    }
   ],
   "source": [
    "print(x1.size)\n",
    "print(x2.size)\n",
    "print(x3.size)"
   ]
  },
  {
   "cell_type": "code",
   "execution_count": 23,
   "id": "7bdb4e87-4a98-40bd-a290-cb4032854612",
   "metadata": {},
   "outputs": [
    {
     "data": {
      "text/plain": [
       "dtype('int32')"
      ]
     },
     "execution_count": 23,
     "metadata": {},
     "output_type": "execute_result"
    }
   ],
   "source": [
    "x1.dtype"
   ]
  },
  {
   "cell_type": "code",
   "execution_count": 25,
   "id": "621e9288-8eca-40a9-9b98-bbf7a68bd025",
   "metadata": {},
   "outputs": [
    {
     "name": "stdout",
     "output_type": "stream",
     "text": [
      "x2 itemsize = 4\n",
      "x2 nbytes =  48\n"
     ]
    }
   ],
   "source": [
    "print('x2 itemsize =',x2.itemsize )\n",
    "print('x2 nbytes = ',x2.nbytes)"
   ]
  },
  {
   "cell_type": "markdown",
   "id": "8614accf-c6ca-41d8-92f0-fc8f60c235d7",
   "metadata": {},
   "source": [
    "#### Array indexing"
   ]
  },
  {
   "cell_type": "code",
   "execution_count": 30,
   "id": "c1b417e9-6dd8-494c-bc49-d8334cd9ec2f",
   "metadata": {},
   "outputs": [
    {
     "name": "stdout",
     "output_type": "stream",
     "text": [
      "[5 0 3 3 7 9]\n",
      "5\n"
     ]
    }
   ],
   "source": [
    "print(x1)\n",
    "print(x1[0])"
   ]
  },
  {
   "cell_type": "code",
   "execution_count": 32,
   "id": "899fba5d-7404-4bb6-96c6-30c93c31a5e2",
   "metadata": {},
   "outputs": [
    {
     "name": "stdout",
     "output_type": "stream",
     "text": [
      "[[3 5 2]\n",
      " [4 7 6]\n",
      " [8 8 1]\n",
      " [6 7 7]]\n",
      "3\n",
      "1\n"
     ]
    }
   ],
   "source": [
    "print(x2)\n",
    "print(x2[0,0])\n",
    "print(x2[2,-1])"
   ]
  },
  {
   "cell_type": "code",
   "execution_count": 34,
   "id": "8aba3b22-97ac-4c98-bb38-75f28a793ed7",
   "metadata": {},
   "outputs": [
    {
     "name": "stdout",
     "output_type": "stream",
     "text": [
      "[[3 5 2]\n",
      " [4 7 6]\n",
      " [8 8 3]\n",
      " [6 7 7]]\n",
      "updated item at row 3 and column 3 =  3\n"
     ]
    }
   ],
   "source": [
    "x2[2,-1] = 3.1415\n",
    "print(x2)\n",
    "print('updated item at row 3 and column 3 = ',x2[2,-1])"
   ]
  },
  {
   "cell_type": "code",
   "execution_count": 46,
   "id": "c8c24346-5538-4f56-993f-0efcdc72b90a",
   "metadata": {},
   "outputs": [
    {
     "data": {
      "text/plain": [
       "7"
      ]
     },
     "execution_count": 46,
     "metadata": {},
     "output_type": "execute_result"
    }
   ],
   "source": [
    "x2[3,1]"
   ]
  },
  {
   "cell_type": "code",
   "execution_count": 48,
   "id": "9ccf73bd-650c-4276-95fc-8be405666992",
   "metadata": {},
   "outputs": [
    {
     "data": {
      "text/plain": [
       "array([[3, 5, 2],\n",
       "       [4, 7, 6],\n",
       "       [8, 8, 3],\n",
       "       [6, 9, 7]])"
      ]
     },
     "execution_count": 48,
     "metadata": {},
     "output_type": "execute_result"
    }
   ],
   "source": [
    "x2[3,1] = 9\n",
    "x2"
   ]
  },
  {
   "cell_type": "markdown",
   "id": "addb0b4a-59ff-47a9-86e4-eebf17724779",
   "metadata": {},
   "source": [
    "#### Array slicing"
   ]
  },
  {
   "cell_type": "code",
   "execution_count": 53,
   "id": "136f9a2c-62d8-4202-832f-f2629ec01fc9",
   "metadata": {},
   "outputs": [
    {
     "data": {
      "text/plain": [
       "array([0, 1, 2, 3, 4, 5, 6, 7, 8, 9])"
      ]
     },
     "execution_count": 53,
     "metadata": {},
     "output_type": "execute_result"
    }
   ],
   "source": [
    "x = np.arange(10)\n",
    "x"
   ]
  },
  {
   "cell_type": "code",
   "execution_count": 61,
   "id": "249b1d78-b676-4515-a1ac-3b97ad7814c4",
   "metadata": {},
   "outputs": [
    {
     "name": "stdout",
     "output_type": "stream",
     "text": [
      "x[:7] =  [0 1 2 3 4 5 6]\n",
      "x[7:] =  [7 8 9]\n",
      "x[3:8] =  [3 4 5 6 7]\n",
      "x[::2] =  [0 2 4 6 8]\n",
      "x[2::2] =  [2 4 6 8]\n",
      "x[::] =  [0 1 2 3 4 5 6 7 8 9]\n"
     ]
    }
   ],
   "source": [
    "print('x[:7] = ',x[:7])\n",
    "print('x[7:] = ',x[7:])\n",
    "print('x[3:8] = ',x[3:8])\n",
    "print('x[::2] = ',x[::2])\n",
    "print('x[2::2] = ',x[2::2])\n",
    "print('x[::] = ',x[::])"
   ]
  },
  {
   "cell_type": "code",
   "execution_count": 65,
   "id": "fa81f147-0347-4a6e-b5fa-9bdd7c4c615a",
   "metadata": {},
   "outputs": [
    {
     "name": "stdout",
     "output_type": "stream",
     "text": [
      "x[7:3:-1] =  [7 6 5 4]\n"
     ]
    }
   ],
   "source": [
    "#here step value is used to print the values in reverse from 7th to 4th element\n",
    "print('x[7:3:-1] = ',x[7:3:-1])"
   ]
  },
  {
   "cell_type": "markdown",
   "id": "1fa18a86-9cd8-4571-a434-370c2ea5ee93",
   "metadata": {},
   "source": [
    "#### Multidimensional array"
   ]
  },
  {
   "cell_type": "code",
   "execution_count": 69,
   "id": "bd424298-3378-46eb-92ac-adfe03f955d4",
   "metadata": {},
   "outputs": [
    {
     "data": {
      "text/plain": [
       "array([[3, 5, 2],\n",
       "       [4, 7, 6],\n",
       "       [8, 8, 3],\n",
       "       [6, 9, 7]])"
      ]
     },
     "execution_count": 69,
     "metadata": {},
     "output_type": "execute_result"
    }
   ],
   "source": [
    "x2"
   ]
  },
  {
   "cell_type": "code",
   "execution_count": 83,
   "id": "fbca3737-88de-488e-80df-5f9b96ab4a49",
   "metadata": {},
   "outputs": [
    {
     "data": {
      "text/plain": [
       "array([[3, 5],\n",
       "       [4, 7],\n",
       "       [8, 8]])"
      ]
     },
     "execution_count": 83,
     "metadata": {},
     "output_type": "execute_result"
    }
   ],
   "source": [
    "#rows from 0 to 2 columns from 0 to 1\n",
    "x2[:3,:2]"
   ]
  },
  {
   "cell_type": "code",
   "execution_count": 81,
   "id": "ac160a2f-af97-44c5-ae03-a480d28bebeb",
   "metadata": {},
   "outputs": [
    {
     "data": {
      "text/plain": [
       "array([[3, 5, 2],\n",
       "       [8, 8, 3]])"
      ]
     },
     "execution_count": 81,
     "metadata": {},
     "output_type": "execute_result"
    }
   ],
   "source": [
    "# every other row,all columns\n",
    "x2[::2,:]"
   ]
  },
  {
   "cell_type": "code",
   "execution_count": 85,
   "id": "6a9412ea-33f9-4970-b814-3e3b8438a9b0",
   "metadata": {},
   "outputs": [
    {
     "data": {
      "text/plain": [
       "array([[7, 9, 6],\n",
       "       [3, 8, 8],\n",
       "       [6, 7, 4],\n",
       "       [2, 5, 3]])"
      ]
     },
     "execution_count": 85,
     "metadata": {},
     "output_type": "execute_result"
    }
   ],
   "source": [
    "#reverse altogether\n",
    "x2[::-1,::-1]"
   ]
  },
  {
   "cell_type": "markdown",
   "id": "c6270a22-c667-46da-b0b5-36c4e8ca7448",
   "metadata": {},
   "source": [
    "##### reshaping arrays"
   ]
  },
  {
   "cell_type": "code",
   "execution_count": 97,
   "id": "1996082c-9da9-4ea8-9663-991ee84eb859",
   "metadata": {},
   "outputs": [
    {
     "data": {
      "text/plain": [
       "array([[1, 2, 3],\n",
       "       [4, 5, 6],\n",
       "       [7, 8, 9]])"
      ]
     },
     "execution_count": 97,
     "metadata": {},
     "output_type": "execute_result"
    }
   ],
   "source": [
    "np.arange(1,10).reshape((3,3))"
   ]
  },
  {
   "cell_type": "code",
   "execution_count": 109,
   "id": "f13bfa41-5599-4603-921c-eb9379f969b4",
   "metadata": {},
   "outputs": [
    {
     "data": {
      "text/plain": [
       "array([[ 1,  2,  3,  4],\n",
       "       [ 5,  6,  7,  8],\n",
       "       [ 9, 10, 11, 12],\n",
       "       [13, 14, 15, 16]])"
      ]
     },
     "execution_count": 109,
     "metadata": {},
     "output_type": "execute_result"
    }
   ],
   "source": [
    "np.arange(1,17).reshape((4,4))"
   ]
  },
  {
   "cell_type": "code",
   "execution_count": 133,
   "id": "05d3e5c1-32f0-4224-91b1-1c6268d6c931",
   "metadata": {},
   "outputs": [
    {
     "data": {
      "text/plain": [
       "array([1, 2, 3, 4, 5, 6])"
      ]
     },
     "execution_count": 133,
     "metadata": {},
     "output_type": "execute_result"
    }
   ],
   "source": [
    "x = np.array([1,2,3])\n",
    "y = np.array([4,5,6])\n",
    "np.concatenate([x,y])"
   ]
  },
  {
   "cell_type": "code",
   "execution_count": 113,
   "id": "60efc6a8-fa9f-4bf0-b5d2-fe3e6633ac25",
   "metadata": {},
   "outputs": [
    {
     "data": {
      "text/plain": [
       "array([[1, 2, 3],\n",
       "       [4, 5, 6],\n",
       "       [1, 2, 3],\n",
       "       [4, 5, 6]])"
      ]
     },
     "execution_count": 113,
     "metadata": {},
     "output_type": "execute_result"
    }
   ],
   "source": [
    "arr2d = ([\n",
    "        [1,2,3],\n",
    "        [4,5,6]\n",
    "])\n",
    "np.concatenate([arr2d,arr2d])"
   ]
  },
  {
   "cell_type": "code",
   "execution_count": 121,
   "id": "1f8f9b01-10a1-4c38-8b68-703066ed8e47",
   "metadata": {},
   "outputs": [
    {
     "data": {
      "text/plain": [
       "array([[1, 2, 3, 1, 2, 3],\n",
       "       [4, 5, 6, 4, 5, 6]])"
      ]
     },
     "execution_count": 121,
     "metadata": {},
     "output_type": "execute_result"
    }
   ],
   "source": [
    "# concatenate along second axis where axis = 1 is column\n",
    "np.concatenate([arr2d,arr2d],axis=1)"
   ]
  },
  {
   "cell_type": "code",
   "execution_count": 125,
   "id": "fb31ca2b-dbaf-494e-a76d-4e3ec6223393",
   "metadata": {},
   "outputs": [
    {
     "data": {
      "text/plain": [
       "array([[1, 2, 3],\n",
       "       [1, 2, 3],\n",
       "       [4, 5, 6]])"
      ]
     },
     "execution_count": 125,
     "metadata": {},
     "output_type": "execute_result"
    }
   ],
   "source": [
    "np.vstack([x,arr2d])"
   ]
  },
  {
   "cell_type": "code",
   "execution_count": 135,
   "id": "950dba5c-44ae-486a-8018-2e353500b8b6",
   "metadata": {},
   "outputs": [
    {
     "data": {
      "text/plain": [
       "array([[99,  1,  2,  3],\n",
       "       [99,  4,  5,  6]])"
      ]
     },
     "execution_count": 135,
     "metadata": {},
     "output_type": "execute_result"
    }
   ],
   "source": [
    "y = [[99],\n",
    "     [99]]\n",
    "np.hstack([y,arr2d])"
   ]
  }
 ],
 "metadata": {
  "kernelspec": {
   "display_name": "Python 3 (ipykernel)",
   "language": "python",
   "name": "python3"
  },
  "language_info": {
   "codemirror_mode": {
    "name": "ipython",
    "version": 3
   },
   "file_extension": ".py",
   "mimetype": "text/x-python",
   "name": "python",
   "nbconvert_exporter": "python",
   "pygments_lexer": "ipython3",
   "version": "3.12.4"
  }
 },
 "nbformat": 4,
 "nbformat_minor": 5
}
