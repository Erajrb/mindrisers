{
 "cells": [
  {
   "cell_type": "markdown",
   "id": "3456664a-f90d-45ed-9c81-24484d902b88",
   "metadata": {},
   "source": [
    "#### 1.2 Imports"
   ]
  },
  {
   "cell_type": "code",
   "execution_count": 1,
   "id": "cd574485-05b9-4955-8a8f-409b342b8030",
   "metadata": {},
   "outputs": [],
   "source": [
    "import numpy as np\n",
    "import pandas as pd\n",
    "import matplotlib.pyplot as plt\n",
    "from scipy import stats"
   ]
  },
  {
   "cell_type": "code",
   "execution_count": 2,
   "id": "6c4c80a9-5da5-4562-bbb7-31c2f8229d06",
   "metadata": {},
   "outputs": [],
   "source": [
    "data = pd.read_csv('modified_c4_epa_air_quality.csv', index_col = 0)"
   ]
  },
  {
   "cell_type": "markdown",
   "id": "e0bfd9a1-d6b1-4ca5-bb90-97ba4de330ad",
   "metadata": {},
   "source": [
    "#### 1.3 Data Exploration"
   ]
  },
  {
   "cell_type": "code",
   "execution_count": 4,
   "id": "7a784c0f-bf9b-454f-8213-15ed6dd712e5",
   "metadata": {},
   "outputs": [
    {
     "data": {
      "text/html": [
       "<div>\n",
       "<style scoped>\n",
       "    .dataframe tbody tr th:only-of-type {\n",
       "        vertical-align: middle;\n",
       "    }\n",
       "\n",
       "    .dataframe tbody tr th {\n",
       "        vertical-align: top;\n",
       "    }\n",
       "\n",
       "    .dataframe thead th {\n",
       "        text-align: right;\n",
       "    }\n",
       "</style>\n",
       "<table border=\"1\" class=\"dataframe\">\n",
       "  <thead>\n",
       "    <tr style=\"text-align: right;\">\n",
       "      <th></th>\n",
       "      <th>state_name</th>\n",
       "      <th>county_name</th>\n",
       "      <th>city_name</th>\n",
       "      <th>local_site_name</th>\n",
       "      <th>parameter_name</th>\n",
       "      <th>units_of_measure</th>\n",
       "      <th>aqi_log</th>\n",
       "    </tr>\n",
       "    <tr>\n",
       "      <th>date_local</th>\n",
       "      <th></th>\n",
       "      <th></th>\n",
       "      <th></th>\n",
       "      <th></th>\n",
       "      <th></th>\n",
       "      <th></th>\n",
       "      <th></th>\n",
       "    </tr>\n",
       "  </thead>\n",
       "  <tbody>\n",
       "    <tr>\n",
       "      <th>2018-01-01</th>\n",
       "      <td>Arizona</td>\n",
       "      <td>Maricopa</td>\n",
       "      <td>Buckeye</td>\n",
       "      <td>BUCKEYE</td>\n",
       "      <td>Carbon monoxide</td>\n",
       "      <td>Parts per million</td>\n",
       "      <td>2.079442</td>\n",
       "    </tr>\n",
       "    <tr>\n",
       "      <th>2018-01-01</th>\n",
       "      <td>Ohio</td>\n",
       "      <td>Belmont</td>\n",
       "      <td>Shadyside</td>\n",
       "      <td>Shadyside</td>\n",
       "      <td>Carbon monoxide</td>\n",
       "      <td>Parts per million</td>\n",
       "      <td>1.791759</td>\n",
       "    </tr>\n",
       "    <tr>\n",
       "      <th>2018-01-01</th>\n",
       "      <td>Wyoming</td>\n",
       "      <td>Teton</td>\n",
       "      <td>Not in a city</td>\n",
       "      <td>Yellowstone National Park - Old Faithful Snow ...</td>\n",
       "      <td>Carbon monoxide</td>\n",
       "      <td>Parts per million</td>\n",
       "      <td>1.098612</td>\n",
       "    </tr>\n",
       "    <tr>\n",
       "      <th>2018-01-01</th>\n",
       "      <td>Pennsylvania</td>\n",
       "      <td>Philadelphia</td>\n",
       "      <td>Philadelphia</td>\n",
       "      <td>North East Waste (NEW)</td>\n",
       "      <td>Carbon monoxide</td>\n",
       "      <td>Parts per million</td>\n",
       "      <td>1.386294</td>\n",
       "    </tr>\n",
       "    <tr>\n",
       "      <th>2018-01-01</th>\n",
       "      <td>Iowa</td>\n",
       "      <td>Polk</td>\n",
       "      <td>Des Moines</td>\n",
       "      <td>CARPENTER</td>\n",
       "      <td>Carbon monoxide</td>\n",
       "      <td>Parts per million</td>\n",
       "      <td>1.386294</td>\n",
       "    </tr>\n",
       "    <tr>\n",
       "      <th>2018-01-01</th>\n",
       "      <td>Hawaii</td>\n",
       "      <td>Honolulu</td>\n",
       "      <td>Not in a city</td>\n",
       "      <td>Kapolei</td>\n",
       "      <td>Carbon monoxide</td>\n",
       "      <td>Parts per million</td>\n",
       "      <td>2.708050</td>\n",
       "    </tr>\n",
       "    <tr>\n",
       "      <th>2018-01-01</th>\n",
       "      <td>Hawaii</td>\n",
       "      <td>Honolulu</td>\n",
       "      <td>Not in a city</td>\n",
       "      <td>Kapolei</td>\n",
       "      <td>Carbon monoxide</td>\n",
       "      <td>Parts per million</td>\n",
       "      <td>1.098612</td>\n",
       "    </tr>\n",
       "    <tr>\n",
       "      <th>2018-01-01</th>\n",
       "      <td>Pennsylvania</td>\n",
       "      <td>Erie</td>\n",
       "      <td>Erie</td>\n",
       "      <td>NaN</td>\n",
       "      <td>Carbon monoxide</td>\n",
       "      <td>Parts per million</td>\n",
       "      <td>1.098612</td>\n",
       "    </tr>\n",
       "    <tr>\n",
       "      <th>2018-01-01</th>\n",
       "      <td>Hawaii</td>\n",
       "      <td>Honolulu</td>\n",
       "      <td>Honolulu</td>\n",
       "      <td>Honolulu</td>\n",
       "      <td>Carbon monoxide</td>\n",
       "      <td>Parts per million</td>\n",
       "      <td>1.791759</td>\n",
       "    </tr>\n",
       "    <tr>\n",
       "      <th>2018-01-01</th>\n",
       "      <td>Colorado</td>\n",
       "      <td>Larimer</td>\n",
       "      <td>Fort Collins</td>\n",
       "      <td>Fort Collins - CSU - S. Mason</td>\n",
       "      <td>Carbon monoxide</td>\n",
       "      <td>Parts per million</td>\n",
       "      <td>1.945910</td>\n",
       "    </tr>\n",
       "  </tbody>\n",
       "</table>\n",
       "</div>"
      ],
      "text/plain": [
       "              state_name   county_name      city_name  \\\n",
       "date_local                                              \n",
       "2018-01-01       Arizona      Maricopa        Buckeye   \n",
       "2018-01-01          Ohio       Belmont      Shadyside   \n",
       "2018-01-01       Wyoming         Teton  Not in a city   \n",
       "2018-01-01  Pennsylvania  Philadelphia   Philadelphia   \n",
       "2018-01-01          Iowa          Polk     Des Moines   \n",
       "2018-01-01        Hawaii      Honolulu  Not in a city   \n",
       "2018-01-01        Hawaii      Honolulu  Not in a city   \n",
       "2018-01-01  Pennsylvania          Erie           Erie   \n",
       "2018-01-01        Hawaii      Honolulu       Honolulu   \n",
       "2018-01-01      Colorado       Larimer   Fort Collins   \n",
       "\n",
       "                                              local_site_name  \\\n",
       "date_local                                                      \n",
       "2018-01-01                                            BUCKEYE   \n",
       "2018-01-01                                          Shadyside   \n",
       "2018-01-01  Yellowstone National Park - Old Faithful Snow ...   \n",
       "2018-01-01                             North East Waste (NEW)   \n",
       "2018-01-01                                          CARPENTER   \n",
       "2018-01-01                                            Kapolei   \n",
       "2018-01-01                                            Kapolei   \n",
       "2018-01-01                                                NaN   \n",
       "2018-01-01                                           Honolulu   \n",
       "2018-01-01                      Fort Collins - CSU - S. Mason   \n",
       "\n",
       "             parameter_name   units_of_measure   aqi_log  \n",
       "date_local                                                \n",
       "2018-01-01  Carbon monoxide  Parts per million  2.079442  \n",
       "2018-01-01  Carbon monoxide  Parts per million  1.791759  \n",
       "2018-01-01  Carbon monoxide  Parts per million  1.098612  \n",
       "2018-01-01  Carbon monoxide  Parts per million  1.386294  \n",
       "2018-01-01  Carbon monoxide  Parts per million  1.386294  \n",
       "2018-01-01  Carbon monoxide  Parts per million  2.708050  \n",
       "2018-01-01  Carbon monoxide  Parts per million  1.098612  \n",
       "2018-01-01  Carbon monoxide  Parts per million  1.098612  \n",
       "2018-01-01  Carbon monoxide  Parts per million  1.791759  \n",
       "2018-01-01  Carbon monoxide  Parts per million  1.945910  "
      ]
     },
     "execution_count": 4,
     "metadata": {},
     "output_type": "execute_result"
    }
   ],
   "source": [
    "data.head(10)"
   ]
  },
  {
   "cell_type": "code",
   "execution_count": 8,
   "id": "2684def5-da4e-4005-ae94-e2abed2f6c65",
   "metadata": {},
   "outputs": [
    {
     "data": {
      "text/plain": [
       "(260, 7)"
      ]
     },
     "execution_count": 8,
     "metadata": {},
     "output_type": "execute_result"
    }
   ],
   "source": [
    "# Display no of rows and columns\n",
    "data.shape"
   ]
  },
  {
   "cell_type": "code",
   "execution_count": 10,
   "id": "6154899d-459d-43d3-a397-572f3954ffab",
   "metadata": {},
   "outputs": [
    {
     "data": {
      "text/plain": [
       "Text(0.5, 0, 'Aqi Value')"
      ]
     },
     "execution_count": 10,
     "metadata": {},
     "output_type": "execute_result"
    },
    {
     "data": {
      "image/png": "[encoded data removed]",
      "text/plain": [
       "<Figure size 400x300 with 1 Axes>"
      ]
     },
     "metadata": {},
     "output_type": "display_data"
    }
   ],
   "source": [
    "# Create a histogram of aqi column\n",
    "plt.figure(figsize=(4,3))\n",
    "plt.hist(data['aqi_log'])\n",
    "plt.title('Histogram of logarithmic AQI')\n",
    "plt.xlabel('Aqi Value')"
   ]
  },
  {
   "cell_type": "markdown",
   "id": "f4fef3f5-bb32-4429-a155-88fde4886442",
   "metadata": {},
   "source": [
    "#### 1.4 Statistical Tests"
   ]
  },
  {
   "cell_type": "code",
   "execution_count": 13,
   "id": "1d9a22aa-78fe-4867-afd5-3d1a36e5b94e",
   "metadata": {},
   "outputs": [
    {
     "name": "stdout",
     "output_type": "stream",
     "text": [
      "1.7669210929985582\n"
     ]
    }
   ],
   "source": [
    "# Define variable for aqi_log mean\n",
    "aqi_mean = data['aqi_log'].mean()\n",
    "print(aqi_mean)"
   ]
  },
  {
   "cell_type": "code",
   "execution_count": 15,
   "id": "3ffbdc52-c9bf-4780-a08d-5eac7d829e96",
   "metadata": {},
   "outputs": [
    {
     "name": "stdout",
     "output_type": "stream",
     "text": [
      "0.7147155520223721\n"
     ]
    }
   ],
   "source": [
    "# Define variable for aqi_log standard deviation\n",
    "aqi_std = data['aqi_log'].std()\n",
    "print(aqi_std)"
   ]
  },
  {
   "cell_type": "code",
   "execution_count": 17,
   "id": "5a4356b4-fdd8-45b5-b858-06c1d2c3d65a",
   "metadata": {},
   "outputs": [
    {
     "name": "stdout",
     "output_type": "stream",
     "text": [
      "upper limit and lower limit are:  2.4816366450209304 and 1.052205540976186\n"
     ]
    }
   ],
   "source": [
    "# Define variables for upper limit and lower limit, 1 std above and below the mean\n",
    "upper_limit1 = aqi_mean + 1*aqi_std\n",
    "lower_limit1 = aqi_mean - 1*aqi_std\n",
    "print('upper limit and lower limit are: ',upper_limit1,'and',lower_limit1)"
   ]
  },
  {
   "cell_type": "code",
   "execution_count": 19,
   "id": "b7ce808b-73e8-489d-8831-1bcc6557580d",
   "metadata": {},
   "outputs": [
    {
     "name": "stdout",
     "output_type": "stream",
     "text": [
      "The percentile that falls within 1 standard deviation is : 76.15384615384615 %\n"
     ]
    }
   ],
   "source": [
    "# Display the actual percentage of data that falls between 1 std of the mean\n",
    "std1 = (((data['aqi_log'] >= lower_limit1) & (data['aqi_log'] <= upper_limit1)).mean()) * 100 \n",
    "print('The percentile that falls within 1 standard deviation is :', std1 , '%')"
   ]
  },
  {
   "cell_type": "code",
   "execution_count": 21,
   "id": "d5740d52-4df0-4ad7-8c26-7ab09f0f6fbe",
   "metadata": {},
   "outputs": [
    {
     "name": "stdout",
     "output_type": "stream",
     "text": [
      "upper limit and lower limit of 2 std are:  3.1963521970433026 and 0.3374899889538139\n"
     ]
    }
   ],
   "source": [
    "# Define variables for upper limit and lower limit, 2 std above and below the mean\n",
    "upper_limit2 = aqi_mean + 2*aqi_std\n",
    "lower_limit2 = aqi_mean - 2*aqi_std\n",
    "print('upper limit and lower limit of 2 std are: ',upper_limit2,'and',lower_limit2)"
   ]
  },
  {
   "cell_type": "code",
   "execution_count": 23,
   "id": "bdda44ff-f88e-44d0-8669-7c6030e83d0c",
   "metadata": {},
   "outputs": [
    {
     "name": "stdout",
     "output_type": "stream",
     "text": [
      "The percentile that falls within 2 standard deviation is : 95.76923076923077 %\n"
     ]
    }
   ],
   "source": [
    "# Display the actual percentage of data that falls between 2 std of the mean\n",
    "std2 = (((data['aqi_log'] >= lower_limit2) & (data['aqi_log'] <= upper_limit2)).mean()) * 100 \n",
    "print('The percentile that falls within 2 standard deviation is :', std2 , '%')"
   ]
  },
  {
   "cell_type": "code",
   "execution_count": 25,
   "id": "dd82a016-2b95-42d8-835d-a4bac676afd5",
   "metadata": {},
   "outputs": [
    {
     "name": "stdout",
     "output_type": "stream",
     "text": [
      "upper limit and lower limit of 3 std are:  3.9110677490656744 and -0.37722556306855815\n"
     ]
    }
   ],
   "source": [
    "# Define variables for upper limit and lower limit, 3 std above and below the mean\n",
    "upper_limit3 = aqi_mean + 3*aqi_std\n",
    "lower_limit3 = aqi_mean - 3*aqi_std\n",
    "print('upper limit and lower limit of 3 std are: ',upper_limit3,'and',lower_limit3)"
   ]
  },
  {
   "cell_type": "code",
   "execution_count": 27,
   "id": "c203617a-db58-4cd5-a6d6-52f130e99e7c",
   "metadata": {},
   "outputs": [
    {
     "name": "stdout",
     "output_type": "stream",
     "text": [
      "The percentile that falls within 3 standard deviation is : 99.61538461538461 %\n"
     ]
    }
   ],
   "source": [
    "# Display the actual percentage of data that falls between 3 std of the mean\n",
    "std3 = (((data['aqi_log'] >= lower_limit3) & (data['aqi_log'] <= upper_limit3)).mean()) * 100 \n",
    "print('The percentile that falls within 3 standard deviation is :', std3 , '%')"
   ]
  },
  {
   "cell_type": "markdown",
   "id": "859d47a4-1639-4c66-bca6-292b81d22c97",
   "metadata": {},
   "source": [
    "#### 1.5 Results and Evaluation"
   ]
  },
  {
   "cell_type": "code",
   "execution_count": 30,
   "id": "38a20d99-cf14-434c-8e05-1124c7ab8513",
   "metadata": {},
   "outputs": [
    {
     "data": {
      "text/plain": [
       "date_local\n",
       "2018-01-01    0.438109\n",
       "2018-01-01    0.034820\n",
       "2018-01-01   -0.936873\n",
       "2018-01-01   -0.533584\n",
       "2018-01-01   -0.533584\n",
       "                ...   \n",
       "2018-01-01   -0.533584\n",
       "2018-01-01   -0.936873\n",
       "2018-01-01   -0.936873\n",
       "2018-01-01    0.750924\n",
       "2018-01-01   -0.936873\n",
       "Name: aqi_log, Length: 260, dtype: float64"
      ]
     },
     "execution_count": 30,
     "metadata": {},
     "output_type": "execute_result"
    }
   ],
   "source": [
    "# Compute the z-score for every aqi_log value, and add a column named z_score in the data to store those results.\n",
    "z_score = stats.zscore(data['aqi_log'])\n",
    "z_score"
   ]
  },
  {
   "cell_type": "code",
   "execution_count": 32,
   "id": "791c4ad7-1a28-4486-a684-0c11d1049bad",
   "metadata": {},
   "outputs": [
    {
     "data": {
      "text/html": [
       "<div>\n",
       "<style scoped>\n",
       "    .dataframe tbody tr th:only-of-type {\n",
       "        vertical-align: middle;\n",
       "    }\n",
       "\n",
       "    .dataframe tbody tr th {\n",
       "        vertical-align: top;\n",
       "    }\n",
       "\n",
       "    .dataframe thead th {\n",
       "        text-align: right;\n",
       "    }\n",
       "</style>\n",
       "<table border=\"1\" class=\"dataframe\">\n",
       "  <thead>\n",
       "    <tr style=\"text-align: right;\">\n",
       "      <th></th>\n",
       "      <th>state_name</th>\n",
       "      <th>county_name</th>\n",
       "      <th>city_name</th>\n",
       "      <th>local_site_name</th>\n",
       "      <th>parameter_name</th>\n",
       "      <th>units_of_measure</th>\n",
       "      <th>aqi_log</th>\n",
       "      <th>z_score</th>\n",
       "    </tr>\n",
       "    <tr>\n",
       "      <th>date_local</th>\n",
       "      <th></th>\n",
       "      <th></th>\n",
       "      <th></th>\n",
       "      <th></th>\n",
       "      <th></th>\n",
       "      <th></th>\n",
       "      <th></th>\n",
       "      <th></th>\n",
       "    </tr>\n",
       "  </thead>\n",
       "  <tbody>\n",
       "    <tr>\n",
       "      <th>2018-01-01</th>\n",
       "      <td>Arizona</td>\n",
       "      <td>Maricopa</td>\n",
       "      <td>Buckeye</td>\n",
       "      <td>BUCKEYE</td>\n",
       "      <td>Carbon monoxide</td>\n",
       "      <td>Parts per million</td>\n",
       "      <td>2.079442</td>\n",
       "      <td>0.438109</td>\n",
       "    </tr>\n",
       "    <tr>\n",
       "      <th>2018-01-01</th>\n",
       "      <td>Ohio</td>\n",
       "      <td>Belmont</td>\n",
       "      <td>Shadyside</td>\n",
       "      <td>Shadyside</td>\n",
       "      <td>Carbon monoxide</td>\n",
       "      <td>Parts per million</td>\n",
       "      <td>1.791759</td>\n",
       "      <td>0.034820</td>\n",
       "    </tr>\n",
       "    <tr>\n",
       "      <th>2018-01-01</th>\n",
       "      <td>Wyoming</td>\n",
       "      <td>Teton</td>\n",
       "      <td>Not in a city</td>\n",
       "      <td>Yellowstone National Park - Old Faithful Snow ...</td>\n",
       "      <td>Carbon monoxide</td>\n",
       "      <td>Parts per million</td>\n",
       "      <td>1.098612</td>\n",
       "      <td>-0.936873</td>\n",
       "    </tr>\n",
       "    <tr>\n",
       "      <th>2018-01-01</th>\n",
       "      <td>Pennsylvania</td>\n",
       "      <td>Philadelphia</td>\n",
       "      <td>Philadelphia</td>\n",
       "      <td>North East Waste (NEW)</td>\n",
       "      <td>Carbon monoxide</td>\n",
       "      <td>Parts per million</td>\n",
       "      <td>1.386294</td>\n",
       "      <td>-0.533584</td>\n",
       "    </tr>\n",
       "    <tr>\n",
       "      <th>2018-01-01</th>\n",
       "      <td>Iowa</td>\n",
       "      <td>Polk</td>\n",
       "      <td>Des Moines</td>\n",
       "      <td>CARPENTER</td>\n",
       "      <td>Carbon monoxide</td>\n",
       "      <td>Parts per million</td>\n",
       "      <td>1.386294</td>\n",
       "      <td>-0.533584</td>\n",
       "    </tr>\n",
       "    <tr>\n",
       "      <th>2018-01-01</th>\n",
       "      <td>Hawaii</td>\n",
       "      <td>Honolulu</td>\n",
       "      <td>Not in a city</td>\n",
       "      <td>Kapolei</td>\n",
       "      <td>Carbon monoxide</td>\n",
       "      <td>Parts per million</td>\n",
       "      <td>2.708050</td>\n",
       "      <td>1.319328</td>\n",
       "    </tr>\n",
       "    <tr>\n",
       "      <th>2018-01-01</th>\n",
       "      <td>Hawaii</td>\n",
       "      <td>Honolulu</td>\n",
       "      <td>Not in a city</td>\n",
       "      <td>Kapolei</td>\n",
       "      <td>Carbon monoxide</td>\n",
       "      <td>Parts per million</td>\n",
       "      <td>1.098612</td>\n",
       "      <td>-0.936873</td>\n",
       "    </tr>\n",
       "    <tr>\n",
       "      <th>2018-01-01</th>\n",
       "      <td>Pennsylvania</td>\n",
       "      <td>Erie</td>\n",
       "      <td>Erie</td>\n",
       "      <td>NaN</td>\n",
       "      <td>Carbon monoxide</td>\n",
       "      <td>Parts per million</td>\n",
       "      <td>1.098612</td>\n",
       "      <td>-0.936873</td>\n",
       "    </tr>\n",
       "    <tr>\n",
       "      <th>2018-01-01</th>\n",
       "      <td>Hawaii</td>\n",
       "      <td>Honolulu</td>\n",
       "      <td>Honolulu</td>\n",
       "      <td>Honolulu</td>\n",
       "      <td>Carbon monoxide</td>\n",
       "      <td>Parts per million</td>\n",
       "      <td>1.791759</td>\n",
       "      <td>0.034820</td>\n",
       "    </tr>\n",
       "    <tr>\n",
       "      <th>2018-01-01</th>\n",
       "      <td>Colorado</td>\n",
       "      <td>Larimer</td>\n",
       "      <td>Fort Collins</td>\n",
       "      <td>Fort Collins - CSU - S. Mason</td>\n",
       "      <td>Carbon monoxide</td>\n",
       "      <td>Parts per million</td>\n",
       "      <td>1.945910</td>\n",
       "      <td>0.250917</td>\n",
       "    </tr>\n",
       "  </tbody>\n",
       "</table>\n",
       "</div>"
      ],
      "text/plain": [
       "              state_name   county_name      city_name  \\\n",
       "date_local                                              \n",
       "2018-01-01       Arizona      Maricopa        Buckeye   \n",
       "2018-01-01          Ohio       Belmont      Shadyside   \n",
       "2018-01-01       Wyoming         Teton  Not in a city   \n",
       "2018-01-01  Pennsylvania  Philadelphia   Philadelphia   \n",
       "2018-01-01          Iowa          Polk     Des Moines   \n",
       "2018-01-01        Hawaii      Honolulu  Not in a city   \n",
       "2018-01-01        Hawaii      Honolulu  Not in a city   \n",
       "2018-01-01  Pennsylvania          Erie           Erie   \n",
       "2018-01-01        Hawaii      Honolulu       Honolulu   \n",
       "2018-01-01      Colorado       Larimer   Fort Collins   \n",
       "\n",
       "                                              local_site_name  \\\n",
       "date_local                                                      \n",
       "2018-01-01                                            BUCKEYE   \n",
       "2018-01-01                                          Shadyside   \n",
       "2018-01-01  Yellowstone National Park - Old Faithful Snow ...   \n",
       "2018-01-01                             North East Waste (NEW)   \n",
       "2018-01-01                                          CARPENTER   \n",
       "2018-01-01                                            Kapolei   \n",
       "2018-01-01                                            Kapolei   \n",
       "2018-01-01                                                NaN   \n",
       "2018-01-01                                           Honolulu   \n",
       "2018-01-01                      Fort Collins - CSU - S. Mason   \n",
       "\n",
       "             parameter_name   units_of_measure   aqi_log   z_score  \n",
       "date_local                                                          \n",
       "2018-01-01  Carbon monoxide  Parts per million  2.079442  0.438109  \n",
       "2018-01-01  Carbon monoxide  Parts per million  1.791759  0.034820  \n",
       "2018-01-01  Carbon monoxide  Parts per million  1.098612 -0.936873  \n",
       "2018-01-01  Carbon monoxide  Parts per million  1.386294 -0.533584  \n",
       "2018-01-01  Carbon monoxide  Parts per million  1.386294 -0.533584  \n",
       "2018-01-01  Carbon monoxide  Parts per million  2.708050  1.319328  \n",
       "2018-01-01  Carbon monoxide  Parts per million  1.098612 -0.936873  \n",
       "2018-01-01  Carbon monoxide  Parts per million  1.098612 -0.936873  \n",
       "2018-01-01  Carbon monoxide  Parts per million  1.791759  0.034820  \n",
       "2018-01-01  Carbon monoxide  Parts per million  1.945910  0.250917  "
      ]
     },
     "execution_count": 32,
     "metadata": {},
     "output_type": "execute_result"
    }
   ],
   "source": [
    "data['z_score'] = z_score\n",
    "data.head(10)"
   ]
  },
  {
   "cell_type": "code",
   "execution_count": 34,
   "id": "09b18abe-b843-4623-9b9a-f37e78ba9085",
   "metadata": {
    "scrolled": true
   },
   "outputs": [
    {
     "data": {
      "text/html": [
       "<div>\n",
       "<style scoped>\n",
       "    .dataframe tbody tr th:only-of-type {\n",
       "        vertical-align: middle;\n",
       "    }\n",
       "\n",
       "    .dataframe tbody tr th {\n",
       "        vertical-align: top;\n",
       "    }\n",
       "\n",
       "    .dataframe thead th {\n",
       "        text-align: right;\n",
       "    }\n",
       "</style>\n",
       "<table border=\"1\" class=\"dataframe\">\n",
       "  <thead>\n",
       "    <tr style=\"text-align: right;\">\n",
       "      <th></th>\n",
       "      <th>state_name</th>\n",
       "      <th>county_name</th>\n",
       "      <th>city_name</th>\n",
       "      <th>local_site_name</th>\n",
       "      <th>parameter_name</th>\n",
       "      <th>units_of_measure</th>\n",
       "      <th>aqi_log</th>\n",
       "      <th>z_score</th>\n",
       "    </tr>\n",
       "    <tr>\n",
       "      <th>date_local</th>\n",
       "      <th></th>\n",
       "      <th></th>\n",
       "      <th></th>\n",
       "      <th></th>\n",
       "      <th></th>\n",
       "      <th></th>\n",
       "      <th></th>\n",
       "      <th></th>\n",
       "    </tr>\n",
       "  </thead>\n",
       "  <tbody>\n",
       "    <tr>\n",
       "      <th>2018-01-01</th>\n",
       "      <td>Arizona</td>\n",
       "      <td>Maricopa</td>\n",
       "      <td>Phoenix</td>\n",
       "      <td>WEST PHOENIX</td>\n",
       "      <td>Carbon monoxide</td>\n",
       "      <td>Parts per million</td>\n",
       "      <td>3.931826</td>\n",
       "      <td>3.034886</td>\n",
       "    </tr>\n",
       "  </tbody>\n",
       "</table>\n",
       "</div>"
      ],
      "text/plain": [
       "           state_name county_name city_name local_site_name   parameter_name  \\\n",
       "date_local                                                                     \n",
       "2018-01-01    Arizona    Maricopa   Phoenix    WEST PHOENIX  Carbon monoxide   \n",
       "\n",
       "             units_of_measure   aqi_log   z_score  \n",
       "date_local                                         \n",
       "2018-01-01  Parts per million  3.931826  3.034886  "
      ]
     },
     "execution_count": 34,
     "metadata": {},
     "output_type": "execute_result"
    }
   ],
   "source": [
    "# Display data where `aqi_log` is above or below 3 standard deviations of the mean\n",
    "data[(data['z_score'] > 3) | (data['z_score'] < -3)]"
   ]
  },
  {
   "cell_type": "code",
   "execution_count": 45,
   "id": "51687cd0-2300-431d-869e-a1d0bbf5d324",
   "metadata": {},
   "outputs": [
    {
     "data": {
      "text/plain": [
       "Text(0.5, 1.0, 'Plot of z score')"
      ]
     },
     "execution_count": 45,
     "metadata": {},
     "output_type": "execute_result"
    },
    {
     "data": {
      "image/png": "[encoded data removed]",
      "text/plain": [
       "<Figure size 500x300 with 1 Axes>"
      ]
     },
     "metadata": {},
     "output_type": "display_data"
    }
   ],
   "source": [
    "plt.figure(figsize = (5,3))\n",
    "plt.hist(data['z_score'])\n",
    "plt.title('Plot of z score')"
   ]
  },
  {
   "cell_type": "code",
   "execution_count": null,
   "id": "d6648787-21d2-44fb-9862-c31845a06529",
   "metadata": {},
   "outputs": [],
   "source": []
  }
 ],
 "metadata": {
  "kernelspec": {
   "display_name": "Python 3 (ipykernel)",
   "language": "python",
   "name": "python3"
  },
  "language_info": {
   "codemirror_mode": {
    "name": "ipython",
    "version": 3
   },
   "file_extension": ".py",
   "mimetype": "text/x-python",
   "name": "python",
   "nbconvert_exporter": "python",
   "pygments_lexer": "ipython3",
   "version": "3.12.4"
  }
 },
 "nbformat": 4,
 "nbformat_minor": 5
}
