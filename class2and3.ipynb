{
 "cells": [
  {
   "cell_type": "markdown",
   "id": "2755f5ad-7b6b-4113-94f9-53727c40132d",
   "metadata": {},
   "source": [
    "## <font color='red'> Class 2"
   ]
  },
  {
   "cell_type": "markdown",
   "id": "fee74fa6-832a-40f1-8cbb-b07f87c1960d",
   "metadata": {},
   "source": [
    "### Logical operators "
   ]
  },
  {
   "cell_type": "code",
   "execution_count": null,
   "id": "056d38c1-8a1c-43d4-bb9e-bb3a263da9f0",
   "metadata": {},
   "outputs": [],
   "source": [
    "a=2\n",
    "b=3"
   ]
  },
  {
   "cell_type": "code",
   "execution_count": 3,
   "id": "f4c6f716-9a6f-4914-9482-bb9213761b89",
   "metadata": {},
   "outputs": [
    {
     "data": {
      "text/plain": [
       "False"
      ]
     },
     "execution_count": 3,
     "metadata": {},
     "output_type": "execute_result"
    }
   ],
   "source": [
    "a>2 and b>2"
   ]
  },
  {
   "cell_type": "code",
   "execution_count": 5,
   "id": "67c4ece4-cc7d-4ce3-bc1a-b37844afc50a",
   "metadata": {},
   "outputs": [
    {
     "data": {
      "text/plain": [
       "True"
      ]
     },
     "execution_count": 5,
     "metadata": {},
     "output_type": "execute_result"
    }
   ],
   "source": [
    "a>1 and b>2"
   ]
  },
  {
   "cell_type": "code",
   "execution_count": 13,
   "id": "5b213b85-2afc-479b-9849-a98a8eb604ca",
   "metadata": {},
   "outputs": [
    {
     "data": {
      "text/plain": [
       "False"
      ]
     },
     "execution_count": 13,
     "metadata": {},
     "output_type": "execute_result"
    }
   ],
   "source": [
    "a<1 or b<1"
   ]
  },
  {
   "cell_type": "code",
   "execution_count": 15,
   "id": "f1908fa5-1771-44fa-b08a-8ab9c9e8fe64",
   "metadata": {},
   "outputs": [
    {
     "data": {
      "text/plain": [
       "True"
      ]
     },
     "execution_count": 15,
     "metadata": {},
     "output_type": "execute_result"
    }
   ],
   "source": [
    "a<3 or b<4"
   ]
  },
  {
   "cell_type": "code",
   "execution_count": 9,
   "id": "44bf3bbf-d8ce-4772-90c2-6e5812236a16",
   "metadata": {},
   "outputs": [
    {
     "data": {
      "text/plain": [
       "False"
      ]
     },
     "execution_count": 9,
     "metadata": {},
     "output_type": "execute_result"
    }
   ],
   "source": [
    "False and whatever"
   ]
  },
  {
   "cell_type": "code",
   "execution_count": 11,
   "id": "c3bbddb0-28b4-4172-a6ee-3803137b6921",
   "metadata": {},
   "outputs": [
    {
     "data": {
      "text/plain": [
       "''"
      ]
     },
     "execution_count": 11,
     "metadata": {},
     "output_type": "execute_result"
    }
   ],
   "source": [
    "'' and whatever"
   ]
  },
  {
   "cell_type": "code",
   "execution_count": 19,
   "id": "33c81d3f-1c36-43ff-9973-9376a0b90d42",
   "metadata": {},
   "outputs": [
    {
     "data": {
      "text/plain": [
       "[]"
      ]
     },
     "execution_count": 19,
     "metadata": {},
     "output_type": "execute_result"
    }
   ],
   "source": [
    "[] and whatever"
   ]
  },
  {
   "cell_type": "code",
   "execution_count": 21,
   "id": "26188d1e-b87b-4175-9aef-b918862edf32",
   "metadata": {},
   "outputs": [
    {
     "data": {
      "text/plain": [
       "False"
      ]
     },
     "execution_count": 21,
     "metadata": {},
     "output_type": "execute_result"
    }
   ],
   "source": [
    "False or True and not True #logical op precedence not, and, or"
   ]
  },
  {
   "cell_type": "markdown",
   "id": "56c74984-e157-4f07-a959-fc55ff83dc3a",
   "metadata": {},
   "source": [
    "### Identity Operator"
   ]
  },
  {
   "cell_type": "code",
   "execution_count": 28,
   "id": "88f79f34-9479-49ff-b37a-3f9c0b001a4d",
   "metadata": {},
   "outputs": [],
   "source": [
    "#is and is not"
   ]
  },
  {
   "cell_type": "code",
   "execution_count": 30,
   "id": "cd2507da-aace-47eb-a51a-73ed6a50afd7",
   "metadata": {},
   "outputs": [
    {
     "data": {
      "text/plain": [
       "True"
      ]
     },
     "execution_count": 30,
     "metadata": {},
     "output_type": "execute_result"
    }
   ],
   "source": [
    "x=3\n",
    "type(x) is int"
   ]
  },
  {
   "cell_type": "code",
   "execution_count": 32,
   "id": "6f9f4b9e-7fae-483c-9a39-c9dfd6bc4317",
   "metadata": {},
   "outputs": [
    {
     "data": {
      "text/plain": [
       "False"
      ]
     },
     "execution_count": 32,
     "metadata": {},
     "output_type": "execute_result"
    }
   ],
   "source": [
    "type(x) is float"
   ]
  },
  {
   "cell_type": "code",
   "execution_count": 34,
   "id": "d6c902e1-d0ea-4275-89eb-de2fd970cfbd",
   "metadata": {},
   "outputs": [
    {
     "data": {
      "text/plain": [
       "True"
      ]
     },
     "execution_count": 34,
     "metadata": {},
     "output_type": "execute_result"
    }
   ],
   "source": [
    "type(x) is not str"
   ]
  },
  {
   "cell_type": "markdown",
   "id": "2f2cd4a1-a85b-4cfd-a0ac-38e36d66432a",
   "metadata": {},
   "source": [
    "### Membership Operator"
   ]
  },
  {
   "cell_type": "code",
   "execution_count": 38,
   "id": "c36def1a-122a-4feb-a707-2f1e80c4d7aa",
   "metadata": {},
   "outputs": [],
   "source": [
    "# in and not in"
   ]
  },
  {
   "cell_type": "code",
   "execution_count": 40,
   "id": "324b7516-806c-41e8-90f3-3e2617f66845",
   "metadata": {},
   "outputs": [
    {
     "data": {
      "text/plain": [
       "True"
      ]
     },
     "execution_count": 40,
     "metadata": {},
     "output_type": "execute_result"
    }
   ],
   "source": [
    "'h' in 'hello'"
   ]
  },
  {
   "cell_type": "code",
   "execution_count": 42,
   "id": "80c61a3d-feb3-41d5-8de6-b476e97c4d25",
   "metadata": {},
   "outputs": [
    {
     "data": {
      "text/plain": [
       "True"
      ]
     },
     "execution_count": 42,
     "metadata": {},
     "output_type": "execute_result"
    }
   ],
   "source": [
    "'ell' in 'hello'"
   ]
  },
  {
   "cell_type": "code",
   "execution_count": 44,
   "id": "7d7e38ee-66a2-4729-bd47-d270169d9fa3",
   "metadata": {},
   "outputs": [
    {
     "data": {
      "text/plain": [
       "False"
      ]
     },
     "execution_count": 44,
     "metadata": {},
     "output_type": "execute_result"
    }
   ],
   "source": [
    "'m' in 'python'"
   ]
  },
  {
   "cell_type": "code",
   "execution_count": 46,
   "id": "19941025-6325-427e-8488-13bc5ef59428",
   "metadata": {},
   "outputs": [
    {
     "data": {
      "text/plain": [
       "False"
      ]
     },
     "execution_count": 46,
     "metadata": {},
     "output_type": "execute_result"
    }
   ],
   "source": [
    "'o' not in 'hello'"
   ]
  },
  {
   "cell_type": "code",
   "execution_count": 48,
   "id": "ab2df70a-4426-4ef5-a94c-d86441f9e84c",
   "metadata": {},
   "outputs": [
    {
     "data": {
      "text/plain": [
       "False"
      ]
     },
     "execution_count": 48,
     "metadata": {},
     "output_type": "execute_result"
    }
   ],
   "source": [
    "'elo' in 'hello'"
   ]
  },
  {
   "cell_type": "markdown",
   "id": "da2492df-275a-4239-9ad0-00bc718f0c61",
   "metadata": {},
   "source": [
    "### Bitwise Operator"
   ]
  },
  {
   "cell_type": "code",
   "execution_count": 65,
   "id": "df159521-962b-4b90-8aa0-b192591550e9",
   "metadata": {},
   "outputs": [],
   "source": [
    "#to perform bitwise calcuations\n",
    "#bitwise and or xor"
   ]
  },
  {
   "cell_type": "code",
   "execution_count": 75,
   "id": "f0450729-9e91-4407-9abd-fa85b6629e78",
   "metadata": {},
   "outputs": [
    {
     "data": {
      "text/plain": [
       "2"
      ]
     },
     "execution_count": 75,
     "metadata": {},
     "output_type": "execute_result"
    }
   ],
   "source": [
    "2 & 3\n",
    "#10 and 11 = 10"
   ]
  },
  {
   "cell_type": "code",
   "execution_count": 77,
   "id": "3ad46f4e-2c4b-49fb-a931-0f320787dc47",
   "metadata": {},
   "outputs": [
    {
     "data": {
      "text/plain": [
       "3"
      ]
     },
     "execution_count": 77,
     "metadata": {},
     "output_type": "execute_result"
    }
   ],
   "source": [
    "2 | 3\n",
    "#10 or 11 = 11"
   ]
  },
  {
   "cell_type": "code",
   "execution_count": 63,
   "id": "23afeb63-48a2-4c80-94f8-f3817c55b12f",
   "metadata": {},
   "outputs": [
    {
     "data": {
      "text/plain": [
       "1"
      ]
     },
     "execution_count": 63,
     "metadata": {},
     "output_type": "execute_result"
    }
   ],
   "source": [
    "5 & 3"
   ]
  },
  {
   "cell_type": "code",
   "execution_count": 73,
   "id": "80df6729-a073-4f4d-a7f1-009b122e0fc1",
   "metadata": {},
   "outputs": [
    {
     "data": {
      "text/plain": [
       "3"
      ]
     },
     "execution_count": 73,
     "metadata": {},
     "output_type": "execute_result"
    }
   ],
   "source": [
    "5 ^ 6\n",
    "# 5= 101, 6=110 so 110^101=011=3"
   ]
  },
  {
   "cell_type": "markdown",
   "id": "dbd3fc7e-c4e2-40af-a3f2-1870b67b038c",
   "metadata": {},
   "source": [
    "### List"
   ]
  },
  {
   "cell_type": "code",
   "execution_count": 142,
   "id": "1a63c090-d6c9-4145-aa05-a669c0626739",
   "metadata": {},
   "outputs": [
    {
     "data": {
      "text/plain": [
       "['Sunday', 'Monday', 'Teusday', 'Wednesday', 'Thursday', 'Friday', 'Saturday']"
      ]
     },
     "execution_count": 142,
     "metadata": {},
     "output_type": "execute_result"
    }
   ],
   "source": [
    "days = ['Sunday','Monday','Teusday','Wednesday','Thursday','Friday','Saturday']\n",
    "days"
   ]
  },
  {
   "cell_type": "code",
   "execution_count": 144,
   "id": "ed10247d-052f-4563-8e31-0ea2c894bb7a",
   "metadata": {},
   "outputs": [
    {
     "data": {
      "text/plain": [
       "7"
      ]
     },
     "execution_count": 144,
     "metadata": {},
     "output_type": "execute_result"
    }
   ],
   "source": [
    "len(days)"
   ]
  },
  {
   "cell_type": "code",
   "execution_count": 146,
   "id": "c51c5a9c-380b-4fe6-aa81-d6ef036db805",
   "metadata": {},
   "outputs": [
    {
     "data": {
      "text/plain": [
       "list"
      ]
     },
     "execution_count": 146,
     "metadata": {},
     "output_type": "execute_result"
    }
   ],
   "source": [
    "type(days)"
   ]
  },
  {
   "cell_type": "code",
   "execution_count": 148,
   "id": "3aa7deb9-9800-4660-be35-53f015fb6cda",
   "metadata": {},
   "outputs": [
    {
     "data": {
      "text/plain": [
       "[1, 3.0, 'hello', True]"
      ]
     },
     "execution_count": 148,
     "metadata": {},
     "output_type": "execute_result"
    }
   ],
   "source": [
    "# list can be of any data type\n",
    "my_list=[1,3.0,'hello',True]\n",
    "my_list"
   ]
  },
  {
   "cell_type": "code",
   "execution_count": 150,
   "id": "f3c672da-0c1d-4e8e-98ba-286c518e0112",
   "metadata": {},
   "outputs": [
    {
     "data": {
      "text/plain": [
       "'hello'"
      ]
     },
     "execution_count": 150,
     "metadata": {},
     "output_type": "execute_result"
    }
   ],
   "source": [
    "my_list[2]"
   ]
  },
  {
   "cell_type": "code",
   "execution_count": 152,
   "id": "5ae4a13b-95dd-4d04-95c0-607f867c91f0",
   "metadata": {},
   "outputs": [
    {
     "data": {
      "text/plain": [
       "True"
      ]
     },
     "execution_count": 152,
     "metadata": {},
     "output_type": "execute_result"
    }
   ],
   "source": [
    "# negative indexing (-1 to access the last item)\n",
    "my_list[-1]"
   ]
  },
  {
   "cell_type": "code",
   "execution_count": 154,
   "id": "03597b63-dece-43d3-8071-a39e85b59f09",
   "metadata": {},
   "outputs": [
    {
     "name": "stdout",
     "output_type": "stream",
     "text": [
      "Wednesday\n"
     ]
    }
   ],
   "source": [
    "print(days[3])"
   ]
  },
  {
   "cell_type": "code",
   "execution_count": 156,
   "id": "97547210-167b-4e8c-be17-6e732af69b76",
   "metadata": {},
   "outputs": [
    {
     "data": {
      "text/plain": [
       "['Monday', 'Teusday', 'Wednesday']"
      ]
     },
     "execution_count": 156,
     "metadata": {},
     "output_type": "execute_result"
    }
   ],
   "source": [
    "days[1:4]"
   ]
  },
  {
   "cell_type": "code",
   "execution_count": 158,
   "id": "ebebfd27-97e2-4fc1-8609-9505fef72398",
   "metadata": {},
   "outputs": [
    {
     "data": {
      "text/plain": [
       "['Sunday', 'Monday']"
      ]
     },
     "execution_count": 158,
     "metadata": {},
     "output_type": "execute_result"
    }
   ],
   "source": [
    "days[:2]"
   ]
  },
  {
   "cell_type": "code",
   "execution_count": 160,
   "id": "1de2b350-ee97-494a-9a1c-ea102c120f38",
   "metadata": {},
   "outputs": [
    {
     "data": {
      "text/plain": [
       "['Friday', 'Saturday']"
      ]
     },
     "execution_count": 160,
     "metadata": {},
     "output_type": "execute_result"
    }
   ],
   "source": [
    "days[5:]"
   ]
  },
  {
   "cell_type": "code",
   "execution_count": 162,
   "id": "362e8d36-a59f-4824-a0ae-00d88a96a935",
   "metadata": {},
   "outputs": [
    {
     "data": {
      "text/plain": [
       "True"
      ]
     },
     "execution_count": 162,
     "metadata": {},
     "output_type": "execute_result"
    }
   ],
   "source": [
    "'Saturday'in days"
   ]
  },
  {
   "cell_type": "code",
   "execution_count": 164,
   "id": "2cd64484-9945-4871-8487-a40f616ff003",
   "metadata": {},
   "outputs": [
    {
     "data": {
      "text/plain": [
       "['Sunday', 'Mon', 'Teusday', 'Wednesday', 'Thursday', 'Friday', 'Saturday']"
      ]
     },
     "execution_count": 164,
     "metadata": {},
     "output_type": "execute_result"
    }
   ],
   "source": [
    "days[1] = 'Mon'\n",
    "days"
   ]
  },
  {
   "cell_type": "code",
   "execution_count": 166,
   "id": "d4a8453a-74cc-4b5b-9001-124642c6acb1",
   "metadata": {},
   "outputs": [
    {
     "data": {
      "text/plain": [
       "['Sunday', 'Mon', 'Teu', 'Wed', 'Thursday', 'Friday', 'Saturday']"
      ]
     },
     "execution_count": 166,
     "metadata": {},
     "output_type": "execute_result"
    }
   ],
   "source": [
    "days[2:4]=['Teu','Wed']\n",
    "days"
   ]
  },
  {
   "cell_type": "code",
   "execution_count": 168,
   "id": "83ade4ec-7bb8-4b01-8145-f72aa62a2aa5",
   "metadata": {},
   "outputs": [
    {
     "data": {
      "text/plain": [
       "['Sunday', 'Mond', 'Wed', 'Thursday', 'Friday', 'Saturday']"
      ]
     },
     "execution_count": 168,
     "metadata": {},
     "output_type": "execute_result"
    }
   ],
   "source": [
    "days[1:3]=['Mond']\n",
    "days"
   ]
  },
  {
   "cell_type": "code",
   "execution_count": 17,
   "id": "61b5deb2-7da7-4a3d-be3d-56ded1237748",
   "metadata": {},
   "outputs": [
    {
     "data": {
      "text/plain": [
       "[1, 'inserted', 2, 3]"
      ]
     },
     "execution_count": 17,
     "metadata": {},
     "output_type": "execute_result"
    }
   ],
   "source": [
    "list1 = [1,2,3]\n",
    "list1.insert(1,'inserted')\n",
    "list1"
   ]
  },
  {
   "cell_type": "markdown",
   "id": "9be23029-c2c2-4034-a27c-e246608c01e8",
   "metadata": {},
   "source": [
    "## <font color = 'red'> Class3"
   ]
  },
  {
   "cell_type": "markdown",
   "id": "75bf9f07-ebf3-4363-b8fe-b89945e8a61d",
   "metadata": {},
   "source": [
    "### inserting items in list"
   ]
  },
  {
   "cell_type": "code",
   "execution_count": 19,
   "id": "48f286dd-5d0b-4a1a-b41d-586875cb7183",
   "metadata": {},
   "outputs": [],
   "source": [
    "list1 = [1,2,3]"
   ]
  },
  {
   "cell_type": "code",
   "execution_count": 21,
   "id": "8027d246-c454-4f8d-bffd-0826f35e6378",
   "metadata": {},
   "outputs": [
    {
     "data": {
      "text/plain": [
       "[1, 2, 3, 4]"
      ]
     },
     "execution_count": 21,
     "metadata": {},
     "output_type": "execute_result"
    }
   ],
   "source": [
    "list1.append(4)\n",
    "list1"
   ]
  },
  {
   "cell_type": "code",
   "execution_count": 26,
   "id": "a39bf264-618d-4fe3-9706-114f5b334cd3",
   "metadata": {},
   "outputs": [
    {
     "data": {
      "text/plain": [
       "[1, 2, 3, 4, 'hello']"
      ]
     },
     "execution_count": 26,
     "metadata": {},
     "output_type": "execute_result"
    }
   ],
   "source": [
    "list1.append('hello')\n",
    "list1"
   ]
  },
  {
   "cell_type": "code",
   "execution_count": 30,
   "id": "122ed373-b3ac-4599-9596-98eed325a62d",
   "metadata": {},
   "outputs": [
    {
     "data": {
      "text/plain": [
       "[1, 2, 3, 4, 'hello', 100, 200]"
      ]
     },
     "execution_count": 30,
     "metadata": {},
     "output_type": "execute_result"
    }
   ],
   "source": [
    "list2 = [100,200]\n",
    "list1.extend(list2)\n",
    "list1"
   ]
  },
  {
   "cell_type": "markdown",
   "id": "da589e41-cce6-4a23-9cf7-191edafac39c",
   "metadata": {},
   "source": [
    "### removing items from list"
   ]
  },
  {
   "cell_type": "code",
   "execution_count": 33,
   "id": "d06181eb-76e1-4a5e-8dc3-f407534fa61a",
   "metadata": {},
   "outputs": [
    {
     "data": {
      "text/plain": [
       "['one', 'three']"
      ]
     },
     "execution_count": 33,
     "metadata": {},
     "output_type": "execute_result"
    }
   ],
   "source": [
    "list3 = ['one','two','three']\n",
    "list3.remove('two')\n",
    "list3"
   ]
  },
  {
   "cell_type": "code",
   "execution_count": 55,
   "id": "f39eca04-d3e1-41cd-94e9-70d47c5821ae",
   "metadata": {},
   "outputs": [
    {
     "data": {
      "text/plain": [
       "[1, 3, 4, 2, 3]"
      ]
     },
     "execution_count": 55,
     "metadata": {},
     "output_type": "execute_result"
    }
   ],
   "source": [
    "# if there are duplicate items the first one will be removed\n",
    "list4 = [1,2,3,4,2,3]\n",
    "list4.remove(2)\n",
    "list4"
   ]
  },
  {
   "cell_type": "code",
   "execution_count": 57,
   "id": "3853b963-994d-4280-99fc-9203effc9623",
   "metadata": {},
   "outputs": [
    {
     "data": {
      "text/plain": [
       "[1, 4, 2, 3]"
      ]
     },
     "execution_count": 57,
     "metadata": {},
     "output_type": "execute_result"
    }
   ],
   "source": [
    "list4.remove(3)\n",
    "list4"
   ]
  },
  {
   "cell_type": "code",
   "execution_count": 59,
   "id": "f0d8dca5-aae4-43d4-8619-472c1e66ff7a",
   "metadata": {},
   "outputs": [
    {
     "data": {
      "text/plain": [
       "[1, 2, 3, 4]"
      ]
     },
     "execution_count": 59,
     "metadata": {},
     "output_type": "execute_result"
    }
   ],
   "source": [
    "list4.sort()\n",
    "list4"
   ]
  },
  {
   "cell_type": "code",
   "execution_count": 61,
   "id": "25372452-ecef-4419-bf8b-587c3828711b",
   "metadata": {},
   "outputs": [
    {
     "data": {
      "text/plain": [
       "[1, 3]"
      ]
     },
     "execution_count": 61,
     "metadata": {},
     "output_type": "execute_result"
    }
   ],
   "source": [
    "list5= [1,2,3]\n",
    "list5.pop(1)\n",
    "list5"
   ]
  },
  {
   "cell_type": "code",
   "execution_count": 63,
   "id": "8fc18a8f-d71c-4305-8bf5-60e7c746769f",
   "metadata": {},
   "outputs": [
    {
     "data": {
      "text/plain": [
       "[1, 2, 3]"
      ]
     },
     "execution_count": 63,
     "metadata": {},
     "output_type": "execute_result"
    }
   ],
   "source": [
    "list5 = [1,2,3,4]\n",
    "list5.pop()\n",
    "list5"
   ]
  },
  {
   "cell_type": "code",
   "execution_count": 65,
   "id": "52e00b02-e709-40ef-8965-d9e111dfc65f",
   "metadata": {},
   "outputs": [
    {
     "data": {
      "text/plain": [
       "[2, 3]"
      ]
     },
     "execution_count": 65,
     "metadata": {},
     "output_type": "execute_result"
    }
   ],
   "source": [
    "del list5[0]\n",
    "list5"
   ]
  },
  {
   "cell_type": "code",
   "execution_count": 73,
   "id": "5d592ebb-18aa-4fad-8711-bb887bc9a6ea",
   "metadata": {},
   "outputs": [
    {
     "data": {
      "text/plain": [
       "[]"
      ]
     },
     "execution_count": 73,
     "metadata": {},
     "output_type": "execute_result"
    }
   ],
   "source": [
    "# remove all elements from list\n",
    "list5.clear()\n",
    "list5"
   ]
  },
  {
   "cell_type": "markdown",
   "id": "0c86e0a6-efd2-433f-aa8d-ce1e03a44edb",
   "metadata": {},
   "source": [
    "### sorting list"
   ]
  },
  {
   "cell_type": "code",
   "execution_count": 76,
   "id": "057d6a60-0c37-4cfe-a6c0-172292e4da64",
   "metadata": {},
   "outputs": [
    {
     "data": {
      "text/plain": [
       "['Apr', 'Feb', 'Jan', 'Mar']"
      ]
     },
     "execution_count": 76,
     "metadata": {},
     "output_type": "execute_result"
    }
   ],
   "source": [
    "months = ['Jan','Feb','Mar','Apr']\n",
    "months.sort()\n",
    "months"
   ]
  },
  {
   "cell_type": "code",
   "execution_count": 80,
   "id": "9cb82a0a-9039-409b-80e3-ae68c418bfe7",
   "metadata": {},
   "outputs": [
    {
     "data": {
      "text/plain": [
       "[1970, 1986, 1999, 2021]"
      ]
     },
     "execution_count": 80,
     "metadata": {},
     "output_type": "execute_result"
    }
   ],
   "source": [
    "years = [1999,1986,2021,1970]\n",
    "years.sort()\n",
    "years"
   ]
  },
  {
   "cell_type": "code",
   "execution_count": 84,
   "id": "aafeb037-dd9e-415a-b59c-a984a4b5276d",
   "metadata": {},
   "outputs": [
    {
     "data": {
      "text/plain": [
       "[2021, 1999, 1986, 1970]"
      ]
     },
     "execution_count": 84,
     "metadata": {},
     "output_type": "execute_result"
    }
   ],
   "source": [
    "years.sort(reverse=True)\n",
    "years"
   ]
  },
  {
   "cell_type": "code",
   "execution_count": 88,
   "id": "1f11f067-ddbc-48e9-9815-54756055b757",
   "metadata": {},
   "outputs": [
    {
     "data": {
      "text/plain": [
       "[1970, 1986, 1999, 2021]"
      ]
     },
     "execution_count": 88,
     "metadata": {},
     "output_type": "execute_result"
    }
   ],
   "source": [
    "years.sort(reverse=False)\n",
    "years"
   ]
  },
  {
   "cell_type": "code",
   "execution_count": 90,
   "id": "6864ba1e-c6fd-41ad-9e28-a2aa1bd92b50",
   "metadata": {},
   "outputs": [
    {
     "data": {
      "text/plain": [
       "['Kathmandu', 'Lahore', 'chicago', 'london', 'new york']"
      ]
     },
     "execution_count": 90,
     "metadata": {},
     "output_type": "execute_result"
    }
   ],
   "source": [
    "city = ['Kathmandu','london','chicago','new york','Lahore']\n",
    "city.sort()\n",
    "city"
   ]
  },
  {
   "cell_type": "code",
   "execution_count": 94,
   "id": "9bef8e33-9c37-4c81-9aee-76ab77b80d5a",
   "metadata": {},
   "outputs": [
    {
     "data": {
      "text/plain": [
       "['new york', 'london', 'chicago', 'Lahore', 'Kathmandu']"
      ]
     },
     "execution_count": 94,
     "metadata": {},
     "output_type": "execute_result"
    }
   ],
   "source": [
    "city.sort(reverse=True)\n",
    "city"
   ]
  },
  {
   "cell_type": "code",
   "execution_count": 96,
   "id": "520dbf98-1971-4dc5-bfba-fa809c37baad",
   "metadata": {},
   "outputs": [
    {
     "data": {
      "text/plain": [
       "['chicago', 'Kathmandu', 'Lahore', 'london', 'new york']"
      ]
     },
     "execution_count": 96,
     "metadata": {},
     "output_type": "execute_result"
    }
   ],
   "source": [
    "city.sort(key = str.lower)\n",
    "city"
   ]
  },
  {
   "cell_type": "code",
   "execution_count": 102,
   "id": "09f793c2-b102-4373-aada-752468d1ba92",
   "metadata": {},
   "outputs": [
    {
     "data": {
      "text/plain": [
       "[5, 1, 4, 3]"
      ]
     },
     "execution_count": 102,
     "metadata": {},
     "output_type": "execute_result"
    }
   ],
   "source": [
    "list6 = [3,4,1,5]\n",
    "list6.reverse()\n",
    "list6"
   ]
  },
  {
   "cell_type": "code",
   "execution_count": 104,
   "id": "8b946780-0ab4-44db-aeaf-902784204b93",
   "metadata": {},
   "outputs": [
    {
     "data": {
      "text/plain": [
       "['new york', 'london', 'Lahore', 'Kathmandu', 'chicago']"
      ]
     },
     "execution_count": 104,
     "metadata": {},
     "output_type": "execute_result"
    }
   ],
   "source": [
    "city.reverse()\n",
    "city"
   ]
  },
  {
   "cell_type": "markdown",
   "id": "b71dd3a0-a5bd-40a8-9e12-041a7a2f6c7d",
   "metadata": {},
   "source": [
    "### copy and joining list"
   ]
  },
  {
   "cell_type": "code",
   "execution_count": 107,
   "id": "986bc421-e360-4688-aeaa-447d1a74d4a8",
   "metadata": {},
   "outputs": [
    {
     "data": {
      "text/plain": [
       "[1, 2, 3]"
      ]
     },
     "execution_count": 107,
     "metadata": {},
     "output_type": "execute_result"
    }
   ],
   "source": [
    "list1 = [1,2,3]\n",
    "copy1 = list1.copy()\n",
    "copy1"
   ]
  },
  {
   "cell_type": "code",
   "execution_count": 111,
   "id": "7a5ed075-c758-4182-950b-0a6e5339111e",
   "metadata": {},
   "outputs": [
    {
     "data": {
      "text/plain": [
       "[1, 2, 3, 'hello', 'there']"
      ]
     },
     "execution_count": 111,
     "metadata": {},
     "output_type": "execute_result"
    }
   ],
   "source": [
    "# + sign to join list is called concatination\n",
    "list1 = [1,2,3]\n",
    "list2 = ['hello','there']\n",
    "listconc = list1 + list2\n",
    "listconc"
   ]
  },
  {
   "cell_type": "code",
   "execution_count": 115,
   "id": "21fb591b-2da2-408a-886b-d84b22f524f9",
   "metadata": {},
   "outputs": [
    {
     "data": {
      "text/plain": [
       "[1, 2, 3, 'hello', 'there']"
      ]
     },
     "execution_count": 115,
     "metadata": {},
     "output_type": "execute_result"
    }
   ],
   "source": [
    "list1 = [1,2,3]\n",
    "list2 = ['hello','there']\n",
    "list1.extend(list2)\n",
    "list1"
   ]
  },
  {
   "cell_type": "markdown",
   "id": "19dc7770-07f7-4982-93e7-ccf10f237f0d",
   "metadata": {},
   "source": [
    "### Python Conditional"
   ]
  },
  {
   "cell_type": "code",
   "execution_count": 122,
   "id": "c03f6f6e-3d7a-4b65-820b-8416ba18207a",
   "metadata": {},
   "outputs": [
    {
     "name": "stdout",
     "output_type": "stream",
     "text": [
      "x is greater than 5\n"
     ]
    }
   ],
   "source": [
    "# if statement\n",
    "x = 7\n",
    "if x > 5:\n",
    "    print ('x is greater than 5')"
   ]
  },
  {
   "cell_type": "code",
   "execution_count": 126,
   "id": "e4edd227-0f2e-417c-ad59-993ca6e23b38",
   "metadata": {},
   "outputs": [],
   "source": [
    "x = 7\n",
    "if x > 8:\n",
    "    print ('x is greater than 5')"
   ]
  },
  {
   "cell_type": "code",
   "execution_count": 132,
   "id": "8d486e3c-31df-42fa-8532-ac84d91e5b29",
   "metadata": {},
   "outputs": [
    {
     "name": "stdout",
     "output_type": "stream",
     "text": [
      "x is greater than 1\n"
     ]
    }
   ],
   "source": [
    "#elif statement\n",
    "x = 2\n",
    "if x > 5:\n",
    "    print ('x is greater than 5')\n",
    "elif x > 3:\n",
    "    print ('x is greater than 3')\n",
    "elif x > 1:\n",
    "    print ('x is greater than 1')"
   ]
  },
  {
   "cell_type": "code",
   "execution_count": 134,
   "id": "f944ca52-da7b-467a-b2eb-0251aaf8a878",
   "metadata": {},
   "outputs": [
    {
     "name": "stdout",
     "output_type": "stream",
     "text": [
      "x is less than or equal to 1\n"
     ]
    }
   ],
   "source": [
    "# else statement\n",
    "x = 1\n",
    "if x > 5:\n",
    "    print ('x is greater than 5')\n",
    "elif x > 3:\n",
    "    print ('x is greater than 3')\n",
    "elif x > 1:\n",
    "    print ('x is greater than 1')\n",
    "else:\n",
    "    print ('x is less than or equal to 1')"
   ]
  },
  {
   "cell_type": "markdown",
   "id": "f0e1ab62-9be3-4dc8-a567-8b82a50e94ed",
   "metadata": {},
   "source": [
    "### classwork"
   ]
  },
  {
   "cell_type": "code",
   "execution_count": 142,
   "id": "2062ca70-2529-4f1c-852d-01242def6fa3",
   "metadata": {},
   "outputs": [
    {
     "name": "stdin",
     "output_type": "stream",
     "text": [
      "what is your age? 15\n"
     ]
    },
    {
     "name": "stdout",
     "output_type": "stream",
     "text": [
      "you are not eligible\n"
     ]
    }
   ],
   "source": [
    "age = int(input ('what is your age?'))\n",
    "if age == 18:\n",
    "    print('eligible for citizenship')\n",
    "elif age > 18:\n",
    "    print('eligible for voting')\n",
    "elif age < 18:\n",
    "    print ('you are not eligible')\n"
   ]
  },
  {
   "cell_type": "code",
   "execution_count": 1,
   "id": "46c3ca77-9986-4f4d-b72e-413dd1260aff",
   "metadata": {},
   "outputs": [
    {
     "data": {
      "text/plain": [
       "'C:\\\\Users\\\\user'"
      ]
     },
     "execution_count": 1,
     "metadata": {},
     "output_type": "execute_result"
    }
   ],
   "source": [
    "pwd"
   ]
  }
 ],
 "metadata": {
  "kernelspec": {
   "display_name": "Python 3 (ipykernel)",
   "language": "python",
   "name": "python3"
  },
  "language_info": {
   "codemirror_mode": {
    "name": "ipython",
    "version": 3
   },
   "file_extension": ".py",
   "mimetype": "text/x-python",
   "name": "python",
   "nbconvert_exporter": "python",
   "pygments_lexer": "ipython3",
   "version": "3.12.4"
  }
 },
 "nbformat": 4,
 "nbformat_minor": 5
}
