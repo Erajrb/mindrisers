{
 "cells": [
  {
   "cell_type": "markdown",
   "id": "987153d3-7ade-4e35-ba55-e9d468ec16d6",
   "metadata": {},
   "source": [
    "### <font color = 'red'> Class 7"
   ]
  },
  {
   "cell_type": "markdown",
   "id": "6f93d9a3-ba5f-4a46-b130-ea7fa93fa186",
   "metadata": {},
   "source": [
    "#### Polymorphism and method overriding"
   ]
  },
  {
   "cell_type": "markdown",
   "id": "703feb1c-f910-4259-b557-e599c625d2df",
   "metadata": {},
   "source": [
    "##### it allows us to define methods in child class with same name as their parent where as when we improvise methods in child class is known as method overiding"
   ]
  },
  {
   "cell_type": "code",
   "execution_count": 11,
   "id": "4fcb87f3-ccd8-4b7f-b48d-5745230b59fc",
   "metadata": {},
   "outputs": [
    {
     "name": "stdout",
     "output_type": "stream",
     "text": [
      "explore() method from class B\n",
      "explore() method from class A\n"
     ]
    }
   ],
   "source": [
    "class A:\n",
    "    def explore(self):\n",
    "        print ('explore() method from class A')\n",
    "\n",
    "class B(A):\n",
    "    def explore(self):            #override\n",
    "        print ('explore() method from class B')\n",
    "\n",
    "b_obj = B()    #instance of class B\n",
    "a_obj = A()    #instance of class A\n",
    "b_obj.explore()  # since b_obj is object of class B it choses the explore method from class B\n",
    "a_obj.explore()"
   ]
  },
  {
   "cell_type": "code",
   "execution_count": 15,
   "id": "599f6935-029c-4c60-b137-2a73568600fe",
   "metadata": {},
   "outputs": [
    {
     "name": "stdout",
     "output_type": "stream",
     "text": [
      "explore() method from class A\n",
      "explore() method from class B\n"
     ]
    }
   ],
   "source": [
    "class A:\n",
    "    def explore(self):\n",
    "        print ('explore() method from class A')\n",
    "class B(A):\n",
    "    def explore(self): \n",
    "        super().explore()\n",
    "        print ('explore() method from class B')\n",
    "\n",
    "b_obj = B()    #instance of class B\n",
    "b_obj.explore()"
   ]
  },
  {
   "cell_type": "markdown",
   "id": "6335763b-eea2-400b-96e5-01835de10299",
   "metadata": {},
   "source": [
    "#### comprehension (list,set,dictionary)"
   ]
  },
  {
   "cell_type": "markdown",
   "id": "4d657adb-f621-4b36-bdce-0827483d60c3",
   "metadata": {},
   "source": [
    "#### List"
   ]
  },
  {
   "cell_type": "code",
   "execution_count": 18,
   "id": "b55e68aa-624d-46a0-848b-f377ee57ee6b",
   "metadata": {},
   "outputs": [
    {
     "name": "stdout",
     "output_type": "stream",
     "text": [
      "[1, 4, 9, 16, 25, 36, 49, 64, 81]\n",
      "[1, 9, 25, 49, 81, 121, 169, 225, 289, 361]\n"
     ]
    }
   ],
   "source": [
    "sqaure_list = [i*i for i in range(1,10)]  #square of no from 1 to 9\n",
    "square_odd_list = [x*x for x in range (1,20) if x % 2 != 0] # squares of odd\n",
    "print (sqaure_list)\n",
    "print (square_odd_list)"
   ]
  },
  {
   "cell_type": "code",
   "execution_count": 20,
   "id": "e648db93-ac52-4cac-904a-93d3edac52d7",
   "metadata": {},
   "outputs": [
    {
     "name": "stdout",
     "output_type": "stream",
     "text": [
      "[1, 9, 25, 49, 81, 121, 169, 225, 289, 361]\n"
     ]
    }
   ],
   "source": [
    "square_odd_list = [x*x for x in range (1,20,2)] # squares of odd\n",
    "print(square_odd_list)"
   ]
  },
  {
   "cell_type": "markdown",
   "id": "a7297f4a-5531-4c41-af10-65c74ef5b338",
   "metadata": {},
   "source": [
    "##### using if else in comprehension to print square if even and print odd number only if odd"
   ]
  },
  {
   "cell_type": "code",
   "execution_count": 36,
   "id": "18092b9d-fd20-42ac-8740-9ab0520f8020",
   "metadata": {},
   "outputs": [
    {
     "name": "stdout",
     "output_type": "stream",
     "text": [
      "[0, 1, 4, 3, 16, 5, 36, 7, 64, 9]\n"
     ]
    }
   ],
   "source": [
    "list = [x*x if x % 2 == 0 else x for x in range (10)] # squares of odd\n",
    "print(list)"
   ]
  },
  {
   "cell_type": "markdown",
   "id": "2e4c7bca-a7db-4bab-8f62-0be6000652fc",
   "metadata": {},
   "source": [
    "##### list of number that are multiple of both 2 and 3"
   ]
  },
  {
   "cell_type": "code",
   "execution_count": 41,
   "id": "f9b60988-9c8d-483b-a294-1a422c235914",
   "metadata": {},
   "outputs": [
    {
     "name": "stdout",
     "output_type": "stream",
     "text": [
      "[0, 6, 12, 18]\n"
     ]
    }
   ],
   "source": [
    "list = []\n",
    "for i in range(20):\n",
    "    if i%2==0:\n",
    "        if i %3==0:\n",
    "            list.append(i)\n",
    "\n",
    "print(list)"
   ]
  },
  {
   "cell_type": "code",
   "execution_count": 53,
   "id": "58052c6e-83e9-47bb-a6a2-cc3a8eca53bf",
   "metadata": {},
   "outputs": [
    {
     "name": "stdout",
     "output_type": "stream",
     "text": [
      "[0, 6, 12, 18]\n"
     ]
    }
   ],
   "source": [
    "lst = [i for i in range(20) if i%2==0 if i%3==0]\n",
    "print(lst)"
   ]
  },
  {
   "cell_type": "code",
   "execution_count": 61,
   "id": "118cab55-ac24-4a98-8e68-9224a650d533",
   "metadata": {},
   "outputs": [
    {
     "name": "stdout",
     "output_type": "stream",
     "text": [
      "['Steve', 'Kara', 'Saif']\n"
     ]
    }
   ],
   "source": [
    "name = [name.capitalize() for name in ['StEvE','KaRa','SAIF']]\n",
    "print(name)"
   ]
  },
  {
   "cell_type": "code",
   "execution_count": 67,
   "id": "fc590215-3be8-479e-850a-af21a4a3c9b0",
   "metadata": {},
   "outputs": [
    {
     "name": "stdout",
     "output_type": "stream",
     "text": [
      "['Steve', 'Kara', 'Saif']\n"
     ]
    }
   ],
   "source": [
    "lst = []\n",
    "for name in ['StEvE','KaRa','SAIF']:\n",
    "    lst.append(name.capitalize())\n",
    "\n",
    "print(lst)"
   ]
  },
  {
   "cell_type": "markdown",
   "id": "99f9d058-5070-442f-bfbe-15f60247dcb8",
   "metadata": {},
   "source": [
    "#### Sets"
   ]
  },
  {
   "cell_type": "code",
   "execution_count": 84,
   "id": "fb745c8b-bdf2-4e5f-8f04-deba53162153",
   "metadata": {},
   "outputs": [
    {
     "name": "stdout",
     "output_type": "stream",
     "text": [
      "{(12, 5, 13), (4, 3, 5), (6, 8, 10), (12, 9, 15), (15, 8, 17), (3, 4, 5), (8, 15, 17), (9, 12, 15), (8, 6, 10), (5, 12, 13)}\n"
     ]
    }
   ],
   "source": [
    "triplets = {(x,y,z) for x in range(1,20) for y in range(1,20) for z in range(1,20) if (x**2+y**2 == z**2)}\n",
    "print(triplets)"
   ]
  },
  {
   "cell_type": "markdown",
   "id": "6240e2cb-7e02-4140-a757-90ed5dcbabc3",
   "metadata": {},
   "source": [
    "#### Dictionary"
   ]
  },
  {
   "cell_type": "markdown",
   "id": "3cf4577f-f5ee-4a63-b0a0-c35412c3073f",
   "metadata": {},
   "source": [
    "##### you want to provide 10% discount for items worth more than 10$"
   ]
  },
  {
   "cell_type": "code",
   "execution_count": 72,
   "id": "f15fe32d-1aef-41d6-9cbf-3b61283eafd6",
   "metadata": {},
   "outputs": [
    {
     "data": {
      "text/plain": [
       "{'Apple': 10.8, 'Orange': 7, 'Kiwi': 22.5, 'Banana': 6}"
      ]
     },
     "execution_count": 72,
     "metadata": {},
     "output_type": "execute_result"
    }
   ],
   "source": [
    "bill = {'Apple':12,'Orange':7,'Kiwi':25,'Banana':6}\n",
    "discounted_bill = {k : (v*0.9 if v>10 else v) for k,v in bill.items()}\n",
    "discounted_bill"
   ]
  },
  {
   "cell_type": "code",
   "execution_count": 93,
   "id": "8489b020-3994-45d2-b65e-ea44d2827804",
   "metadata": {},
   "outputs": [
    {
     "name": "stdout",
     "output_type": "stream",
     "text": [
      "{1: 1.0, 2: 1.4142135623730951, 3: 1.7320508075688772, 4: 2.0, 5: 2.23606797749979, 6: 2.449489742783178, 7: 2.6457513110645907, 8: 2.8284271247461903, 9: 3.0}\n"
     ]
    }
   ],
   "source": [
    "sq_roots = {x: (x**0.5) for x in range(1,10)}\n",
    "print(sq_roots)"
   ]
  }
 ],
 "metadata": {
  "kernelspec": {
   "display_name": "Python 3 (ipykernel)",
   "language": "python",
   "name": "python3"
  },
  "language_info": {
   "codemirror_mode": {
    "name": "ipython",
    "version": 3
   },
   "file_extension": ".py",
   "mimetype": "text/x-python",
   "name": "python",
   "nbconvert_exporter": "python",
   "pygments_lexer": "ipython3",
   "version": "3.12.4"
  }
 },
 "nbformat": 4,
 "nbformat_minor": 5
}
