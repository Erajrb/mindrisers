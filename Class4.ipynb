{
 "cells": [
  {
   "cell_type": "markdown",
   "id": "09d91692-2a80-4140-b826-b34fdd518cf8",
   "metadata": {},
   "source": [
    "### <font color = 'red'> Class 4"
   ]
  },
  {
   "cell_type": "markdown",
   "id": "1fe7fe83-ced2-476d-8fa4-3a7dedbbcd3d",
   "metadata": {},
   "source": [
    "#### Loop"
   ]
  },
  {
   "cell_type": "code",
   "execution_count": 9,
   "id": "df90fab4-b3c5-4063-93fd-f1cbf272830f",
   "metadata": {},
   "outputs": [
    {
     "name": "stdout",
     "output_type": "stream",
     "text": [
      "0\n",
      "1\n",
      "2\n",
      "3\n",
      "4\n"
     ]
    }
   ],
   "source": [
    "x = 0 \n",
    "while x < 5:\n",
    "    print(x)\n",
    "    x += 1"
   ]
  },
  {
   "cell_type": "code",
   "execution_count": 19,
   "id": "d4da791d-7051-494c-b5cc-a561e034275d",
   "metadata": {},
   "outputs": [
    {
     "name": "stdout",
     "output_type": "stream",
     "text": [
      "0\n",
      "1\n",
      "2\n",
      "3\n"
     ]
    }
   ],
   "source": [
    "# break\n",
    "x = 0\n",
    "while x < 10:\n",
    "    print (x)\n",
    "    x += 1\n",
    "    if x == 4:\n",
    "        break\n"
   ]
  },
  {
   "cell_type": "code",
   "execution_count": 23,
   "id": "7293ba2b-ec66-4aaf-b8c5-322bfaff1fc7",
   "metadata": {},
   "outputs": [
    {
     "name": "stdout",
     "output_type": "stream",
     "text": [
      "1\n",
      "2\n",
      "4\n",
      "5\n",
      "6\n",
      "7\n",
      "8\n",
      "9\n",
      "10\n"
     ]
    }
   ],
   "source": [
    "# continue \n",
    "x = 0\n",
    "while x < 10:\n",
    "    x += 1\n",
    "    if x == 3:\n",
    "        continue \n",
    "    print (x)"
   ]
  },
  {
   "cell_type": "code",
   "execution_count": 27,
   "id": "df50265d-5d77-4ecf-9f2b-b3b5d6583cee",
   "metadata": {},
   "outputs": [
    {
     "name": "stdout",
     "output_type": "stream",
     "text": [
      "one\n",
      "two\n",
      "three\n"
     ]
    }
   ],
   "source": [
    "# for loop\n",
    "list = ['one','two','three']\n",
    "for num in list:\n",
    "    print (num)"
   ]
  },
  {
   "cell_type": "code",
   "execution_count": 43,
   "id": "02658bc2-16f6-40fe-873b-3ae115eab87b",
   "metadata": {},
   "outputs": [
    {
     "name": "stdout",
     "output_type": "stream",
     "text": [
      "p\n",
      "y\n",
      "t\n"
     ]
    }
   ],
   "source": [
    "for i in 'python':\n",
    "    print (i)\n",
    "    if i == 't':\n",
    "        break\n"
   ]
  },
  {
   "cell_type": "code",
   "execution_count": 33,
   "id": "d4e62e5b-6bcc-49d7-a0cc-663b4d39fefb",
   "metadata": {},
   "outputs": [
    {
     "name": "stdout",
     "output_type": "stream",
     "text": [
      "0\n",
      "1\n",
      "2\n",
      "3\n",
      "4\n",
      "5\n"
     ]
    }
   ],
   "source": [
    "# range fxn\n",
    "for i in range(6):\n",
    "    print (i)"
   ]
  },
  {
   "cell_type": "code",
   "execution_count": 45,
   "id": "edbcfcb8-9481-4693-bf9d-9ddf802ebe10",
   "metadata": {},
   "outputs": [
    {
     "name": "stdout",
     "output_type": "stream",
     "text": [
      "2\n",
      "5\n",
      "8\n"
     ]
    }
   ],
   "source": [
    "for i in range (2,10,3):\n",
    "    print (i)"
   ]
  },
  {
   "cell_type": "code",
   "execution_count": 47,
   "id": "c6bd2db7-b821-4fc1-8adc-66f62b504cc2",
   "metadata": {},
   "outputs": [
    {
     "name": "stdout",
     "output_type": "stream",
     "text": [
      "red chair\n",
      "red table\n",
      "red house\n",
      "orange chair\n",
      "orange table\n",
      "orange house\n",
      "green chair\n",
      "green table\n",
      "green house\n"
     ]
    }
   ],
   "source": [
    "# Nested Loop\n",
    "colors = ['red','orange','green']\n",
    "objects = ['chair','table','house']\n",
    "for i in colors:\n",
    "    for j in objects:\n",
    "        print (i,j)"
   ]
  },
  {
   "cell_type": "markdown",
   "id": "80461785-e2ad-4bb7-b996-33b352fbc4ca",
   "metadata": {},
   "source": [
    "#### Functions"
   ]
  },
  {
   "cell_type": "code",
   "execution_count": 56,
   "id": "1bd10d0c-f911-4cfd-b050-b04866595b65",
   "metadata": {},
   "outputs": [
    {
     "name": "stdout",
     "output_type": "stream",
     "text": [
      "5\n",
      "12\n"
     ]
    }
   ],
   "source": [
    "def add (x,y):\n",
    "    sum = x + y\n",
    "    return sum\n",
    "\n",
    "print (add (2,3))\n",
    "print (add (5,7))"
   ]
  },
  {
   "cell_type": "code",
   "execution_count": 62,
   "id": "8b5faf30-2023-43af-b59f-eb16e432152a",
   "metadata": {},
   "outputs": [
    {
     "data": {
      "text/plain": [
       "29"
      ]
     },
     "execution_count": 62,
     "metadata": {},
     "output_type": "execute_result"
    }
   ],
   "source": [
    "# arbitrary argument\n",
    "def add (*nums):\n",
    "    sum = 0\n",
    "    for i in nums:\n",
    "        sum += i\n",
    "    return sum\n",
    "\n",
    "add (1,2,3,23)"
   ]
  },
  {
   "cell_type": "code",
   "execution_count": null,
   "id": "f537c183-1afd-4e78-80b7-2496e2f9d5e8",
   "metadata": {},
   "outputs": [],
   "source": []
  }
 ],
 "metadata": {
  "kernelspec": {
   "display_name": "Python 3 (ipykernel)",
   "language": "python",
   "name": "python3"
  },
  "language_info": {
   "codemirror_mode": {
    "name": "ipython",
    "version": 3
   },
   "file_extension": ".py",
   "mimetype": "text/x-python",
   "name": "python",
   "nbconvert_exporter": "python",
   "pygments_lexer": "ipython3",
   "version": "3.12.4"
  }
 },
 "nbformat": 4,
 "nbformat_minor": 5
}
