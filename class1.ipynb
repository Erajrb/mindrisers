{
 "cells": [
  {
   "cell_type": "markdown",
   "id": "5dcb6f63-a2ac-4e6a-929c-233ab7907a63",
   "metadata": {},
   "source": [
    "## **Class 1**"
   ]
  },
  {
   "cell_type": "code",
   "execution_count": 158,
   "id": "cd2be37c-368c-4303-b90a-a533b8c35f22",
   "metadata": {},
   "outputs": [
    {
     "name": "stdout",
     "output_type": "stream",
     "text": [
      "Hello World\n"
     ]
    }
   ],
   "source": [
    "print(\"Hello World\")"
   ]
  },
  {
   "cell_type": "code",
   "execution_count": 160,
   "id": "89de9aeb-7964-4568-bca9-1832ce09a07a",
   "metadata": {},
   "outputs": [
    {
     "name": "stdout",
     "output_type": "stream",
     "text": [
      "I love python\n"
     ]
    }
   ],
   "source": [
    "print(\"I love python\")"
   ]
  },
  {
   "cell_type": "code",
   "execution_count": 16,
   "id": "88c41c22-919d-448d-b9db-3085e8b2644c",
   "metadata": {},
   "outputs": [],
   "source": [
    "# we use for comment"
   ]
  },
  {
   "cell_type": "code",
   "execution_count": 24,
   "id": "45312ecb-18e2-4abb-94ea-992c93989289",
   "metadata": {},
   "outputs": [
    {
     "name": "stdout",
     "output_type": "stream",
     "text": [
      "x= 2\n",
      "5\n"
     ]
    }
   ],
   "source": [
    "x=2\n",
    "X=5\n",
    "# variables are case sensitive\n",
    "print(\"x=\",x)\n",
    "print(X)"
   ]
  },
  {
   "cell_type": "code",
   "execution_count": 32,
   "id": "be92447c-ae33-4e5e-bcb2-828709047593",
   "metadata": {},
   "outputs": [],
   "source": [
    "language=\"python\"\n",
    "name=\"John\"\n"
   ]
  },
  {
   "cell_type": "code",
   "execution_count": 36,
   "id": "f2ae6570-1761-4bf3-82a0-23ac51cb2b33",
   "metadata": {},
   "outputs": [
    {
     "name": "stdout",
     "output_type": "stream",
     "text": [
      "language: python\n",
      "name: John\n"
     ]
    }
   ],
   "source": [
    "print(\"language:\", language)\n",
    "print(\"name:\",name)"
   ]
  },
  {
   "cell_type": "code",
   "execution_count": 38,
   "id": "6fc0fbcb-a4a7-4109-a433-9f1be4f15301",
   "metadata": {},
   "outputs": [
    {
     "name": "stdout",
     "output_type": "stream",
     "text": [
      "my name is Eraj Rajbhandari\n"
     ]
    }
   ],
   "source": [
    "name=\"Eraj\"\n",
    "cast=\"Rajbhandari\"\n",
    "print(\"my name is\",name,cast)"
   ]
  },
  {
   "cell_type": "code",
   "execution_count": 54,
   "id": "94a4a3f3-804d-4c8a-b109-769b3359d39f",
   "metadata": {},
   "outputs": [
    {
     "data": {
      "text/plain": [
       "'Eraj Rajbhandari'"
      ]
     },
     "execution_count": 54,
     "metadata": {},
     "output_type": "execute_result"
    }
   ],
   "source": [
    "name + \" \" +cast"
   ]
  },
  {
   "cell_type": "code",
   "execution_count": 52,
   "id": "24696021-968a-43fd-99c7-00f7199099e7",
   "metadata": {},
   "outputs": [
    {
     "name": "stdout",
     "output_type": "stream",
     "text": [
      "Eraj Rajbhandari\n"
     ]
    }
   ],
   "source": [
    "print(name + \" \" + cast)"
   ]
  },
  {
   "cell_type": "code",
   "execution_count": 62,
   "id": "a778a436-4bcf-4284-b2aa-801afa492da8",
   "metadata": {},
   "outputs": [
    {
     "data": {
      "text/plain": [
       "range(0, 5)"
      ]
     },
     "execution_count": 62,
     "metadata": {},
     "output_type": "execute_result"
    }
   ],
   "source": [
    "x=range(5)\n",
    "x"
   ]
  },
  {
   "cell_type": "code",
   "execution_count": 70,
   "id": "538fc1b0-84a0-41d1-9a17-0e37887b7077",
   "metadata": {},
   "outputs": [
    {
     "data": {
      "text/plain": [
       "int"
      ]
     },
     "execution_count": 70,
     "metadata": {},
     "output_type": "execute_result"
    }
   ],
   "source": [
    "type(X)"
   ]
  },
  {
   "cell_type": "code",
   "execution_count": 76,
   "id": "b1a96086-d766-4f88-b22f-d3229246e4dd",
   "metadata": {},
   "outputs": [],
   "source": [
    "#type casting\n",
    "int_var=int(2.53)\n",
    "str_var=str(45)\n",
    "float_var=float(\"3.14\")"
   ]
  },
  {
   "cell_type": "code",
   "execution_count": 86,
   "id": "ddf5e39a-4fa4-4c4f-b07c-d3cea36cf3ae",
   "metadata": {},
   "outputs": [
    {
     "name": "stdout",
     "output_type": "stream",
     "text": [
      "<class 'int'>\n",
      "<class 'str'>\n",
      "<class 'float'>\n"
     ]
    }
   ],
   "source": [
    "# assign values to automatically change data type\n",
    "int_var_auto=4\n",
    "str_var_auto=\"hello\"\n",
    "float_var_auto=3.14\n",
    "print(type(int_var_auto))\n",
    "print(type(str_var_auto))\n",
    "print(type(float_var_auto))"
   ]
  },
  {
   "cell_type": "code",
   "execution_count": 90,
   "id": "6de230f0-281b-4631-bba8-807164b175c2",
   "metadata": {},
   "outputs": [
    {
     "name": "stdout",
     "output_type": "stream",
     "text": [
      "2.0\n",
      "<class 'float'>\n"
     ]
    }
   ],
   "source": [
    "int_var_convert = float(int_var)\n",
    "print(int_var_convert)\n",
    "print(type(int_var_convert))"
   ]
  },
  {
   "cell_type": "code",
   "execution_count": 96,
   "id": "2e9d81de-acd7-40d0-9fcd-00b81a8649f2",
   "metadata": {},
   "outputs": [
    {
     "data": {
      "text/plain": [
       "25.0"
      ]
     },
     "execution_count": 96,
     "metadata": {},
     "output_type": "execute_result"
    }
   ],
   "source": [
    "age = 25\n",
    "age_convert_f=float(age)\n",
    "age_convert_f"
   ]
  },
  {
   "cell_type": "code",
   "execution_count": 100,
   "id": "de1fab2a-4f35-4ad8-9bb2-4c4e52c688e8",
   "metadata": {},
   "outputs": [
    {
     "data": {
      "text/plain": [
       "'25'"
      ]
     },
     "execution_count": 100,
     "metadata": {},
     "output_type": "execute_result"
    }
   ],
   "source": [
    "age_convert_s=str(age)\n",
    "age_convert_s"
   ]
  },
  {
   "cell_type": "code",
   "execution_count": 118,
   "id": "6e86a9fe-d4e8-44e8-8328-c659c42cfe44",
   "metadata": {},
   "outputs": [
    {
     "data": {
      "text/plain": [
       "5"
      ]
     },
     "execution_count": 118,
     "metadata": {},
     "output_type": "execute_result"
    }
   ],
   "source": [
    "2+3"
   ]
  },
  {
   "cell_type": "code",
   "execution_count": 120,
   "id": "b21b3e92-5f71-4f55-8658-363f9e9de0ad",
   "metadata": {},
   "outputs": [
    {
     "data": {
      "text/plain": [
       "-1"
      ]
     },
     "execution_count": 120,
     "metadata": {},
     "output_type": "execute_result"
    }
   ],
   "source": [
    "2-3"
   ]
  },
  {
   "cell_type": "code",
   "execution_count": 102,
   "id": "13375509-f7ec-42ea-921f-e5fa2c03b3e3",
   "metadata": {},
   "outputs": [
    {
     "data": {
      "text/plain": [
       "8"
      ]
     },
     "execution_count": 102,
     "metadata": {},
     "output_type": "execute_result"
    }
   ],
   "source": [
    "2/3\n",
    "2**3"
   ]
  },
  {
   "cell_type": "code",
   "execution_count": 114,
   "id": "78cf7989-143f-4e04-8351-b2ad2c4f8207",
   "metadata": {},
   "outputs": [
    {
     "data": {
      "text/plain": [
       "2"
      ]
     },
     "execution_count": 114,
     "metadata": {},
     "output_type": "execute_result"
    }
   ],
   "source": [
    "5 % 3"
   ]
  },
  {
   "cell_type": "code",
   "execution_count": 124,
   "id": "5628c8e2-ae0c-4f9c-90ab-8a8ef112f500",
   "metadata": {},
   "outputs": [
    {
     "data": {
      "text/plain": [
       "4"
      ]
     },
     "execution_count": 124,
     "metadata": {},
     "output_type": "execute_result"
    }
   ],
   "source": [
    "14//3"
   ]
  },
  {
   "cell_type": "code",
   "execution_count": 126,
   "id": "b7ae1d7d-49ba-4903-b930-5a31d29ce636",
   "metadata": {},
   "outputs": [
    {
     "data": {
      "text/plain": [
       "2"
      ]
     },
     "execution_count": 126,
     "metadata": {},
     "output_type": "execute_result"
    }
   ],
   "source": [
    "14%3"
   ]
  },
  {
   "cell_type": "code",
   "execution_count": 116,
   "id": "7af43689-54d1-4b76-9d6c-8a80d365faf2",
   "metadata": {},
   "outputs": [
    {
     "data": {
      "text/plain": [
       "8"
      ]
     },
     "execution_count": 116,
     "metadata": {},
     "output_type": "execute_result"
    }
   ],
   "source": [
    "2**3"
   ]
  },
  {
   "cell_type": "code",
   "execution_count": 132,
   "id": "60e4c9ea-e4bc-4c19-82ff-ab69bb5e4685",
   "metadata": {},
   "outputs": [
    {
     "data": {
      "text/plain": [
       "8.166666666666666"
      ]
     },
     "execution_count": 132,
     "metadata": {},
     "output_type": "execute_result"
    }
   ],
   "source": [
    "x=7*(3+8-4)/6\n",
    "x"
   ]
  },
  {
   "cell_type": "code",
   "execution_count": 136,
   "id": "fa114983-b502-4b04-bac5-92df2222aa73",
   "metadata": {},
   "outputs": [
    {
     "data": {
      "text/plain": [
       "0"
      ]
     },
     "execution_count": 136,
     "metadata": {},
     "output_type": "execute_result"
    }
   ],
   "source": [
    "y = int(x) % 2\n",
    "y"
   ]
  },
  {
   "cell_type": "code",
   "execution_count": 140,
   "id": "373a12bf-27ee-4216-8a5c-9bfc95699529",
   "metadata": {},
   "outputs": [
    {
     "data": {
      "text/plain": [
       "0"
      ]
     },
     "execution_count": 140,
     "metadata": {},
     "output_type": "execute_result"
    }
   ],
   "source": [
    "z = y ** 3\n",
    "z"
   ]
  },
  {
   "cell_type": "code",
   "execution_count": 142,
   "id": "8e1453cf-6e08-4b68-9e42-ee237dc1454f",
   "metadata": {},
   "outputs": [],
   "source": [
    "k = z // 3"
   ]
  },
  {
   "cell_type": "code",
   "execution_count": 146,
   "id": "596bcf4a-d09f-42a8-ad5e-cb78414b2be3",
   "metadata": {},
   "outputs": [
    {
     "data": {
      "text/plain": [
       "0.16666666666666607"
      ]
     },
     "execution_count": 146,
     "metadata": {},
     "output_type": "execute_result"
    }
   ],
   "source": [
    "y = x % 2\n",
    "y"
   ]
  },
  {
   "cell_type": "code",
   "execution_count": 150,
   "id": "f62fca98-7adf-409e-a5cb-dd3fff173e37",
   "metadata": {},
   "outputs": [
    {
     "data": {
      "text/plain": [
       "0.00462962962962958"
      ]
     },
     "execution_count": 150,
     "metadata": {},
     "output_type": "execute_result"
    }
   ],
   "source": [
    "z = y ** 3\n",
    "z"
   ]
  },
  {
   "cell_type": "code",
   "execution_count": 154,
   "id": "640b606b-9b44-4176-bb7c-716712978e23",
   "metadata": {},
   "outputs": [
    {
     "data": {
      "text/plain": [
       "0.0"
      ]
     },
     "execution_count": 154,
     "metadata": {},
     "output_type": "execute_result"
    }
   ],
   "source": [
    "k = z // 3\n",
    "k"
   ]
  },
  {
   "cell_type": "code",
   "execution_count": null,
   "id": "d62ff2ba-f4b5-41fb-ae36-5e5eddd980c0",
   "metadata": {},
   "outputs": [],
   "source": []
  }
 ],
 "metadata": {
  "kernelspec": {
   "display_name": "Python 3 (ipykernel)",
   "language": "python",
   "name": "python3"
  },
  "language_info": {
   "codemirror_mode": {
    "name": "ipython",
    "version": 3
   },
   "file_extension": ".py",
   "mimetype": "text/x-python",
   "name": "python",
   "nbconvert_exporter": "python",
   "pygments_lexer": "ipython3",
   "version": "3.12.4"
  }
 },
 "nbformat": 4,
 "nbformat_minor": 5
}
