{
 "cells": [
  {
   "cell_type": "markdown",
   "id": "32f0cd4b-9693-48f1-a91d-95e6acdedc87",
   "metadata": {},
   "source": [
    "### <font color = 'red'> Explore Hypothesis Testing"
   ]
  },
  {
   "cell_type": "markdown",
   "id": "d99ecefc-2cf3-4ee3-8974-f4f009f4578c",
   "metadata": {},
   "source": [
    "#### 1.2 Imports"
   ]
  },
  {
   "cell_type": "markdown",
   "id": "a360996e-87e6-470e-bbfd-6e10045ee355",
   "metadata": {},
   "source": [
    "import pandas as pd\n",
    "import numpy as np\n",
    "from scipy import stats"
   ]
  },
  {
   "cell_type": "code",
   "execution_count": 5,
   "id": "68a0d117-da17-4fba-8f2a-add02d3c96f1",
   "metadata": {},
   "outputs": [
    {
     "data": {
      "text/html": [
       "<div>\n",
       "<style scoped>\n",
       "    .dataframe tbody tr th:only-of-type {\n",
       "        vertical-align: middle;\n",
       "    }\n",
       "\n",
       "    .dataframe tbody tr th {\n",
       "        vertical-align: top;\n",
       "    }\n",
       "\n",
       "    .dataframe thead th {\n",
       "        text-align: right;\n",
       "    }\n",
       "</style>\n",
       "<table border=\"1\" class=\"dataframe\">\n",
       "  <thead>\n",
       "    <tr style=\"text-align: right;\">\n",
       "      <th></th>\n",
       "      <th>date_local</th>\n",
       "      <th>state_name</th>\n",
       "      <th>county_name</th>\n",
       "      <th>city_name</th>\n",
       "      <th>local_site_name</th>\n",
       "      <th>parameter_name</th>\n",
       "      <th>units_of_measure</th>\n",
       "      <th>arithmetic_mean</th>\n",
       "      <th>aqi</th>\n",
       "    </tr>\n",
       "  </thead>\n",
       "  <tbody>\n",
       "    <tr>\n",
       "      <th>0</th>\n",
       "      <td>2018-01-01</td>\n",
       "      <td>Arizona</td>\n",
       "      <td>Maricopa</td>\n",
       "      <td>Buckeye</td>\n",
       "      <td>BUCKEYE</td>\n",
       "      <td>Carbon monoxide</td>\n",
       "      <td>Parts per million</td>\n",
       "      <td>0.473684</td>\n",
       "      <td>7</td>\n",
       "    </tr>\n",
       "    <tr>\n",
       "      <th>1</th>\n",
       "      <td>2018-01-01</td>\n",
       "      <td>Ohio</td>\n",
       "      <td>Belmont</td>\n",
       "      <td>Shadyside</td>\n",
       "      <td>Shadyside</td>\n",
       "      <td>Carbon monoxide</td>\n",
       "      <td>Parts per million</td>\n",
       "      <td>0.263158</td>\n",
       "      <td>5</td>\n",
       "    </tr>\n",
       "    <tr>\n",
       "      <th>2</th>\n",
       "      <td>2018-01-01</td>\n",
       "      <td>Wyoming</td>\n",
       "      <td>Teton</td>\n",
       "      <td>Not in a city</td>\n",
       "      <td>Yellowstone National Park - Old Faithful Snow ...</td>\n",
       "      <td>Carbon monoxide</td>\n",
       "      <td>Parts per million</td>\n",
       "      <td>0.111111</td>\n",
       "      <td>2</td>\n",
       "    </tr>\n",
       "    <tr>\n",
       "      <th>3</th>\n",
       "      <td>2018-01-01</td>\n",
       "      <td>Pennsylvania</td>\n",
       "      <td>Philadelphia</td>\n",
       "      <td>Philadelphia</td>\n",
       "      <td>North East Waste (NEW)</td>\n",
       "      <td>Carbon monoxide</td>\n",
       "      <td>Parts per million</td>\n",
       "      <td>0.300000</td>\n",
       "      <td>3</td>\n",
       "    </tr>\n",
       "    <tr>\n",
       "      <th>4</th>\n",
       "      <td>2018-01-01</td>\n",
       "      <td>Iowa</td>\n",
       "      <td>Polk</td>\n",
       "      <td>Des Moines</td>\n",
       "      <td>CARPENTER</td>\n",
       "      <td>Carbon monoxide</td>\n",
       "      <td>Parts per million</td>\n",
       "      <td>0.215789</td>\n",
       "      <td>3</td>\n",
       "    </tr>\n",
       "  </tbody>\n",
       "</table>\n",
       "</div>"
      ],
      "text/plain": [
       "   date_local    state_name   county_name      city_name  \\\n",
       "0  2018-01-01       Arizona      Maricopa        Buckeye   \n",
       "1  2018-01-01          Ohio       Belmont      Shadyside   \n",
       "2  2018-01-01       Wyoming         Teton  Not in a city   \n",
       "3  2018-01-01  Pennsylvania  Philadelphia   Philadelphia   \n",
       "4  2018-01-01          Iowa          Polk     Des Moines   \n",
       "\n",
       "                                     local_site_name   parameter_name  \\\n",
       "0                                            BUCKEYE  Carbon monoxide   \n",
       "1                                          Shadyside  Carbon monoxide   \n",
       "2  Yellowstone National Park - Old Faithful Snow ...  Carbon monoxide   \n",
       "3                             North East Waste (NEW)  Carbon monoxide   \n",
       "4                                          CARPENTER  Carbon monoxide   \n",
       "\n",
       "    units_of_measure  arithmetic_mean  aqi  \n",
       "0  Parts per million         0.473684    7  \n",
       "1  Parts per million         0.263158    5  \n",
       "2  Parts per million         0.111111    2  \n",
       "3  Parts per million         0.300000    3  \n",
       "4  Parts per million         0.215789    3  "
      ]
     },
     "execution_count": 5,
     "metadata": {},
     "output_type": "execute_result"
    }
   ],
   "source": [
    "aqi = pd.read_csv('c4_epa_air_quality.csv',index_col = 0)\n",
    "aqi.head()"
   ]
  },
  {
   "cell_type": "markdown",
   "id": "e2f6ac62-abeb-4c25-a004-93aed7501ffb",
   "metadata": {},
   "source": [
    "#### 1.3 Data Exploration"
   ]
  },
  {
   "cell_type": "code",
   "execution_count": 7,
   "id": "719b8c1a-8fb8-49a4-9e0c-eae93cb74079",
   "metadata": {},
   "outputs": [
    {
     "data": {
      "text/html": [
       "<div>\n",
       "<style scoped>\n",
       "    .dataframe tbody tr th:only-of-type {\n",
       "        vertical-align: middle;\n",
       "    }\n",
       "\n",
       "    .dataframe tbody tr th {\n",
       "        vertical-align: top;\n",
       "    }\n",
       "\n",
       "    .dataframe thead th {\n",
       "        text-align: right;\n",
       "    }\n",
       "</style>\n",
       "<table border=\"1\" class=\"dataframe\">\n",
       "  <thead>\n",
       "    <tr style=\"text-align: right;\">\n",
       "      <th></th>\n",
       "      <th>date_local</th>\n",
       "      <th>state_name</th>\n",
       "      <th>county_name</th>\n",
       "      <th>city_name</th>\n",
       "      <th>local_site_name</th>\n",
       "      <th>parameter_name</th>\n",
       "      <th>units_of_measure</th>\n",
       "      <th>arithmetic_mean</th>\n",
       "      <th>aqi</th>\n",
       "    </tr>\n",
       "  </thead>\n",
       "  <tbody>\n",
       "    <tr>\n",
       "      <th>count</th>\n",
       "      <td>260</td>\n",
       "      <td>260</td>\n",
       "      <td>260</td>\n",
       "      <td>260</td>\n",
       "      <td>257</td>\n",
       "      <td>260</td>\n",
       "      <td>260</td>\n",
       "      <td>260.000000</td>\n",
       "      <td>260.000000</td>\n",
       "    </tr>\n",
       "    <tr>\n",
       "      <th>unique</th>\n",
       "      <td>1</td>\n",
       "      <td>52</td>\n",
       "      <td>149</td>\n",
       "      <td>190</td>\n",
       "      <td>253</td>\n",
       "      <td>1</td>\n",
       "      <td>1</td>\n",
       "      <td>NaN</td>\n",
       "      <td>NaN</td>\n",
       "    </tr>\n",
       "    <tr>\n",
       "      <th>top</th>\n",
       "      <td>2018-01-01</td>\n",
       "      <td>California</td>\n",
       "      <td>Los Angeles</td>\n",
       "      <td>Not in a city</td>\n",
       "      <td>Kapolei</td>\n",
       "      <td>Carbon monoxide</td>\n",
       "      <td>Parts per million</td>\n",
       "      <td>NaN</td>\n",
       "      <td>NaN</td>\n",
       "    </tr>\n",
       "    <tr>\n",
       "      <th>freq</th>\n",
       "      <td>260</td>\n",
       "      <td>66</td>\n",
       "      <td>14</td>\n",
       "      <td>21</td>\n",
       "      <td>2</td>\n",
       "      <td>260</td>\n",
       "      <td>260</td>\n",
       "      <td>NaN</td>\n",
       "      <td>NaN</td>\n",
       "    </tr>\n",
       "    <tr>\n",
       "      <th>mean</th>\n",
       "      <td>NaN</td>\n",
       "      <td>NaN</td>\n",
       "      <td>NaN</td>\n",
       "      <td>NaN</td>\n",
       "      <td>NaN</td>\n",
       "      <td>NaN</td>\n",
       "      <td>NaN</td>\n",
       "      <td>0.403169</td>\n",
       "      <td>6.757692</td>\n",
       "    </tr>\n",
       "    <tr>\n",
       "      <th>std</th>\n",
       "      <td>NaN</td>\n",
       "      <td>NaN</td>\n",
       "      <td>NaN</td>\n",
       "      <td>NaN</td>\n",
       "      <td>NaN</td>\n",
       "      <td>NaN</td>\n",
       "      <td>NaN</td>\n",
       "      <td>0.317902</td>\n",
       "      <td>7.061707</td>\n",
       "    </tr>\n",
       "    <tr>\n",
       "      <th>min</th>\n",
       "      <td>NaN</td>\n",
       "      <td>NaN</td>\n",
       "      <td>NaN</td>\n",
       "      <td>NaN</td>\n",
       "      <td>NaN</td>\n",
       "      <td>NaN</td>\n",
       "      <td>NaN</td>\n",
       "      <td>0.000000</td>\n",
       "      <td>0.000000</td>\n",
       "    </tr>\n",
       "    <tr>\n",
       "      <th>25%</th>\n",
       "      <td>NaN</td>\n",
       "      <td>NaN</td>\n",
       "      <td>NaN</td>\n",
       "      <td>NaN</td>\n",
       "      <td>NaN</td>\n",
       "      <td>NaN</td>\n",
       "      <td>NaN</td>\n",
       "      <td>0.200000</td>\n",
       "      <td>2.000000</td>\n",
       "    </tr>\n",
       "    <tr>\n",
       "      <th>50%</th>\n",
       "      <td>NaN</td>\n",
       "      <td>NaN</td>\n",
       "      <td>NaN</td>\n",
       "      <td>NaN</td>\n",
       "      <td>NaN</td>\n",
       "      <td>NaN</td>\n",
       "      <td>NaN</td>\n",
       "      <td>0.276315</td>\n",
       "      <td>5.000000</td>\n",
       "    </tr>\n",
       "    <tr>\n",
       "      <th>75%</th>\n",
       "      <td>NaN</td>\n",
       "      <td>NaN</td>\n",
       "      <td>NaN</td>\n",
       "      <td>NaN</td>\n",
       "      <td>NaN</td>\n",
       "      <td>NaN</td>\n",
       "      <td>NaN</td>\n",
       "      <td>0.516009</td>\n",
       "      <td>9.000000</td>\n",
       "    </tr>\n",
       "    <tr>\n",
       "      <th>max</th>\n",
       "      <td>NaN</td>\n",
       "      <td>NaN</td>\n",
       "      <td>NaN</td>\n",
       "      <td>NaN</td>\n",
       "      <td>NaN</td>\n",
       "      <td>NaN</td>\n",
       "      <td>NaN</td>\n",
       "      <td>1.921053</td>\n",
       "      <td>50.000000</td>\n",
       "    </tr>\n",
       "  </tbody>\n",
       "</table>\n",
       "</div>"
      ],
      "text/plain": [
       "        date_local  state_name  county_name      city_name local_site_name  \\\n",
       "count          260         260          260            260             257   \n",
       "unique           1          52          149            190             253   \n",
       "top     2018-01-01  California  Los Angeles  Not in a city         Kapolei   \n",
       "freq           260          66           14             21               2   \n",
       "mean           NaN         NaN          NaN            NaN             NaN   \n",
       "std            NaN         NaN          NaN            NaN             NaN   \n",
       "min            NaN         NaN          NaN            NaN             NaN   \n",
       "25%            NaN         NaN          NaN            NaN             NaN   \n",
       "50%            NaN         NaN          NaN            NaN             NaN   \n",
       "75%            NaN         NaN          NaN            NaN             NaN   \n",
       "max            NaN         NaN          NaN            NaN             NaN   \n",
       "\n",
       "         parameter_name   units_of_measure  arithmetic_mean         aqi  \n",
       "count               260                260       260.000000  260.000000  \n",
       "unique                1                  1              NaN         NaN  \n",
       "top     Carbon monoxide  Parts per million              NaN         NaN  \n",
       "freq                260                260              NaN         NaN  \n",
       "mean                NaN                NaN         0.403169    6.757692  \n",
       "std                 NaN                NaN         0.317902    7.061707  \n",
       "min                 NaN                NaN         0.000000    0.000000  \n",
       "25%                 NaN                NaN         0.200000    2.000000  \n",
       "50%                 NaN                NaN         0.276315    5.000000  \n",
       "75%                 NaN                NaN         0.516009    9.000000  \n",
       "max                 NaN                NaN         1.921053   50.000000  "
      ]
     },
     "execution_count": 7,
     "metadata": {},
     "output_type": "execute_result"
    }
   ],
   "source": [
    "aqi.describe(include='all')"
   ]
  },
  {
   "cell_type": "code",
   "execution_count": 120,
   "id": "1a8f76b1-9b00-4603-9869-d4990b6c9ce5",
   "metadata": {},
   "outputs": [
    {
     "data": {
      "text/plain": [
       "state_name\n",
       "California    66\n",
       "Arizona       14\n",
       "Ohio          12\n",
       "Florida       12\n",
       "Texas         10\n",
       "Name: count, dtype: int64"
      ]
     },
     "execution_count": 120,
     "metadata": {},
     "output_type": "execute_result"
    }
   ],
   "source": [
    "aqi['state_name'].value_counts().head()"
   ]
  },
  {
   "cell_type": "markdown",
   "id": "416b05cc-dfdb-414e-b8dd-4df5842f1d80",
   "metadata": {},
   "source": [
    "#### 1.4 Statistical Tests"
   ]
  },
  {
   "cell_type": "markdown",
   "id": "571e800f-b90d-47d6-9382-f53b25cda1c7",
   "metadata": {},
   "source": [
    "#### 1.4.1 Hypothesis 1 : ROA is considering a metropolitan-focused approach within California, they want to know if the mean AQI in Los Angeles County is statistically different from the rest of California.a."
   ]
  },
  {
   "cell_type": "markdown",
   "id": "5c4f52ff-189f-4f79-bf32-4b1ce4bcfcd8",
   "metadata": {},
   "source": [
    "##### • H0:  There is no difference in the mean AQI between Los Angeles County and the rest of California. \n",
    "##### • HA: There is a difference in the mean AQI between Los Angeles County and the rest of California."
   ]
  },
  {
   "cell_type": "code",
   "execution_count": 17,
   "id": "1280d68d-c280-41f8-b156-a07c4712044d",
   "metadata": {},
   "outputs": [],
   "source": [
    "ca_la = aqi[aqi['county_name'] == 'Los Angeles']\n",
    "ca_other = aqi[(aqi['state_name'] == 'California') & (aqi['county_name'] != 'Los Angeles')]"
   ]
  },
  {
   "cell_type": "code",
   "execution_count": 23,
   "id": "1fb438f8-ec33-4d1a-82fa-6dad0f548644",
   "metadata": {},
   "outputs": [],
   "source": [
    "sig_level = 0.05"
   ]
  },
  {
   "cell_type": "code",
   "execution_count": 25,
   "id": "1b99f210-dd64-4b29-b17e-6f1314d9454b",
   "metadata": {},
   "outputs": [
    {
     "data": {
      "text/plain": [
       "TtestResult(statistic=2.1107010796372014, pvalue=0.049839056842410995, df=17.08246830361151)"
      ]
     },
     "execution_count": 25,
     "metadata": {},
     "output_type": "execute_result"
    }
   ],
   "source": [
    "stats.ttest_ind(a=ca_la['aqi'] , b=ca_other['aqi'] , equal_var = False)"
   ]
  },
  {
   "cell_type": "markdown",
   "id": "8427f848-30ad-4997-9928-0e0b2759553b",
   "metadata": {},
   "source": [
    "#### Since the p value = 0.049 is less than the significance level the null hypothesis is rejected. There is difference between aqi between LA county and rest of CA"
   ]
  },
  {
   "cell_type": "markdown",
   "id": "53c945a9-bbb7-41f7-9b4c-12aff2c8ee29",
   "metadata": {},
   "source": [
    "#### 1.4.2 Hypothesis 2: With limited resources, ROA has to choose between New York and Ohio for their next regional office. Does New York have a lower AQI than Ohio?o?"
   ]
  },
  {
   "cell_type": "markdown",
   "id": "d1cb8d05-f833-4069-aca2-3d86864c030f",
   "metadata": {},
   "source": [
    "##### • H0: The mean AQI of New York is greater than or equal to that of Ohio. \n",
    "##### • HA: The mean AQI of New York is below that of Ohio.."
   ]
  },
  {
   "cell_type": "code",
   "execution_count": 50,
   "id": "a5ba707a-31b0-463a-9669-33ae0f194c92",
   "metadata": {},
   "outputs": [],
   "source": [
    "aqi_ny = aqi[aqi['state_name'] == 'New York']\n",
    "aqi_ohio = aqi[aqi['state_name'] == 'Ohio']"
   ]
  },
  {
   "cell_type": "code",
   "execution_count": 105,
   "id": "65902015-52ae-412c-b06f-36aa61eace8a",
   "metadata": {},
   "outputs": [
    {
     "data": {
      "text/plain": [
       "2.5"
      ]
     },
     "execution_count": 105,
     "metadata": {},
     "output_type": "execute_result"
    }
   ],
   "source": [
    "meanny = aqi_ny['aqi'].mean()\n",
    "meanny"
   ]
  },
  {
   "cell_type": "code",
   "execution_count": 107,
   "id": "2c5460af-c1f9-4f91-ab32-7803c950d16e",
   "metadata": {},
   "outputs": [
    {
     "data": {
      "text/plain": [
       "3.3333333333333335"
      ]
     },
     "execution_count": 107,
     "metadata": {},
     "output_type": "execute_result"
    }
   ],
   "source": [
    "meanohio = aqi_ohio['aqi'].mean()\n",
    "meanohio"
   ]
  },
  {
   "cell_type": "code",
   "execution_count": 91,
   "id": "656fa477-a605-433b-93f7-7863f4a8696f",
   "metadata": {},
   "outputs": [
    {
     "name": "stdout",
     "output_type": "stream",
     "text": [
      " Test Statistice value:  -2.025951038880333 \n",
      " P value:  0.03044650269193468\n"
     ]
    }
   ],
   "source": [
    "tstat1,pvalue1 = stats.ttest_ind(a=aqi_ny['aqi'] , b=aqi_ohio['aqi'] , equal_var = False, alternative = 'less')\n",
    "print(' Test Statistice value: ',tstat1,'\\n','P value: ',pvalue1)"
   ]
  },
  {
   "cell_type": "markdown",
   "id": "44c45ae1-bafb-4233-8527-bddc14e1d5af",
   "metadata": {},
   "source": [
    "#### Since the p value = 0.0304 is less than the significance level the null hypothesis is rejected. The mean aqi of NY is below than that of ohio"
   ]
  },
  {
   "cell_type": "markdown",
   "id": "8c633500-7776-49d9-ba67-014331f51c65",
   "metadata": {},
   "source": [
    "#### 1.4.3 Hypothesis 3: A new policy will affect those states with a mean AQI of 10 or greater. Will Michigan be affected by this new policy??"
   ]
  },
  {
   "cell_type": "markdown",
   "id": "f0cfa03c-85f7-42ff-8ed8-a32eb8e0953b",
   "metadata": {},
   "source": [
    "##### • H0: The mean AQI of Michigan is less than or equal to 10.\n",
    "##### • HA: The mean AQI of Michigan is greater than 10.."
   ]
  },
  {
   "cell_type": "code",
   "execution_count": 89,
   "id": "fcb6266c-c6de-4eb9-9698-a83ad40fa830",
   "metadata": {},
   "outputs": [],
   "source": [
    "aqi_michigan = aqi[aqi['state_name'] == 'Michigan']"
   ]
  },
  {
   "cell_type": "code",
   "execution_count": 98,
   "id": "0ed3d7b1-864c-4ae9-aa9e-1fe4ae6da9ea",
   "metadata": {},
   "outputs": [
    {
     "data": {
      "text/plain": [
       "8.11111111111111"
      ]
     },
     "execution_count": 98,
     "metadata": {},
     "output_type": "execute_result"
    }
   ],
   "source": [
    "mean = aqi_michigan['aqi'].mean()\n",
    "mean"
   ]
  },
  {
   "cell_type": "code",
   "execution_count": 102,
   "id": "0bd3e97f-abec-4018-afc3-8d2912897d1d",
   "metadata": {},
   "outputs": [
    {
     "name": "stdout",
     "output_type": "stream",
     "text": [
      " Test Statistice value:  -1.7395913343286131 \n",
      " P value:  0.9399405193140109\n"
     ]
    }
   ],
   "source": [
    "tstat2,pvalue2 = stats.ttest_1samp(a = aqi_michigan['aqi'], popmean = 10, alternative = 'greater')\n",
    "print(' Test Statistice value: ',tstat2,'\\n','P value: ',pvalue2)"
   ]
  },
  {
   "cell_type": "markdown",
   "id": "e29e3948-416b-4db2-b9e1-513510c63152",
   "metadata": {},
   "source": [
    "#### Since the p value = 0.939 is greater the null hypothesis is accepted. Therefore the mean aqi of michigan is less than 10 or equal to 10. Michigan will not be affected by the new policy"
   ]
  }
 ],
 "metadata": {
  "kernelspec": {
   "display_name": "Python 3 (ipykernel)",
   "language": "python",
   "name": "python3"
  },
  "language_info": {
   "codemirror_mode": {
    "name": "ipython",
    "version": 3
   },
   "file_extension": ".py",
   "mimetype": "text/x-python",
   "name": "python",
   "nbconvert_exporter": "python",
   "pygments_lexer": "ipython3",
   "version": "3.12.4"
  }
 },
 "nbformat": 4,
 "nbformat_minor": 5
}
