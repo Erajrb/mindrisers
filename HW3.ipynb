{
 "cells": [
  {
   "cell_type": "markdown",
   "id": "d1f5575b-6005-407f-993b-ca3af05344aa",
   "metadata": {},
   "source": [
    "## <font color = 'red'> Homework 3"
   ]
  },
  {
   "cell_type": "markdown",
   "id": "c0e1b683-522e-44d5-9f39-f95191ad9cee",
   "metadata": {},
   "source": [
    "#### Exercise 1"
   ]
  },
  {
   "cell_type": "markdown",
   "id": "17e27941-9e5c-465d-b693-e56e6cace81e",
   "metadata": {},
   "source": [
    "##### Rewrite pay computation using function called computepay "
   ]
  },
  {
   "cell_type": "code",
   "execution_count": 16,
   "id": "67821ee1-5caa-413b-b807-bd504a4c6a35",
   "metadata": {},
   "outputs": [
    {
     "name": "stdin",
     "output_type": "stream",
     "text": [
      "Enter the hours of work:  45\n",
      "Enter the hourly rate of pay:  10\n"
     ]
    },
    {
     "name": "stdout",
     "output_type": "stream",
     "text": [
      "The gross payment for  45.0 hours is 475.0\n",
      "475.0\n"
     ]
    }
   ],
   "source": [
    "def computepay(hours,rate):\n",
    "    if hours > 40 :\n",
    "        pay = (40 * rate) + ((hours - 40) * (rate * 1.5))\n",
    "        print('The gross payment for ',hours,'hours is',pay)\n",
    "    else:\n",
    "        pay = hours * rate\n",
    "        print('The gross payment for ',hours,'hours is',pay)\n",
    "    return pay\n",
    "\n",
    "hours = float(input('Enter the hours of work: '))\n",
    "rate = float(input('Enter the hourly rate of pay: '))\n",
    "print (computepay(hours,rate))"
   ]
  },
  {
   "cell_type": "markdown",
   "id": "776b3ccd-249b-4568-9c45-d835e5780a6f",
   "metadata": {},
   "source": [
    "#### Exercise 2"
   ]
  },
  {
   "cell_type": "markdown",
   "id": "4f0a3ce0-acc4-42ce-ba8d-cfffc78f2407",
   "metadata": {},
   "source": [
    "##### Rewrite the grade program using function called computegrade "
   ]
  },
  {
   "cell_type": "code",
   "execution_count": 30,
   "id": "0c137d6f-7c27-4b2c-8775-245305c03c4b",
   "metadata": {},
   "outputs": [
    {
     "name": "stdin",
     "output_type": "stream",
     "text": [
      "Enter a score:  0.7\n"
     ]
    },
    {
     "name": "stdout",
     "output_type": "stream",
     "text": [
      "C\n"
     ]
    }
   ],
   "source": [
    "def computegrade(score):\n",
    "    if score >= 0.9 and score <= 1.0:\n",
    "        return ('A')\n",
    "    elif score >= 0.8 and score < 0.9:\n",
    "         ('B')\n",
    "    elif score >= 0.7 and score < 0.8:\n",
    "        return ('C')\n",
    "    elif score >= 0.6 and score < 0.7:\n",
    "        return ('D')\n",
    "    elif score < 0.6 and score > 0.1:\n",
    "        return ('F')\n",
    "    else:\n",
    "        return ('Bad Score')\n",
    "\n",
    "score = float(input('Enter a score: '))\n",
    "print(computegrade(score))"
   ]
  }
 ],
 "metadata": {
  "kernelspec": {
   "display_name": "Python 3 (ipykernel)",
   "language": "python",
   "name": "python3"
  },
  "language_info": {
   "codemirror_mode": {
    "name": "ipython",
    "version": 3
   },
   "file_extension": ".py",
   "mimetype": "text/x-python",
   "name": "python",
   "nbconvert_exporter": "python",
   "pygments_lexer": "ipython3",
   "version": "3.12.4"
  }
 },
 "nbformat": 4,
 "nbformat_minor": 5
}
