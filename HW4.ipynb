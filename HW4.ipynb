{
 "cells": [
  {
   "cell_type": "markdown",
   "id": "36940607-dcb7-4a42-b3a9-c6844a044e9f",
   "metadata": {},
   "source": [
    "### <font color = 'red'> Homework 4"
   ]
  },
  {
   "cell_type": "markdown",
   "id": "495179a6-5e4d-4377-aaf6-e36275779452",
   "metadata": {},
   "source": [
    "##### Write a program which repeatedly reads numbers until the user enters \"done\". Once \"done\" is entered, print out the total, count and average of the numbers input. if the user enters anything other than a number, detect their mistake using try and except and print an error message and skip to the next number.\n"
   ]
  },
  {
   "cell_type": "code",
   "execution_count": 3,
   "id": "d387ad92-5cc9-47f5-a47e-69fadf5e31d1",
   "metadata": {
    "scrolled": true
   },
   "outputs": [
    {
     "name": "stdin",
     "output_type": "stream",
     "text": [
      "Enter number or \"done\" to finish: 1\n",
      "Enter number or \"done\" to finish: 2\n",
      "Enter number or \"done\" to finish: 3\n",
      "Enter number or \"done\" to finish: 4\n",
      "Enter number or \"done\" to finish: 5\n",
      "Enter number or \"done\" to finish: done\n"
     ]
    },
    {
     "name": "stdout",
     "output_type": "stream",
     "text": [
      "The total of all the input numbers is:  15.0\n",
      "The number of inputs by the user is:  5\n",
      "The average of all the input numbers is:  3.0\n"
     ]
    }
   ],
   "source": [
    "total = 0\n",
    "count = 0\n",
    "while True:\n",
    "    user_input = input('Enter number or \"done\" to finish:')\n",
    "    if user_input == 'done':\n",
    "        break\n",
    "    try:\n",
    "        num = float(user_input)\n",
    "    except ValueError:\n",
    "        print('Please enter a number to proceed or done to end')\n",
    "        continue\n",
    "    total += num\n",
    "    count += 1\n",
    "\n",
    "if count == 0:\n",
    "    average = 0\n",
    "else:\n",
    "    average = total/count\n",
    "\n",
    "print('The total of all the input numbers is: ',total)\n",
    "print('The number of inputs by the user is: ', count)\n",
    "print('The average of all the input numbers is: ',average)\n",
    "    "
   ]
  },
  {
   "cell_type": "code",
   "execution_count": 20,
   "id": "6ee672d4-2247-4058-ac9f-9ec22dd8d078",
   "metadata": {},
   "outputs": [
    {
     "name": "stdin",
     "output_type": "stream",
     "text": [
      "Enter number or \"done\" to finish: 1\n",
      "Enter number or \"done\" to finish: 2\n",
      "Enter number or \"done\" to finish: 3\n",
      "Enter number or \"done\" to finish: 4\n",
      "Enter number or \"done\" to finish: 5\n",
      "Enter number or \"done\" to finish: done\n"
     ]
    },
    {
     "name": "stdout",
     "output_type": "stream",
     "text": [
      "The total of all the input numbers is:  15.0\n",
      "The number of inputs by the user is:  5\n",
      "The average of all the input numbers is:  3.0\n"
     ]
    }
   ],
   "source": [
    "numbers = []\n",
    "while True:\n",
    "    user_input = input('Enter number or \"done\" to finish:')\n",
    "    if user_input == 'done':\n",
    "        break\n",
    "    try:\n",
    "        num = float(user_input)\n",
    "    except ValueError:\n",
    "        print('Please enter a number to proceed or done to end')\n",
    "        continue\n",
    "    numbers.append(num)\n",
    "    \n",
    "average = sum(numbers)/len(numbers)\n",
    "print('The total of all the input numbers is: ',sum(numbers))\n",
    "print('The number of inputs by the user is: ', len(numbers))\n",
    "print('The average of all the input numbers is: ',average)"
   ]
  },
  {
   "cell_type": "markdown",
   "id": "f06b1453-ce0d-4bfa-986b-2611051fb250",
   "metadata": {},
   "source": [
    "##### Write a program that prompts for a list of numbers as above and at the end prints the maximum and minimum "
   ]
  },
  {
   "cell_type": "code",
   "execution_count": 22,
   "id": "7d4595c3-6545-4883-aec8-cb08a6eea760",
   "metadata": {},
   "outputs": [
    {
     "name": "stdin",
     "output_type": "stream",
     "text": [
      "Enter number or \"done\" to finish: 5\n",
      "Enter number or \"done\" to finish: 4\n",
      "Enter number or \"done\" to finish: 3\n",
      "Enter number or \"done\" to finish: 2\n",
      "Enter number or \"done\" to finish: 1\n",
      "Enter number or \"done\" to finish: done\n"
     ]
    },
    {
     "name": "stdout",
     "output_type": "stream",
     "text": [
      "The maximum of all the input numbers is:  5.0\n",
      "The minimum of all the input numbers is:  1.0\n"
     ]
    }
   ],
   "source": [
    "numbers = []\n",
    "while True:\n",
    "    user_input = input('Enter number or \"done\" to finish:')\n",
    "    if user_input == 'done':\n",
    "        break\n",
    "    try:\n",
    "        num = float(user_input)\n",
    "    except ValueError:\n",
    "        print('Please enter a number to proceed or done to end')\n",
    "        continue\n",
    "    numbers.append(num)\n",
    "    \n",
    "print('The maximum of all the input numbers is: ',max(numbers))\n",
    "print('The minimum of all the input numbers is: ',min(numbers))"
   ]
  }
 ],
 "metadata": {
  "kernelspec": {
   "display_name": "Python 3 (ipykernel)",
   "language": "python",
   "name": "python3"
  },
  "language_info": {
   "codemirror_mode": {
    "name": "ipython",
    "version": 3
   },
   "file_extension": ".py",
   "mimetype": "text/x-python",
   "name": "python",
   "nbconvert_exporter": "python",
   "pygments_lexer": "ipython3",
   "version": "3.12.4"
  }
 },
 "nbformat": 4,
 "nbformat_minor": 5
}
