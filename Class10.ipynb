{
 "cells": [
  {
   "cell_type": "markdown",
   "id": "d0edec50-e495-48ae-bbd2-66f3ae93c617",
   "metadata": {},
   "source": [
    "### <font color = 'red'> Class 10"
   ]
  },
  {
   "cell_type": "markdown",
   "id": "d91f975e-404c-4bf4-a1e7-0a29d3dc04ff",
   "metadata": {},
   "source": [
    "#### Numpy functions"
   ]
  },
  {
   "cell_type": "code",
   "execution_count": 17,
   "id": "03dd0229-c213-4a39-b52c-8fdcc31bb60b",
   "metadata": {},
   "outputs": [],
   "source": [
    "import numpy as np"
   ]
  },
  {
   "cell_type": "code",
   "execution_count": 6,
   "id": "68cdefb6-384e-4692-84b5-fec150ad5a6a",
   "metadata": {},
   "outputs": [
    {
     "data": {
      "text/plain": [
       "45"
      ]
     },
     "execution_count": 6,
     "metadata": {},
     "output_type": "execute_result"
    }
   ],
   "source": [
    "arr = np.arange(1,10)\n",
    "np.add.reduce(arr)"
   ]
  },
  {
   "cell_type": "code",
   "execution_count": 10,
   "id": "ef08a48d-37ad-4940-82d5-419d2a92c1e1",
   "metadata": {},
   "outputs": [
    {
     "data": {
      "text/plain": [
       "362880"
      ]
     },
     "execution_count": 10,
     "metadata": {},
     "output_type": "execute_result"
    }
   ],
   "source": [
    "np.multiply.reduce(arr)"
   ]
  },
  {
   "cell_type": "code",
   "execution_count": 12,
   "id": "1d774f10-9a35-42b9-8a3b-6f86fd77741b",
   "metadata": {},
   "outputs": [
    {
     "data": {
      "text/plain": [
       "array([ 1,  3,  6, 10, 15, 21, 28, 36, 45])"
      ]
     },
     "execution_count": 12,
     "metadata": {},
     "output_type": "execute_result"
    }
   ],
   "source": [
    "np.add.accumulate(arr)"
   ]
  },
  {
   "cell_type": "code",
   "execution_count": 19,
   "id": "93450f7c-27bc-43ff-bdc9-86a78ffb6af5",
   "metadata": {},
   "outputs": [
    {
     "data": {
      "text/plain": [
       "25.477462077113408"
      ]
     },
     "execution_count": 19,
     "metadata": {},
     "output_type": "execute_result"
    }
   ],
   "source": [
    "arr = np.random.random(50)\n",
    "sum(arr)"
   ]
  },
  {
   "cell_type": "code",
   "execution_count": 21,
   "id": "7b550146-7999-40ab-976d-6363f405f45c",
   "metadata": {},
   "outputs": [
    {
     "data": {
      "text/plain": [
       "25.47746207711341"
      ]
     },
     "execution_count": 21,
     "metadata": {},
     "output_type": "execute_result"
    }
   ],
   "source": [
    "np.sum(arr)"
   ]
  },
  {
   "cell_type": "code",
   "execution_count": 31,
   "id": "4b24f89d-72fa-4b5d-a10b-068fb538869e",
   "metadata": {},
   "outputs": [
    {
     "name": "stdout",
     "output_type": "stream",
     "text": [
      "190 ms ± 588 μs per loop (mean ± std. dev. of 7 runs, 10 loops each)\n",
      "1.46 ms ± 22.9 μs per loop (mean ± std. dev. of 7 runs, 1,000 loops each)\n"
     ]
    }
   ],
   "source": [
    "big_arr = np.random.rand(1000000)\n",
    "%timeit sum(big_arr)\n",
    "%timeit np.sum(big_arr)"
   ]
  },
  {
   "cell_type": "markdown",
   "id": "7d40263c-3f3b-4242-8b38-7711e7020b96",
   "metadata": {},
   "source": [
    "##### Therefore we use numpy for the time efficiency compared to python inbuilt fxns"
   ]
  },
  {
   "cell_type": "code",
   "execution_count": 34,
   "id": "c7e62a8f-fef9-4176-be0d-c49abf901b8a",
   "metadata": {},
   "outputs": [
    {
     "data": {
      "text/plain": [
       "3.357031811423994e-07"
      ]
     },
     "execution_count": 34,
     "metadata": {},
     "output_type": "execute_result"
    }
   ],
   "source": [
    "min(big_arr)"
   ]
  },
  {
   "cell_type": "code",
   "execution_count": 36,
   "id": "b11256bf-1508-4930-8ba3-dd77433394e3",
   "metadata": {},
   "outputs": [
    {
     "data": {
      "text/plain": [
       "0.9999992810145311"
      ]
     },
     "execution_count": 36,
     "metadata": {},
     "output_type": "execute_result"
    }
   ],
   "source": [
    "max(big_arr)"
   ]
  },
  {
   "cell_type": "code",
   "execution_count": 38,
   "id": "fcdb0c3c-de61-4ddb-877f-92c73d366acd",
   "metadata": {},
   "outputs": [
    {
     "data": {
      "text/plain": [
       "3.357031811423994e-07"
      ]
     },
     "execution_count": 38,
     "metadata": {},
     "output_type": "execute_result"
    }
   ],
   "source": [
    "np.min(big_arr)"
   ]
  },
  {
   "cell_type": "code",
   "execution_count": 40,
   "id": "6205bca4-fc14-4962-ac40-b36caedaf516",
   "metadata": {},
   "outputs": [
    {
     "data": {
      "text/plain": [
       "0.9999992810145311"
      ]
     },
     "execution_count": 40,
     "metadata": {},
     "output_type": "execute_result"
    }
   ],
   "source": [
    "np.max(big_arr)"
   ]
  },
  {
   "cell_type": "markdown",
   "id": "933e1258-f295-49f9-b521-e3e323f194b9",
   "metadata": {},
   "source": [
    "### Reading and using csv as dataframe"
   ]
  },
  {
   "cell_type": "code",
   "execution_count": 43,
   "id": "1ea0973c-aa69-4061-8c0d-bddfba81c6de",
   "metadata": {},
   "outputs": [],
   "source": [
    "import pandas as pd"
   ]
  },
  {
   "cell_type": "code",
   "execution_count": 97,
   "id": "68a5455e-0eda-4ef1-bc6f-ead749a11d43",
   "metadata": {},
   "outputs": [
    {
     "data": {
      "text/html": [
       "<div>\n",
       "<style scoped>\n",
       "    .dataframe tbody tr th:only-of-type {\n",
       "        vertical-align: middle;\n",
       "    }\n",
       "\n",
       "    .dataframe tbody tr th {\n",
       "        vertical-align: top;\n",
       "    }\n",
       "\n",
       "    .dataframe thead th {\n",
       "        text-align: right;\n",
       "    }\n",
       "</style>\n",
       "<table border=\"1\" class=\"dataframe\">\n",
       "  <thead>\n",
       "    <tr style=\"text-align: right;\">\n",
       "      <th></th>\n",
       "      <th>order</th>\n",
       "      <th>name</th>\n",
       "      <th>height(cm)</th>\n",
       "    </tr>\n",
       "  </thead>\n",
       "  <tbody>\n",
       "    <tr>\n",
       "      <th>0</th>\n",
       "      <td>1</td>\n",
       "      <td>George Washington</td>\n",
       "      <td>189</td>\n",
       "    </tr>\n",
       "    <tr>\n",
       "      <th>1</th>\n",
       "      <td>2</td>\n",
       "      <td>John Adams</td>\n",
       "      <td>170</td>\n",
       "    </tr>\n",
       "    <tr>\n",
       "      <th>2</th>\n",
       "      <td>3</td>\n",
       "      <td>Thomas Jefferson</td>\n",
       "      <td>189</td>\n",
       "    </tr>\n",
       "    <tr>\n",
       "      <th>3</th>\n",
       "      <td>4</td>\n",
       "      <td>James Madison</td>\n",
       "      <td>163</td>\n",
       "    </tr>\n",
       "    <tr>\n",
       "      <th>4</th>\n",
       "      <td>5</td>\n",
       "      <td>James Monroe</td>\n",
       "      <td>183</td>\n",
       "    </tr>\n",
       "  </tbody>\n",
       "</table>\n",
       "</div>"
      ],
      "text/plain": [
       "   order               name  height(cm)\n",
       "0      1  George Washington         189\n",
       "1      2         John Adams         170\n",
       "2      3   Thomas Jefferson         189\n",
       "3      4      James Madison         163\n",
       "4      5       James Monroe         183"
      ]
     },
     "execution_count": 97,
     "metadata": {},
     "output_type": "execute_result"
    }
   ],
   "source": [
    "data = pd.read_csv('president_heights.csv')\n",
    "data[:5]"
   ]
  },
  {
   "cell_type": "markdown",
   "id": "3ad13f68-6a21-400c-96bf-cc4cbe702884",
   "metadata": {},
   "source": [
    "##### Get data of height(cm) column and make a numpy array"
   ]
  },
  {
   "cell_type": "code",
   "execution_count": 101,
   "id": "818101e3-2bb7-483d-8098-4871478d291f",
   "metadata": {},
   "outputs": [
    {
     "data": {
      "text/plain": [
       "array([189, 170, 189, 163, 183, 171, 185, 168, 173, 183, 173, 173, 175,\n",
       "       178, 183, 193, 178, 173, 174, 183, 183, 168, 170, 178, 182, 180,\n",
       "       183, 178, 182, 188, 175, 179, 183, 193, 182, 183, 177, 185, 188,\n",
       "       188, 182, 185], dtype=int64)"
      ]
     },
     "execution_count": 101,
     "metadata": {},
     "output_type": "execute_result"
    }
   ],
   "source": [
    "heights = np.array(data['height(cm)'])\n",
    "heights"
   ]
  },
  {
   "cell_type": "code",
   "execution_count": 104,
   "id": "9a216776-1a6d-434f-83a5-081ea5beee83",
   "metadata": {},
   "outputs": [
    {
     "data": {
      "text/plain": [
       "numpy.ndarray"
      ]
     },
     "execution_count": 104,
     "metadata": {},
     "output_type": "execute_result"
    }
   ],
   "source": [
    "type(heights)"
   ]
  },
  {
   "cell_type": "code",
   "execution_count": 108,
   "id": "24cfbb7a-2b2d-4449-9433-e8c3ce38834b",
   "metadata": {},
   "outputs": [
    {
     "name": "stdout",
     "output_type": "stream",
     "text": [
      "Mean height: \t 179.73809523809524\n",
      "Standard Deviation: \t 6.931843442745892\n",
      "Minimum height: \t 163\n",
      "Maximum height: \t 193\n"
     ]
    }
   ],
   "source": [
    "print('Mean height: \\t',heights.mean())\n",
    "print('Standard Deviation: \\t',heights.std())\n",
    "print('Minimum height: \\t',heights.min())\n",
    "print('Maximum height: \\t',heights.max())"
   ]
  },
  {
   "cell_type": "markdown",
   "id": "88ee8c56-6fe2-41f1-be0a-1716b1bee793",
   "metadata": {},
   "source": [
    "#### Using matplotlib to plot histogram of heights of US Presidents"
   ]
  },
  {
   "cell_type": "code",
   "execution_count": 116,
   "id": "543d8c0d-4c2c-4699-bdd2-850b3e8abe65",
   "metadata": {},
   "outputs": [],
   "source": [
    "%matplotlib inline \n",
    "import matplotlib.pyplot as plt\n",
    "import seaborn; seaborn.set()"
   ]
  },
  {
   "cell_type": "code",
   "execution_count": 118,
   "id": "2b84c6fd-5ea2-4522-b61c-d9ce71815f6b",
   "metadata": {},
   "outputs": [
    {
     "data": {
      "text/plain": [
       "Text(0, 0.5, 'number')"
      ]
     },
     "execution_count": 118,
     "metadata": {},
     "output_type": "execute_result"
    },
    {
     "data": {
      "image/png": "[encoded data removed]",
      "text/plain": [
       "<Figure size 640x480 with 1 Axes>"
      ]
     },
     "metadata": {},
     "output_type": "display_data"
    }
   ],
   "source": [
    "plt.hist(heights)\n",
    "plt.title('Height Distribution of Us Presidents')\n",
    "plt.xlabel('heights(cm)')\n",
    "plt.ylabel('number')"
   ]
  },
  {
   "cell_type": "code",
   "execution_count": null,
   "id": "066776bb-ed70-4945-ab76-e764d826cfa5",
   "metadata": {},
   "outputs": [],
   "source": []
  }
 ],
 "metadata": {
  "kernelspec": {
   "display_name": "Python 3 (ipykernel)",
   "language": "python",
   "name": "python3"
  },
  "language_info": {
   "codemirror_mode": {
    "name": "ipython",
    "version": 3
   },
   "file_extension": ".py",
   "mimetype": "text/x-python",
   "name": "python",
   "nbconvert_exporter": "python",
   "pygments_lexer": "ipython3",
   "version": "3.12.4"
  }
 },
 "nbformat": 4,
 "nbformat_minor": 5
}
